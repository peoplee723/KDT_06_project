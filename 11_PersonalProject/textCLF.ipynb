{
 "cells": [
  {
   "cell_type": "markdown",
   "metadata": {
    "vscode": {
     "languageId": "plaintext"
    }
   },
   "source": [
    "#### 문장 분류 모델\n"
   ]
  },
  {
   "cell_type": "markdown",
   "metadata": {},
   "source": [
    "[1] 데이터 불러오기 + 전처리<hr>\n",
    "- 데이터 불러오기\n",
    "- 문장 분리기 실행"
   ]
  },
  {
   "cell_type": "code",
   "execution_count": 1,
   "metadata": {},
   "outputs": [],
   "source": [
    "import pandas as pd\n",
    "import re\n",
    "import numpy as np"
   ]
  },
  {
   "cell_type": "code",
   "execution_count": 2,
   "metadata": {},
   "outputs": [],
   "source": [
    "# 불필요한 컬럼 제외하고 가져오기\n",
    "dataDF= pd.read_csv('./분류정보.csv')\n",
    "\n",
    "def make_kor(file, count):\n",
    "    filterDF=pd.DataFrame()\n",
    "    dataDF=pd.read_csv(file)         # 파일 읽기\n",
    "    all=[]\n",
    "    for text in dataDF['text']:\n",
    "        a= re.sub('[^ㄱ-ㅎ가-힣.]+',' ',text)         #한글만 남겨놓기\n",
    "        all.append(a)\n",
    "    filterDF['text']=all\n",
    "    filterDF['label']=count\n",
    "    return filterDF"
   ]
  },
  {
   "cell_type": "code",
   "execution_count": 3,
   "metadata": {},
   "outputs": [
    {
     "name": "stdout",
     "output_type": "stream",
     "text": [
      "<class 'pandas.core.frame.DataFrame'>\n",
      "Index: 249 entries, 0 to 253\n",
      "Data columns (total 2 columns):\n",
      " #   Column  Non-Null Count  Dtype \n",
      "---  ------  --------------  ----- \n",
      " 0   text    249 non-null    object\n",
      " 1   label   249 non-null    int64 \n",
      "dtypes: int64(1), object(1)\n",
      "memory usage: 5.8+ KB\n"
     ]
    }
   ],
   "source": [
    "# 결측치 중복치 제거\n",
    "\n",
    "dataDF=dataDF.dropna()\n",
    "dataDF.info()"
   ]
  },
  {
   "cell_type": "code",
   "execution_count": 4,
   "metadata": {},
   "outputs": [
    {
     "data": {
      "text/plain": [
       "label\n",
       "0    127\n",
       "1    122\n",
       "Name: count, dtype: int64"
      ]
     },
     "execution_count": 4,
     "metadata": {},
     "output_type": "execute_result"
    }
   ],
   "source": [
    "\n",
    "dataDF['label'].value_counts()"
   ]
  },
  {
   "cell_type": "markdown",
   "metadata": {},
   "source": [
    "[2] 데이터 토큰화 및 불용어 제거 후 단어사전 생성<hr>"
   ]
  },
  {
   "cell_type": "code",
   "execution_count": 16,
   "metadata": {},
   "outputs": [],
   "source": [
    "from konlpy.tag import Okt\n",
    "from collections import Counter\n",
    "from NLPfunc import *"
   ]
  },
  {
   "cell_type": "code",
   "execution_count": 17,
   "metadata": {},
   "outputs": [
    {
     "data": {
      "text/plain": [
       "249"
      ]
     },
     "execution_count": 17,
     "metadata": {},
     "output_type": "execute_result"
    }
   ],
   "source": [
    "len(dataDF)"
   ]
  },
  {
   "cell_type": "code",
   "execution_count": 18,
   "metadata": {},
   "outputs": [
    {
     "name": "stdout",
     "output_type": "stream",
     "text": [
      "Index([ 65,  59, 194, 112, 192, 169, 152, 203, 214, 173,\n",
      "       ...\n",
      "       100, 211, 141, 129, 159, 132, 108, 155, 130,  86],\n",
      "      dtype='int64', length=224)\n"
     ]
    }
   ],
   "source": [
    "# 학습, 테스트 분리 후 DS\n",
    "dataDF=dataDF.reset_index(drop=True)\n",
    "trainDF=dataDF.sample(frac=0.9, random_state=100)\n",
    "testDF=dataDF.drop(trainDF.index)\n",
    "print(trainDF.index)\n",
    "\n",
    "\n",
    "# 토큰화 인스턴스\n",
    "okt=Okt()"
   ]
  },
  {
   "cell_type": "code",
   "execution_count": 19,
   "metadata": {},
   "outputs": [
    {
     "data": {
      "text/plain": [
       "(label\n",
       " 1    16\n",
       " 0     9\n",
       " Name: count, dtype: int64,\n",
       " label\n",
       " 0    118\n",
       " 1    106\n",
       " Name: count, dtype: int64)"
      ]
     },
     "execution_count": 19,
     "metadata": {},
     "output_type": "execute_result"
    }
   ],
   "source": [
    "testDF['label'].value_counts(), trainDF['label'].value_counts()"
   ]
  },
  {
   "cell_type": "code",
   "execution_count": 23,
   "metadata": {},
   "outputs": [],
   "source": [
    "## 불용어 리스트 불러오는 함수\n",
    "STOP_PATH = 'kor_stopwords.txt'\n",
    "\n",
    "\n",
    "stopwords = make_stopwords(STOP_PATH)"
   ]
  },
  {
   "cell_type": "code",
   "execution_count": 25,
   "metadata": {},
   "outputs": [
    {
     "name": "stdout",
     "output_type": "stream",
     "text": [
      "1278\n"
     ]
    }
   ],
   "source": [
    "# 토큰화 및 단어사전 생성\n",
    "train_vocab= make_vocab(data=trainDF['text'], tag=okt, stopwords=stopwords, vocab_num=10000)\n",
    "# test_vocab= make_vocab(data=testDF['text'], tag=okt, stopwords=stopwords, vocab_num=10000)\n",
    "\n",
    "print(len(train_vocab))"
   ]
  },
  {
   "cell_type": "code",
   "execution_count": 26,
   "metadata": {},
   "outputs": [],
   "source": [
    "# 불용어 제거\n",
    "t_vocab=train_vocab.copy()\n",
    "for key, v in t_vocab.items():\n",
    "    if key in stopwords:\n",
    "        a= train_vocab.pop(key)"
   ]
  },
  {
   "cell_type": "code",
   "execution_count": 27,
   "metadata": {},
   "outputs": [
    {
     "data": {
      "text/plain": [
       "dict_items([('<PAD>', 0), ('<UNK>', 1), ('.', 2), (',', 3), ('입니다', 4), ('상담', 5), ('세무사', 6), ('(', 7), ('신고', 8), ('과세', 9), ('경우', 10), ('주택', 11), (')', 12), ('공제', 13), ('하여', 14), ('됩니다', 15), ('합니다', 16), ('연말정산', 17), ('세무', 18), ('세', 19), ('-', 20), ('네이버', 21), (':', 22), ('가액', 23), ('할', 24), ('소득', 25), ('상속', 26), ('납부', 27), ('국세', 28), ('적용', 29), ('있습니다', 30), ('근로', 31), ('종합소득세', 32), ('1', 33), ('환급', 34), ('부동산', 35), ('위원', 36), ('부가가치세', 37), ('대한', 38), ('증여', 39), ('하면', 40), ('양도소득세', 41), ('답변', 42), ('재산', 43), ('추가', 44), ('지', 45), ('양도', 46), ('회사', 47), ('기', 48), ('세액', 49), ('김성주', 50), ('\\\\', 51), ('원단', 52), ('질문', 53), ('바랍니다', 54), ('되는', 55), ('u', 56), ('200', 57), ('b', 58), ('발생', 59), ('전문', 60), ('면', 61), ('금액', 62), ('상속세', 63), ('징수', 64), ('해당', 65), ('세금', 66), ('회계', 67), ('연락', 68), ('님', 69), ('계산', 70), ('소득세', 71), ('문의', 72), ('지방', 73), ('이나', 74), ('국세청', 75), ('법인', 76), ('아래', 77), ('후', 78), ('회원', 79), ('드립니다', 80), ('사업', 81), ('내용', 82), ('사업자', 83), ('배우자', 84), ('상', 85), ('토지', 86), ('종합', 87), ('확정', 88), ('세법', 89), ('비즈니스', 90), ('센터', 91), ('서', 92), ('세대', 93), ('위', 94), ('공과금', 95), ('2', 96), ('진행', 97), ('취득', 98), ('소유', 99), ('보유', 100), ('신', 101), ('대상', 102), ('포함', 103), ('개인', 104), ('5월', 105), ('받을', 106), ('대표', 107), ('되어', 108), ('외', 109), ('조', 110), ('직접', 111), ('합산', 112), ('기준', 113), ('더', 114), ('시기', 115), ('연도', 116), ('강제징수', 117), ('드리겠습니다', 118), ('관련', 119), ('주거', 120), ('이하', 121), ('규정', 122), ('되지', 123), ('!', 124), ('무료', 125), ('사항', 126), ('3', 127), ('이내', 128), ('85', 129), ('사무실', 130), ('~', 131), ('지식', 132), ('주세요', 133), ('않습니다', 134), ('기본', 135), ('주식', 136), ('부가세', 137), ('안내', 138), ('간이', 139), ('/', 140), ('받는', 141), ('퇴사', 142), ('본인', 143), ('또는', 144), ('세율', 145), ('공', 146), ('시', 147), ('총', 148), ('관', 149), ('등기', 150), ('이전', 151), ('원', 152), ('통해', 153), ('·', 154), ('부과', 155), ('안녕하십니까', 156), ('.,', 157), ('정현석', 158), ('자세한', 159), ('기한', 160), ('지점', 161), ('블로그', 162), ('카카오', 163), ('톡', 164), ('xa', 165), ('0', 166), ('>', 167), ('국제', 168), ('납세', 169), ('행정', 170), ('때문', 171), ('6억원', 172), ('초과', 173), ('중도', 174), ('비', 175), ('우선한다는', 176), ('주시', 177), ('이후', 178), ('용', 179), ('도세', 180), ('126', 181), ('부속', 182), ('과세표준', 183), ('별로', 184), ('김기성', 185), ('법률', 186), ('1월', 187), ('1일', 188), ('제출', 189), ('있으면', 190), ('처리', 191), ('표준', 192), ('궁금하신', 193), ('점', 194), ('한국', 195), ('절세', 196), ('참고', 197), ('일로', 198), ('하게', 199), ('무법', 200), ('송', 201), ('_', 202), (':http://blog.naver.com/cdtax0159', 203), ('이메일', 204), ('cdtax0159@naver.com', 205), ('sungjuda', 206), ('Phone', 207), ('010-4474', 208), ('0159', 209), ('가능', 210), ('10:00', 211), ('17:00', 212), (')<', 213), ('주요', 214), ('활동', 215), ('한송', 216), ('연구', 217), ('회', 218), ('협회', 219), ('IN', 220), ('무전', 221), ('중소기업', 222), ('자문', 223), ('강남세무서', 224), ('관심', 225), ('감사', 226), ('청소년', 227), ('보호', 228), ('도움', 229), ('안', 230), ('이유', 231), ('뜻', 232), ('..', 233), ('반', 234), ('국민', 235), ('주', 236), ('거나', 237), ('방문', 238), ('든', 239), ('양', 240), ('전화', 241), ('정보', 242), ('매입', 243), ('로서', 244), ('임대', 245), ('액', 246), ('해야', 247), ('건물', 248), ('사용', 249), ('면적', 250), ('하신', 251), ('산출', 252), ('보다', 253), ('공시가격', 254), ('재산세', 255), ('지식인', 256), ('상품', 257), ('발급', 258), ('하시기', 259), ('제외', 260), ('✥', 261), ('변호사', 262), ('로톡', 263), ('잔금', 264), ('일반', 265), ('소득공제', 266), ('근로자', 267), ('자료', 268), ('지급', 269), (',\\\\', 270), ('매출', 271), ('경비', 272), ('사진', 273), ('다르게', 274), ('세무서', 275), ('접수', 276), ('개월', 277), ('없으면', 278), ('판단', 279), ('홈페이지', 280), ('?,', 281), ('항상', 282), ('권', 283), ('정산', 284), ('하셔야', 285), ('있는데', 286), ('매매', 287), ('간', 288), ('10년', 289), ('전', 290), ('부양가족', 291), ('중소기업청', 292), ('☎', 293), ('지역', 294), ('종부세', 295), ('법', 296), ('일정', 297), ('경', 298), ('되고', 299), ('없습니다', 300), ('채택', 301), ('중요합니다', 302), ('계산서', 303), ('했다면', 304), ('하므로', 305), ('현재', 306), ('보는', 307), ('것이므', 308), ('보아', 309), ('세무사회', 310), ('귀하', 311), ('께서', 312), ('납세의무', 313), ('피상', 314), ('속인', 315), ('승계', 316), ('투자', 317), ('15일', 318), ('이고', 319), ('필요', 320), ('장', 321), ('세는', 322), ('차', 323), ('※', 324), ('심층', 325), ('엑스', 326), ('퍼트', 327), ('유료', 328), ('링크', 329), ('원하시면', 330), ('아니라', 331), ('–', 332), ('비용', 333), ('의미', 334), ('홈택스', 335), ('확인', 336), ('대하', 337), ('해외', 338), ('함', 339), ('[', 340), ('글', 341), ('신청', 342), ('전문가', 343), ('모든', 344), ('1년', 345), ('청산', 346), ('변경', 347), ('김치', 348), ('),', 349), ('5년', 350), ('평가', 351), ('오피스텔', 352), ('증명', 353), ('당해', 354), ('이용', 355), ('천', 356), ('9시', 357), ('대출', 358), ('이자', 359), ('받지', 360), ('못', 361), ('테헤란', 362), ('했더라도', 363), ('않으면', 364), ('클릭', 365), ('해주시면', 366), ('가능합니다', 367), ('해주세요', 368), ('궁금한', 369), ('?', 370), ('주소지', 371), ('관할', 372), ('않을', 373), (':http://www.hstax-sj.co.kr/', 374), ('//', 375), ('02-2615', 376), ('2202', 377), ('협조', 378), ('필요하다면', 379), ('하기', 380), ('2022년', 381), ('새해', 382), ('번창', 383), ('하시길', 384), ('기원', 385), ('인해', 386), ('이익', 387), ('된다는', 388), ('더감', 389), ('동일', 390), ('시가', 391), ('결정', 392), ('통지서', 393), ('.blog.naver.com', 394), ('살아생전', 395), ('증여세', 396), ('방법', 397), ('권리', 398), ('권민', 399), ('경기', 400), ('이지', 401), ('아닙니다', 402), ('10억원', 403), ('조정', 404), ('완료', 405), ('일체', 406), ('않으니', 407), ('받고자', 408), ('휴대폰', 409), ('전화하지', 410), ('예약', 411), ('잡아', 412), ('받으시거나', 413), ('ctakorea@hanmail.net', 414), ('e', 415), ('mail', 416), ('받으시길', 417), ('이든', 418), ('농지', 419), ('하였다면', 420), ('재촌', 421), ('있지만', 422), ('드리는데', 423), ('큰', 424), ('힘', 425), ('번', 426), ('입력', 427), ('수정', 428), ('삭제', 429), ('영위', 430), ('명', 431), ('합', 432), ('가일', 433), ('별', 434), ('대로', 435), ('11억원', 436), ('먼저', 437), ('보험', 438), ('정석', 439), ('준', 440), ('단독', 441), ('용도', 442), ('전체', 443), ('이상인', 444), ('아니한', 445), ('산정', 446), ('모친', 447), ('실제', 448), ('형제자매', 449), ('소멸시효', 450), ('요건', 451), ('민법', 452), ('점유', 453), ('상속인', 454), ('담당', 455), ('|', 456), ('없더라도', 457), ('실적', 458), ('폐업', 459), ('달', 460), ('시설', 461), ('지난', 462), ('되며', 463), ('...', 464), ('5억', 465), ('일괄', 466), ('과정', 467), ('당시', 468), ('특별', 469), ('양도소득', 470), ('잔액', 471), ('6~45%', 472), ('율', 473), ('부분', 474), ('하며', 475), ('소유자', 476), ('소유권', 477), ('장기', 478), ('맞춤', 479), ('“', 480), ('”', 481), ('click', 482), ('거래', 483), ('예금', 484), ('금융', 485), ('이렇게', 486), ('아닌', 487), ('같습니다', 488), ('구조', 489), ('있고', 490), ('해서는', 491), ('조회', 492), ('고서', 493), ('조세', 494), ('문의사항', 495), ('발전', 496), ('경제', 497), ('목적', 498), ('좀더', 499), ('공인', 500), ('노무사', 501), ('규모', 502), ('㎡', 503), ('단', 504), ('도시', 505), ('제공', 506), ('기간', 507), ('수익', 508), ('참조', 509), ('라면', 510), ('이니', 511), ('법무', 512), ('증권', 513), ('분야', 514), ('절', 515), ('대신', 516), ('TesTia', 517), ('✅️', 518), ('6월', 519), ('ㅡ', 520), ('최근', 521), ('키다리', 522), ('택스', 523), ('업무', 524), ('귀속', 525), ('압류', 526), ('체납', 527), ('카톡', 528), ('하단', 529), ('환율', 530), ('사실', 531), ('하루', 532), ('호', 533), ('5조', 534), ('4', 535), ('항', 536), ('되거나', 537), ('공급', 538), ('면제', 539), ('사료', 540), ('드리고', 541), ('있으니', 542), ('에서는', 543), ('시스템', 544), ('12월', 545), ('근무', 546), ('보수', 547), ('이외', 548), ('쌤', 549), ('대중교통', 550), ('사람', 551), ('운송', 552), ('한다는', 553), ('영수증', 554), ('5억원', 555), ('능력', 556), ('5천만원', 557), ('9월', 558), ('통한', 559), ('하시면', 560), ('임대주택', 561), ('2005년', 562), ('평일', 563), ('오전', 564), ('오후', 565), ('12시', 566), ('13시', 567), ('채', 568), ('불우', 569), ('이웃', 570), ('마이너스', 571), ('통장', 572), ('않아', 573), ('조서', 574), ('제대로', 575), ('높아져', 576), ('있어요', 577), ('수의', 578), ('전민수', 579), ('있다면', 580), ('관세', 581), ('사회', 582), ('관세사', 583), ('임형철', 584), ('포스팅', 585), ('해결', 586), ('되셨나요', 587), ('정기', 588), ('사전', 589), ('주중', 590), ('주말', 591), ('불가', 592), ('깊이', 593), ('밤', 594), ('이슬', 595), ('여성가족부', 596), ('주관', 597), ('익', 598), ('진로', 599), ('지원', 600), ('있거나', 601), ('그대로', 602), ('에그', 603), ('서는', 604), ('그럼에도', 605), ('불구', 606), ('해준다고', 607), ('반영', 608), ('갑자기', 609), ('늘어난', 610), ('여러', 611), ('가지', 612), ('있을', 613), ('정해경', 614), ('딸도', 615), ('으로는', 616), ('건', 617), ('당초', 618), ('동일하게', 619), ('없다는', 620), ('해석', 621), ('예고', 622), ('대행', 623), ('서초', 624), ('교대', 625), ('해인', 626), ('정민', 627), ('하고서', 628), ('아니하였다고', 629), ('내에', 630), ('변', 631), ('능수', 632), ('<', 633), ('남양주', 634), ('구리', 635), ('찾아', 636), ('드리는', 637), ('權民', 638), ('박', 639), ('02-2110', 640), ('6351~4', 641), ('031', 642), ('201-6805', 643), ('8', 644), ('성심', 645), ('성의껏', 646), ('.\\\\', 647), ('✅', 648), ('고인', 649), ('생존', 650), ('아니므로', 651), ('현행', 652), ('0.6%', 653), ('샵', 654), ('자동', 655), ('장부', 656), ('고지서', 657), ('아니기', 658), ('하시고', 659), ('10', 660), ('년전', 661), ('분할', 662), ('어머님', 663), ('하였어야만', 664), ('8년', 665), ('감면', 666), ('혜택', 667), ('받을수', 668), ('대상자', 669), ('지금', 670), ('이라도', 671), ('앞', 672), ('으로도', 673), ('지속', 674), ('보내주시기', 675), ('바라며', 676), ('친절히', 677), ('어려운', 678), ('많으니', 679), ('처음', 680), ('신중하게', 681), ('김혁', 682), ('수취', 683), ('해도', 684), ('대원', 685), ('씩', 686), ('되지만', 687), ('노부모', 688), ('봉양', 689), ('합가한', 690), ('부모', 691), ('60', 692), ('이내는', 693), ('이하면', 694), ('부모님', 695), ('서울', 696), ('건강', 697), ('공단', 698), ('등기부', 699), ('등본', 700), ('동', 701), ('해야하지만', 702), ('비율', 703), ('분하여', 704), ('건축물', 705), ('구분', 706), ('構', 707), ('100분', 708), ('50', 709), ('본다', 710), ('경계', 711), ('명백하지', 712), ('범위', 713), ('필요한', 714), ('대통령령', 715), ('정', 716), ('한다', 717), ('차이', 718), ('있으므로', 719), ('알아야', 720), ('대략', 721), ('개념', 722), ('효과', 723), ('등록', 724), ('세목', 725), ('자경', 726), ('가지시고', 727), ('의견', 728), ('주셔서', 729), ('법령', 730), ('부가가치', 731), ('59조', 732), ('작성', 733), ('부서', 734), ('대구', 735), ('서대구세무서', 736), ('추', 737), ('가문', 738), ('의처', 739), ('아예', 740), ('해주셔야', 741), ('없어', 742), ('하였더라도', 743), ('25일', 744), ('조기', 745), ('일이', 746), ('아님에', 747), ('유의', 748), ('30일', 749), ('사망', 750), ('8억', 751), ('있', 752), ('음으로', 753), ('공부', 754), ('하기전', 755), ('에나', 756), ('학습', 757), ('정확하게', 758), ('이루어지는지가', 759), ('나왔다는', 760), ('추후', 761), ('로더', 762), ('고지', 763), ('됬다는', 764), ('건지', 765), ('없으나', 766), ('봐야만', 767), ('걱정', 768), ('많으시겠네요', 769), ('취득세', 770), ('비등', 771), ('2년', 772), ('누진세', 773), ('새', 774), ('다시', 775), ('인별', 776), ('6억', 777), ('9억', 778), ('자란', 779), ('만이', 780), ('공동', 781), ('세모', 782), ('민정', 783), ('안타깝지만', 784), ('보존등기', 785), ('차입', 786), ('입금', 787), ('환액', 788), ('있으시거나', 789), ('필요하신', 790), ('마승', 791), ('태', 792), ('결제', 793), ('친절하게', 794), ('해서', 795), ('수출', 796), ('업자', 797), ('출시', 798), ('발행', 799), ('경영', 800), ('관우', 801), ('고시', 802), ('빼고', 803), ('하는게', 804), ('전세', 805), ('금은', 806), ('채무', 807), ('재산상속', 808), ('따로', 809), ('라고', 810), ('단정할', 811), ('안녕햐세', 812), ('031-8023', 813), ('9440', 814), ('{(', 815), ('장특', 816), ('}', 817), ('×', 818), ('구간', 819), ('6.6', 820), ('49.5%', 821), ('있어야', 822), ('상교', 823), ('울', 824), ('소', 825), ('벤처기업', 826), ('청', 827), ('자체', 828), ('들어간', 829), ('청http://naver.me/F6FMNezn', 830), ('회계사', 831), ('오픈카', 832), ('톡https://open.kakao.com/o/srL8tO1', 833), ('로그인', 834), ('메뉴', 835), ('선택', 836), ('과거', 837), ('자세히', 838), ('싶으시면', 839), ('그룹', 840), ('태신', 841), ('김홍식', 842), ('선물', 843), ('플랫폼', 844), ('CULTURE', 845), ('CAPITAL', 846), ('고액', 847), ('부담', 848), ('형평성', 849), ('을제', 850), ('가격', 851), ('안정', 852), ('도모', 853), ('재정', 854), ('균형', 855), ('건전한', 856), ('이바지', 857), ('하였습니다', 858), ('필요하시면', 859), ('자수', 860), ('업종', 861), ('해고', 862), ('구체', 863), ('제시', 864), ('하시어', 865), ('1:1', 866), ('주시거나', 867), ('노무', 868), ('푸른', 869), ('솔로', 870), ('상세', 871), ('히', 872), ('.]', 873), ('년도', 874), ('이구', 875), ('로시', 876), ('컴', 877), ('김동희', 878), ('제곱미터', 879), ('85.00', 880), ('전용', 881), ('수도권', 882), ('읍', 883), ('100', 884), (']', 885), ('현금영수증', 886), ('펀드', 887), ('연', 888), ('250만', 889), ('전자책', 890), (']https://kmong.com/self-marketing/509689/BoHb3iLT6y', 891), ('문제', 892), ('드릴', 893), ('아이엠', 894), ('전화번호', 895), ('010-5140', 896), ('1331', 897), ('괌심', 898), ('있으시다면', 899), ('홈택', 900), ('스www.hometax.go.kr', 901), ('부탁드립니다', 902), ('.)', 903), ('오류', 904), ('다양한', 905), ('원인', 906), ('통신비', 907), ('콜센터', 908), ('등록증', 909), ('신분증', 910), ('매년', 911), ('자는', 912), ('의무', 913), ('eXpert', 914), ('절차', 915), ('최소', 916), ('화', 917), ('189', 918), ('건의', 919), ('.m.blog.naver.com', 920), ('과는', 921), ('관계', 922), ('*', 923), ('절대', 924), ('신의', 925), ('실전', 926), ('&', 927), ('노하우', 928), ('궁금하다면', 929), ('??', 930), ('독촉', 931), ('받고도', 932), ('했을', 933), ('얘', 934), ('깁니다', 935), ('과소', 936), ('하였다고', 937), ('소명', 938), ('요구', 939), ('부인하세요', 940), ('값', 941), ('250', 942), ('넘기면', 943), ('아마도', 944), ('어려울', 945), ('실현', 946), ('250만원', 947), ('22%', 948), ('하세요', 949), ('프로필', 950), ('or', 951), ('내리셔서', 952), ('공식', 953), ('돼요', 954), ('^', 955), ('^.', 956), ('유민식', 957), ('콘텐츠', 958), ('제휴', 959), ('정확하고', 960), ('신뢰', 961), ('전달', 962), ('.#.', 963), ('환차', 964), ('익은', 965), ('수시', 966), ('따른', 967), ('아직', 968), ('되지는', 969), ('않았습니다', 970), ('일과', 971), ('빠른', 972), ('날', 973), ('계약', 974), ('이기', 975), ('없이', 976), ('거꾸로', 977), ('않았지만', 978), ('이행', 979), ('되었다면', 980), ('넘어갔다고', 981), ('볼', 982), ('있기', 983), ('배당', 984), ('내는', 985), ('은행', 986), ('받기', 987), ('인정', 988), ('오늘', 989), ('좋은', 990), ('보내세요', 991), ('한정', 992), ('특히', 993), ('않겠다는', 994), ('인데', 995), ('아니하게', 996), ('설명', 997), ('제조업', 998), ('고객', 999), ('배송', 1000), ('판매', 1001), ('관입', 1002), ('병입', 1003), ('유사한', 1004), ('형태', 1005), ('포장', 1006), ('아니하고', 1007), ('단순하게', 1008), ('운반', 1009), ('편의', 1010), ('일시', 1011), ('비닐봉지', 1012), ('스티로폼', 1013), ('박스', 1014), ('담아', 1015), ('질의', 1016), ('하는지', 1017), ('사실관계', 1018), ('고려', 1019), ('판', 1020), ('ㄴ', 1021), ('되오니', 1022), ('사례', 1023), ('이혼', 1024), ('직계', 1025), ('존비속', 1026), ('2023년', 1027), ('특정', 1028), ('물', 1029), ('이용권', 1030), ('분양', 1031), ('22년', 1032), ('이월', 1033), ('대응', 1034), ('시점', 1035), ('전혀', 1036), ('없으시구', 1037), ('편히', 1038), ('말씀', 1039), ('나뉠수', 1040), ('되기', 1041), ('https://simplestep.co.kr/%ec%83%81%ec%86%8d%ec%84%b8-%eb%a9%b4%ec%a0%9c-%ed%95%9c%eb%8f%84-%ea%b3%b5%ec%a0%9c-%ed%95%ad%eb%aa%a9-%ec%8b%a0%ea%b3%a0-%eb%b0%a9%eb%b2%95-%eb%b9%a0%eb%a5%b4%ea%b3%a0-%ec%89%bd%ea%b2%8c-%ec%82%b4/', 1042), ('사이트', 1043), ('한도', 1044), ('항목', 1045), ('좋을', 1046), ('같아요', 1047), ('6', 1048), ('고기', 1049), ('매도', 1050), ('내며', 1051), ('된다면', 1052), ('다를', 1053), ('신고하였으면', 1054), ('7월', 1055), ('납기', 1056), ('초', 1057), ('단기', 1058), ('이므로', 1059), ('이력', 1060), ('경력', 1061), ('시키지', 1062), ('않아도', 1063), ('www.exceltax.co.kr', 1064), ('국민신문고', 1065), ('민원', 1066), ('검토', 1067), ('결과', 1068), ('알려', 1069), ('보험료', 1070), ('월액', 1071), ('31일', 1072), ('수로', 1073), ('나눈', 1074), ('중단', 1075), ('부수', 1076), ('일듯', 1077), ('싶습니다', 1078), ('특법', 1079), ('특례', 1080), ('득', 1081), ('있으시면', 1082), ('디테일', 1083), ('얻었어요', 1084), ('in', 1085), ('교육', 1086), ('이란', 1087), ('『', 1088), ('육성', 1089), ('촉진', 1090), ('』', 1091), ('의거', 1092), ('일정한', 1093), ('노선', 1094), ('운행', 1095), ('시간표', 1096), ('갖추고', 1097), ('하는데', 1098), ('수단', 1099), ('버스', 1100), ('시내버스', 1101), ('시외버스', 1102), ('광역버스', 1103), ('지하철', 1104), ('철도', 1105), ('KTX', 1106), ('고속버스', 1107), ('터미널', 1108), ('비행기', 1109), ('인천', 1110), ('사무소', 1111), ('아니며', 1112), ('사무', 1113), ('법률상', 1114), ('담은', 1115), ('독립', 1116), ('수행', 1117), ('35조', 1118), ('징', 1119), ('수비', 1120), ('만을', 1121), ('지도대출세상대부중', 1122), ('개map.naver.com', 1123), ('경정', 1124), ('청구', 1125), ('실익', 1126), ('없으므로', 1127), ('디지털', 1128), ('PB', 1129), ('이종준', 1130), ('망인', 1131), ('자녀', 1132), ('제로', 1133), ('되므로', 1134), ('내지', 1135), ('없고와는', 1136), ('상관없', 1137), ('이모', 1138), ('되면', 1139), ('되나', 1140), ('안되면', 1141), ('안하거나', 1142), ('의뢰', 1143), ('VAT', 1144), ('문서', 1145), ('번돈', 1146), ('보면', 1147), ('세로', 1148), ('관청', 1149), ('감사합니다', 1150), ('2024년', 1151), ('국내', 1152), ('않고', 1153), ('꽤', 1154), ('자세하게', 1155), ('알려주고', 1156), ('있어서', 1157), ('되실거에요', 1158), ('!.', 1159), ('코', 1160), ('참경', 1161), ('영상', 1162), ('담', 1163), ('박진순', 1164), ('지방세', 1165), ('주체', 1166), ('다르므로', 1167), ('정신', 1168), ('명의', 1169), ('카드', 1170), ('용액', 1171), ('없슬', 1172), ('1억원', 1173), ('10%', 1174), ('500만원', 1175), ('않는', 1176), ('일용', 1177), ('자도', 1178), ('가입', 1179), ('퇴', 1180), ('사시', 1181), ('중간', 1182), ('받아서', 1183), ('입사', 1184), ('하시거나', 1185), ('9~12월', 1186), ('않는다면', 1187), ('25년', 1188), ('우현', 1189), ('시행', 1190), ('령제', 1191), ('3조', 1192), ('【', 1193), ('배제', 1194), ('】', 1195), ('지위', 1196), ('5일', 1197), ('있던', 1198), ('각목', 1199), ('갖춘', 1200), ('주택가', 1201), ('3억원', 1202), ('이하일', 1203), ('2005.12', 1204), ('31', 1205), ('개정', 1206), ('계속', 1207), ('것일', 1208), ('들어가셔서', 1209), ('탭', 1210), ('해보세요', 1211), ('경합', 1212), ('겁니다', 1213), ('새로운', 1214), ('취업', 1215), ('하셨다면', 1216), ('직장', 1217), ('취합', 1218), ('해주는', 1219), ('많이', 1220), ('NAVER', 1221), ('필수', 1222), ('정확한', 1223), ('방안', 1224), ('개별', 1225), ('상황', 1226), ('맞는', 1227), ('형', 1228), ('소중한', 1229), ('읽어', 1230), ('보았습니다', 1231), ('3.3%', 1232), ('강남', 1233), ('김하원', 1234), ('1600-1729', 1235), (')-', 1236), ('문자', 1237), ('플러스', 1238), ('친구', 1239), ('#', 1240), ('1388', 1241), ('6시', 1242), ('해피', 1243), ('워', 1244), ('크', 1245), ('매니저', 1246), ('비타민', 1247), ('100138', 1248), ('소재', 1249), ('중과세', 1250), ('정병', 1251), ('택시', 1252), ('해피빈', 1253), ('부활동', 1254), ('동참', 1255), ('현', 1256), ('26조', 1257), ('제척기간', 1258), ('1~3', 1259), ('원칙', 1260), ('판정', 1261), ('안동', 1262), ('민pf.kakao.com', 1263), ('02-6949', 1264), ('6765', 1265), ('시세', 1266), ('8.5억', 1267), ('12억', 1268), ('전문교육', 1269), ('기관', 1270), ('교육부', 1271), ('^^.', 1272), ('되', 1273), ('기를', 1274), ('9조', 1275), ('의하여', 1276), ('수가', 1277)])"
      ]
     },
     "execution_count": 27,
     "metadata": {},
     "output_type": "execute_result"
    }
   ],
   "source": [
    "train_vocab.items()"
   ]
  },
  {
   "cell_type": "code",
   "execution_count": 28,
   "metadata": {},
   "outputs": [],
   "source": [
    "# 문장 벡터화\n",
    "trainVec=vectorize(vocab=train_vocab, DF=trainDF, tokenizer=okt)\n",
    "testVec=vectorize(vocab=train_vocab, DF=testDF, tokenizer=okt)"
   ]
  },
  {
   "cell_type": "code",
   "execution_count": 29,
   "metadata": {},
   "outputs": [
    {
     "name": "stdout",
     "output_type": "stream",
     "text": [
      "15\n",
      "69\n",
      "5\n",
      "23\n",
      "8\n",
      "12\n",
      "11\n",
      "8\n",
      "13\n",
      "6\n",
      "26\n",
      "24\n",
      "90\n",
      "15\n",
      "5\n",
      "32\n",
      "23\n",
      "13\n",
      "26\n",
      "10\n",
      "38\n",
      "13\n",
      "18\n",
      "34\n",
      "6\n",
      "32\n",
      "45\n",
      "9\n",
      "27\n",
      "13\n",
      "39\n",
      "18\n",
      "17\n",
      "11\n",
      "14\n",
      "19\n",
      "6\n",
      "24\n",
      "49\n",
      "43\n",
      "26\n",
      "41\n",
      "15\n",
      "15\n",
      "27\n",
      "10\n",
      "31\n",
      "89\n",
      "39\n",
      "12\n",
      "28\n",
      "6\n",
      "10\n",
      "88\n",
      "32\n",
      "106\n",
      "47\n",
      "29\n",
      "26\n",
      "14\n",
      "28\n",
      "12\n",
      "7\n",
      "35\n",
      "11\n",
      "22\n",
      "47\n",
      "43\n",
      "13\n",
      "34\n",
      "4\n",
      "51\n",
      "25\n",
      "88\n",
      "8\n",
      "13\n",
      "30\n",
      "49\n",
      "49\n",
      "14\n",
      "36\n",
      "34\n",
      "11\n",
      "47\n",
      "3\n",
      "7\n",
      "71\n",
      "5\n",
      "15\n",
      "12\n",
      "28\n",
      "9\n",
      "28\n",
      "22\n",
      "10\n",
      "13\n",
      "7\n",
      "7\n",
      "59\n",
      "38\n",
      "12\n",
      "10\n",
      "74\n",
      "11\n",
      "10\n",
      "40\n",
      "17\n",
      "3\n",
      "40\n",
      "21\n",
      "74\n",
      "7\n",
      "34\n",
      "12\n",
      "16\n",
      "21\n",
      "17\n",
      "5\n",
      "16\n",
      "31\n",
      "13\n",
      "39\n",
      "10\n",
      "39\n",
      "13\n",
      "21\n",
      "15\n",
      "14\n",
      "14\n",
      "13\n",
      "5\n",
      "21\n",
      "5\n",
      "27\n",
      "4\n",
      "25\n",
      "22\n",
      "36\n",
      "72\n",
      "24\n",
      "3\n",
      "7\n",
      "8\n",
      "88\n",
      "95\n",
      "87\n",
      "10\n",
      "7\n",
      "17\n",
      "45\n",
      "30\n",
      "36\n",
      "32\n",
      "19\n",
      "15\n",
      "19\n",
      "13\n",
      "8\n",
      "19\n",
      "38\n",
      "10\n",
      "14\n",
      "34\n",
      "10\n",
      "13\n",
      "13\n",
      "12\n",
      "66\n",
      "7\n",
      "17\n",
      "19\n",
      "28\n",
      "37\n",
      "4\n",
      "24\n",
      "9\n",
      "8\n",
      "35\n",
      "6\n",
      "18\n",
      "22\n",
      "16\n",
      "15\n",
      "3\n",
      "13\n",
      "6\n",
      "16\n",
      "19\n",
      "2\n",
      "17\n",
      "9\n",
      "10\n",
      "28\n",
      "16\n",
      "36\n",
      "7\n",
      "76\n",
      "11\n",
      "78\n",
      "10\n",
      "29\n",
      "37\n",
      "9\n",
      "32\n",
      "10\n",
      "11\n",
      "7\n",
      "53\n",
      "21\n",
      "6\n",
      "15\n",
      "10\n",
      "16\n",
      "24\n",
      "22\n",
      "8\n",
      "14\n",
      "8\n",
      "2\n",
      "4\n",
      "14\n",
      "10\n",
      "10\n",
      "37\n"
     ]
    }
   ],
   "source": [
    "# 행당 길이 시각화\n",
    "len_list=[]\n",
    "for t in trainVec['text']:\n",
    "    len_list.append(len(t))\n",
    "    print(len(t))"
   ]
  },
  {
   "cell_type": "code",
   "execution_count": 30,
   "metadata": {},
   "outputs": [
    {
     "data": {
      "text/plain": [
       "((array([76., 62., 33., 26., 10.,  1.,  6.,  2.,  7.,  1.]),\n",
       "  array([  2. ,  12.4,  22.8,  33.2,  43.6,  54. ,  64.4,  74.8,  85.2,\n",
       "          95.6, 106. ]),\n",
       "  <BarContainer object of 10 artists>),\n",
       " 23.870535714285715,\n",
       " 16.0)"
      ]
     },
     "execution_count": 30,
     "metadata": {},
     "output_type": "execute_result"
    },
    {
     "data": {
      "image/png": "[encoded data removed]",
      "text/plain": [
       "<Figure size 640x480 with 1 Axes>"
      ]
     },
     "metadata": {},
     "output_type": "display_data"
    }
   ],
   "source": [
    "plt.hist(len_list), np.mean(len_list), np.median(len_list)"
   ]
  },
  {
   "cell_type": "code",
   "execution_count": 31,
   "metadata": {},
   "outputs": [],
   "source": [
    "train_pad=padding(length=100, textList=trainVec['text'])\n",
    "trainPad=trainVec.copy()\n",
    "trainPad['text']=train_pad\n",
    "test_pad= padding(length=100, textList=testVec['text'])\n",
    "testPad=testVec.copy()\n",
    "testPad['text']=test_pad"
   ]
  },
  {
   "cell_type": "markdown",
   "metadata": {},
   "source": [
    "[3] 모델 설계 및 훈련 진행<hr>\n",
    "- 라벨: 3개 (분류)\n",
    "- 알고리즘: rnn/ lstm\n",
    "- 0:교육, 1:환경, 2:의료/식품"
   ]
  },
  {
   "cell_type": "code",
   "execution_count": 32,
   "metadata": {},
   "outputs": [],
   "source": [
    "# 데이터셋, 데이터로더 생성\n",
    "import torch\n",
    "\n",
    "train_tensor=torch.tensor(train_pad)\n",
    "train_label= torch.FloatTensor(trainVec['label'].values).long()\n",
    "\n",
    "test_tensor=torch.tensor(test_pad)\n",
    "test_label= torch.FloatTensor(testVec['label'].values).long()\n",
    "\n",
    "trainDS=TextDataset(train_tensor, train_label)\n",
    "testDS= TextDataset(test_tensor, test_label)\n",
    "\n",
    "trainDL=DataLoader(trainDS, batch_size=50)\n",
    "testDL=DataLoader(testDS, batch_size=50)\n"
   ]
  },
  {
   "cell_type": "code",
   "execution_count": 33,
   "metadata": {},
   "outputs": [
    {
     "name": "stdout",
     "output_type": "stream",
     "text": [
      "torch.Size([50, 100])\n"
     ]
    }
   ],
   "source": [
    "# 데이터로더 확인\n",
    "for f, t in trainDL:\n",
    "    print(f.shape)\n",
    "    break"
   ]
  },
  {
   "cell_type": "code",
   "execution_count": 34,
   "metadata": {},
   "outputs": [],
   "source": [
    "import torch.nn as nn\n",
    "from typing import Literal\n",
    "from torch import optim\n",
    "import os\n"
   ]
  },
  {
   "cell_type": "code",
   "execution_count": 35,
   "metadata": {},
   "outputs": [],
   "source": [
    "# 커스텀 모델 및 파라미터 설정\n",
    "\n",
    "# 모델 파라미터\n",
    "n_vocab= len(train_vocab)\n",
    "hidden_dim= 64\n",
    "embedding_dim= 128\n",
    "n_layers= 2\n",
    "device= 'cuda' if torch.cuda.is_available() else 'cpu'\n",
    "\n",
    "# 커스텀 모델 생성\n",
    "classifier= textCLF(\n",
    "    n_vocab=n_vocab, hidden_dim=hidden_dim, \n",
    "    embedding_dim=embedding_dim, n_layers=n_layers, model_type='lstm'\n",
    ").to(device)\n",
    "\n",
    "# 최적화 설정\n",
    "optimizer= optim.Adam(classifier.parameters(), lr=0.01)\n",
    "\n",
    "# 모델 저장 위치 지정\n",
    "SAVE_PATH='./model_final/'\n",
    "SAVE_FILE='newsclf_all.pth'\n",
    "if not os.path.exists(SAVE_PATH):\n",
    "    os.mkdir(SAVE_PATH)"
   ]
  },
  {
   "cell_type": "code",
   "execution_count": 1,
   "metadata": {},
   "outputs": [
    {
     "ename": "ModuleNotFoundError",
     "evalue": "No module named 'get_model'",
     "output_type": "error",
     "traceback": [
      "\u001b[1;31m---------------------------------------------------------------------------\u001b[0m",
      "\u001b[1;31mModuleNotFoundError\u001b[0m                       Traceback (most recent call last)",
      "Cell \u001b[1;32mIn[1], line 1\u001b[0m\n\u001b[1;32m----> 1\u001b[0m \u001b[38;5;28;01mfrom\u001b[39;00m \u001b[38;5;21;01mget_train_model\u001b[39;00m \u001b[38;5;28;01mimport\u001b[39;00m \u001b[38;5;241m*\u001b[39m\n",
      "File \u001b[1;32mc:\\Users\\KDP-25\\Desktop\\test\\Personal_project\\get_train_model.py:1\u001b[0m\n\u001b[1;32m----> 1\u001b[0m \u001b[38;5;28;01mfrom\u001b[39;00m \u001b[38;5;21;01mget_model\u001b[39;00m \u001b[38;5;28;01mimport\u001b[39;00m Custom_model\n\u001b[0;32m      2\u001b[0m \u001b[38;5;28;01mfrom\u001b[39;00m \u001b[38;5;21;01mtorchmetrics\u001b[39;00m\u001b[38;5;21;01m.\u001b[39;00m\u001b[38;5;21;01mclassification\u001b[39;00m \u001b[38;5;28;01mimport\u001b[39;00m F1Score, MulticlassF1Score\n\u001b[0;32m      3\u001b[0m \u001b[38;5;28;01mimport\u001b[39;00m \u001b[38;5;21;01mtorch\u001b[39;00m\u001b[38;5;21;01m.\u001b[39;00m\u001b[38;5;21;01mnn\u001b[39;00m \u001b[38;5;28;01mas\u001b[39;00m \u001b[38;5;21;01mnn\u001b[39;00m\n",
      "\u001b[1;31mModuleNotFoundError\u001b[0m: No module named 'get_model'"
     ]
    }
   ],
   "source": [
    "from get_train_model import *"
   ]
  },
  {
   "cell_type": "code",
   "execution_count": 24,
   "metadata": {},
   "outputs": [],
   "source": [
    "import pickle"
   ]
  },
  {
   "cell_type": "code",
   "execution_count": 39,
   "metadata": {},
   "outputs": [
    {
     "ename": "NameError",
     "evalue": "name 'model_training' is not defined",
     "output_type": "error",
     "traceback": [
      "\u001b[1;31m---------------------------------------------------------------------------\u001b[0m",
      "\u001b[1;31mNameError\u001b[0m                                 Traceback (most recent call last)",
      "Cell \u001b[1;32mIn[39], line 1\u001b[0m\n\u001b[1;32m----> 1\u001b[0m LOSS_HISTORY, SCORE_HISTORY, ep\u001b[38;5;241m=\u001b[39m \u001b[43mmodel_training\u001b[49m(model\u001b[38;5;241m=\u001b[39m classifier, trainDL\u001b[38;5;241m=\u001b[39mtrainDL,\n\u001b[0;32m      2\u001b[0m                                             testDL\u001b[38;5;241m=\u001b[39mtestDL, optimizer\u001b[38;5;241m=\u001b[39moptimizer,\n\u001b[0;32m      3\u001b[0m                                             epoch\u001b[38;5;241m=\u001b[39m\u001b[38;5;241m50\u001b[39m, LIMIT\u001b[38;5;241m=\u001b[39m\u001b[38;5;241m5\u001b[39m, SAVE_PATH\u001b[38;5;241m=\u001b[39mSAVE_PATH,\n\u001b[0;32m      4\u001b[0m                                             SAVE_FILE\u001b[38;5;241m=\u001b[39mSAVE_FILE, numcls\u001b[38;5;241m=\u001b[39m\u001b[38;5;241m3\u001b[39m,\n\u001b[0;32m      5\u001b[0m                                             break_param\u001b[38;5;241m=\u001b[39m\u001b[38;5;124m'\u001b[39m\u001b[38;5;124mscore\u001b[39m\u001b[38;5;124m'\u001b[39m, save_type\u001b[38;5;241m=\u001b[39m\u001b[38;5;124m'\u001b[39m\u001b[38;5;124mall\u001b[39m\u001b[38;5;124m'\u001b[39m,\n\u001b[0;32m      6\u001b[0m                                             \u001b[38;5;28mtype\u001b[39m\u001b[38;5;241m=\u001b[39m\u001b[38;5;124m'\u001b[39m\u001b[38;5;124mmuticlass\u001b[39m\u001b[38;5;124m'\u001b[39m, optim_type\u001b[38;5;241m=\u001b[39m\u001b[38;5;124m'\u001b[39m\u001b[38;5;124mscore\u001b[39m\u001b[38;5;124m'\u001b[39m, device\u001b[38;5;241m=\u001b[39mdevice)\n",
      "\u001b[1;31mNameError\u001b[0m: name 'model_training' is not defined"
     ]
    }
   ],
   "source": [
    "LOSS_HISTORY, SCORE_HISTORY, ep= model_training(model= classifier, trainDL=trainDL,\n",
    "                                            testDL=testDL, optimizer=optimizer,\n",
    "                                            epoch=50, LIMIT=5, SAVE_PATH=SAVE_PATH,\n",
    "                                            SAVE_FILE=SAVE_FILE, numcls=3,\n",
    "                                            break_param='score', save_type='all',\n",
    "                                            type='muticlass', optim_type='score', device=device)\n"
   ]
  },
  {
   "cell_type": "code",
   "execution_count": 26,
   "metadata": {},
   "outputs": [],
   "source": [
    "# 단어사전 피클로 저장\n",
    "with open('vocab.pikle', mode='wb') as f:\n",
    "    pickle.dump(train_vocab, f)"
   ]
  },
  {
   "cell_type": "code",
   "execution_count": 27,
   "metadata": {},
   "outputs": [
    {
     "data": {
      "image/png": "[encoded data removed]",
      "text/plain": [
       "<Figure size 1500x600 with 2 Axes>"
      ]
     },
     "metadata": {},
     "output_type": "display_data"
    }
   ],
   "source": [
    "# 시각화\n",
    "draw_result(EPOCH=ep, LOSS_HISTORY=LOSS_HISTORY, SCORE_HISTORY=SCORE_HISTORY)"
   ]
  },
  {
   "cell_type": "code",
   "execution_count": 29,
   "metadata": {},
   "outputs": [
    {
     "ename": "FileNotFoundError",
     "evalue": "[Errno 2] No such file or directory: './model8newsclf_all.pth'",
     "output_type": "error",
     "traceback": [
      "\u001b[1;31m---------------------------------------------------------------------------\u001b[0m",
      "\u001b[1;31mFileNotFoundError\u001b[0m                         Traceback (most recent call last)",
      "Cell \u001b[1;32mIn[29], line 4\u001b[0m\n\u001b[0;32m      2\u001b[0m PATH\u001b[38;5;241m=\u001b[39m\u001b[38;5;124m'\u001b[39m\u001b[38;5;124m./model8newsclf_all.pth\u001b[39m\u001b[38;5;124m'\u001b[39m\n\u001b[0;32m      3\u001b[0m text\u001b[38;5;241m=\u001b[39m\u001b[38;5;124m'\u001b[39m\u001b[38;5;124m[제주=뉴시스] 양영전 기자 = 제주도교육청은 오는 12~13일 협재해수욕장과 표선해수욕장에서 2024년 제주바다쓰레기저감실천 캠페인 우리 처음 만난 바다처럼을 운영한다고 11일 밝혔다.\u001b[39m\u001b[38;5;124m'\u001b[39m\n\u001b[1;32m----> 4\u001b[0m test_model\u001b[38;5;241m=\u001b[39m \u001b[43mtorch\u001b[49m\u001b[38;5;241;43m.\u001b[39;49m\u001b[43mload\u001b[49m\u001b[43m(\u001b[49m\u001b[43mPATH\u001b[49m\u001b[43m)\u001b[49m\n\u001b[0;32m      5\u001b[0m \u001b[38;5;28;01mfrom\u001b[39;00m \u001b[38;5;21;01mpredict\u001b[39;00m \u001b[38;5;28;01mimport\u001b[39;00m \u001b[38;5;241m*\u001b[39m\n\u001b[0;32m      6\u001b[0m \u001b[38;5;66;03m# 한글만 남기고 모두 제거\u001b[39;00m\n",
      "File \u001b[1;32mc:\\Users\\KDP-25\\anaconda3\\envs\\NLP\\lib\\site-packages\\torch\\serialization.py:997\u001b[0m, in \u001b[0;36mload\u001b[1;34m(f, map_location, pickle_module, weights_only, mmap, **pickle_load_args)\u001b[0m\n\u001b[0;32m    994\u001b[0m \u001b[38;5;28;01mif\u001b[39;00m \u001b[38;5;124m'\u001b[39m\u001b[38;5;124mencoding\u001b[39m\u001b[38;5;124m'\u001b[39m \u001b[38;5;129;01mnot\u001b[39;00m \u001b[38;5;129;01min\u001b[39;00m pickle_load_args\u001b[38;5;241m.\u001b[39mkeys():\n\u001b[0;32m    995\u001b[0m     pickle_load_args[\u001b[38;5;124m'\u001b[39m\u001b[38;5;124mencoding\u001b[39m\u001b[38;5;124m'\u001b[39m] \u001b[38;5;241m=\u001b[39m \u001b[38;5;124m'\u001b[39m\u001b[38;5;124mutf-8\u001b[39m\u001b[38;5;124m'\u001b[39m\n\u001b[1;32m--> 997\u001b[0m \u001b[38;5;28;01mwith\u001b[39;00m \u001b[43m_open_file_like\u001b[49m\u001b[43m(\u001b[49m\u001b[43mf\u001b[49m\u001b[43m,\u001b[49m\u001b[43m \u001b[49m\u001b[38;5;124;43m'\u001b[39;49m\u001b[38;5;124;43mrb\u001b[39;49m\u001b[38;5;124;43m'\u001b[39;49m\u001b[43m)\u001b[49m \u001b[38;5;28;01mas\u001b[39;00m opened_file:\n\u001b[0;32m    998\u001b[0m     \u001b[38;5;28;01mif\u001b[39;00m _is_zipfile(opened_file):\n\u001b[0;32m    999\u001b[0m         \u001b[38;5;66;03m# The zipfile reader is going to advance the current file position.\u001b[39;00m\n\u001b[0;32m   1000\u001b[0m         \u001b[38;5;66;03m# If we want to actually tail call to torch.jit.load, we need to\u001b[39;00m\n\u001b[0;32m   1001\u001b[0m         \u001b[38;5;66;03m# reset back to the original position.\u001b[39;00m\n\u001b[0;32m   1002\u001b[0m         orig_position \u001b[38;5;241m=\u001b[39m opened_file\u001b[38;5;241m.\u001b[39mtell()\n",
      "File \u001b[1;32mc:\\Users\\KDP-25\\anaconda3\\envs\\NLP\\lib\\site-packages\\torch\\serialization.py:444\u001b[0m, in \u001b[0;36m_open_file_like\u001b[1;34m(name_or_buffer, mode)\u001b[0m\n\u001b[0;32m    442\u001b[0m \u001b[38;5;28;01mdef\u001b[39;00m \u001b[38;5;21m_open_file_like\u001b[39m(name_or_buffer, mode):\n\u001b[0;32m    443\u001b[0m     \u001b[38;5;28;01mif\u001b[39;00m _is_path(name_or_buffer):\n\u001b[1;32m--> 444\u001b[0m         \u001b[38;5;28;01mreturn\u001b[39;00m \u001b[43m_open_file\u001b[49m\u001b[43m(\u001b[49m\u001b[43mname_or_buffer\u001b[49m\u001b[43m,\u001b[49m\u001b[43m \u001b[49m\u001b[43mmode\u001b[49m\u001b[43m)\u001b[49m\n\u001b[0;32m    445\u001b[0m     \u001b[38;5;28;01melse\u001b[39;00m:\n\u001b[0;32m    446\u001b[0m         \u001b[38;5;28;01mif\u001b[39;00m \u001b[38;5;124m'\u001b[39m\u001b[38;5;124mw\u001b[39m\u001b[38;5;124m'\u001b[39m \u001b[38;5;129;01min\u001b[39;00m mode:\n",
      "File \u001b[1;32mc:\\Users\\KDP-25\\anaconda3\\envs\\NLP\\lib\\site-packages\\torch\\serialization.py:425\u001b[0m, in \u001b[0;36m_open_file.__init__\u001b[1;34m(self, name, mode)\u001b[0m\n\u001b[0;32m    424\u001b[0m \u001b[38;5;28;01mdef\u001b[39;00m \u001b[38;5;21m__init__\u001b[39m(\u001b[38;5;28mself\u001b[39m, name, mode):\n\u001b[1;32m--> 425\u001b[0m     \u001b[38;5;28msuper\u001b[39m()\u001b[38;5;241m.\u001b[39m\u001b[38;5;21m__init__\u001b[39m(\u001b[38;5;28;43mopen\u001b[39;49m\u001b[43m(\u001b[49m\u001b[43mname\u001b[49m\u001b[43m,\u001b[49m\u001b[43m \u001b[49m\u001b[43mmode\u001b[49m\u001b[43m)\u001b[49m)\n",
      "\u001b[1;31mFileNotFoundError\u001b[0m: [Errno 2] No such file or directory: './model8newsclf_all.pth'"
     ]
    }
   ],
   "source": [
    "# 검증\n",
    "PATH='./model8newsclf_all.pth'\n",
    "text='[제주=뉴시스] 양영전 기자 = 제주도교육청은 오는 12~13일 협재해수욕장과 표선해수욕장에서 2024년 제주바다쓰레기저감실천 캠페인 우리 처음 만난 바다처럼을 운영한다고 11일 밝혔다.'\n",
    "test_model= torch.load(PATH)\n",
    "from predict import *\n",
    "# 한글만 남기고 모두 제거\n",
    "a= re.sub('[^ㄱ-ㅎ가-힣]+',' ',text)\n",
    "tokenizer=Okt()\n",
    "# 토큰화\n",
    "token_text=tokenizer.morphs(a)\n",
    "\n",
    "#단어사전을 통한 벡터화\n",
    "# 단어사전 불러오기\n",
    "with open('vocab.pikle', 'rb') as f:\n",
    "    test_vocab=pickle.load(f)\n",
    "# 벡터화\n",
    "vec_token= vectorize(vocab=test_vocab, DF=token_text, tokenizer=tokenizer)\n",
    "\n",
    "# 패딩\n",
    "vec_token= padding(length=50, text=vec_token)\n",
    "vec_token=vec_token[0]\n",
    "token_torch=torch.FloatTensor(vec_token).long()\n",
    "print(token_torch)\n",
    "\n",
    "test_model.eval()\n",
    "with torch.no_grad():\n",
    "\n",
    "    predict_mcf2(model=test_model, data=token_torch, result=['교육', '환경', '음식'])"
   ]
  },
  {
   "cell_type": "code",
   "execution_count": 36,
   "metadata": {},
   "outputs": [
    {
     "name": "stdout",
     "output_type": "stream",
     "text": [
      "              precision    recall  f1-score   support\n",
      "\n",
      "           0       0.90      0.93      0.92       507\n",
      "           1       0.91      0.92      0.91       485\n",
      "           2       0.89      0.86      0.88       495\n",
      "\n",
      "    accuracy                           0.90      1487\n",
      "   macro avg       0.90      0.90      0.90      1487\n",
      "weighted avg       0.90      0.90      0.90      1487\n",
      "\n"
     ]
    }
   ],
   "source": [
    "from sklearn.metrics import classification_report\n",
    "# 시도 1 약 90점\n",
    "model=torch.load('./model_final/try_1.pth',weights_only=False)\n",
    "testDL=DataLoader(testDS,batch_size=len(testDS))\n",
    "for feature, target in testDL:\n",
    "    pre_y=model(feature)\n",
    "    print(classification_report(target.detach().numpy(),torch.argmax(pre_y,dim=1).numpy()))"
   ]
  },
  {
   "cell_type": "code",
   "execution_count": 37,
   "metadata": {},
   "outputs": [
    {
     "name": "stdout",
     "output_type": "stream",
     "text": [
      "              precision    recall  f1-score   support\n",
      "\n",
      "           0       0.90      0.94      0.92       507\n",
      "           1       0.90      0.92      0.91       485\n",
      "           2       0.91      0.85      0.88       495\n",
      "\n",
      "    accuracy                           0.90      1487\n",
      "   macro avg       0.90      0.90      0.90      1487\n",
      "weighted avg       0.90      0.90      0.90      1487\n",
      "\n"
     ]
    }
   ],
   "source": [
    "# 시도 2 \n",
    "# -> embedding 층 128-> 64\n",
    "model=torch.load('./model_final/try_2.pth',weights_only=False)\n",
    "testDL=DataLoader(testDS,batch_size=len(testDS))\n",
    "for feature, target in testDL:\n",
    "    pre_y=model(feature)\n",
    "    print(classification_report(target.detach().numpy(),torch.argmax(pre_y,dim=1).numpy()))"
   ]
  },
  {
   "cell_type": "code",
   "execution_count": 55,
   "metadata": {},
   "outputs": [
    {
     "name": "stdout",
     "output_type": "stream",
     "text": [
      "              precision    recall  f1-score   support\n",
      "\n",
      "           0       0.91      0.91      0.91       507\n",
      "           1       0.86      0.92      0.89       485\n",
      "           2       0.90      0.83      0.87       495\n",
      "\n",
      "    accuracy                           0.89      1487\n",
      "   macro avg       0.89      0.89      0.89      1487\n",
      "weighted avg       0.89      0.89      0.89      1487\n",
      "\n"
     ]
    }
   ],
   "source": [
    "# 시도 3\n",
    "# -> n_layers 2-> 4 \n",
    "model=torch.load('./model_final/try_3.pth',weights_only=False)\n",
    "testDL=DataLoader(testDS,batch_size=len(testDS))\n",
    "for feature, target in testDL:\n",
    "    pre_y=model(feature)\n",
    "    print(classification_report(target.detach().numpy(),torch.argmax(pre_y,dim=1).numpy()))\n",
    "# 성능 약간 다운"
   ]
  },
  {
   "cell_type": "code",
   "execution_count": 65,
   "metadata": {},
   "outputs": [
    {
     "name": "stdout",
     "output_type": "stream",
     "text": [
      "              precision    recall  f1-score   support\n",
      "\n",
      "           0       0.93      0.93      0.93       507\n",
      "           1       0.90      0.93      0.91       485\n",
      "           2       0.89      0.87      0.88       495\n",
      "\n",
      "    accuracy                           0.91      1487\n",
      "   macro avg       0.91      0.91      0.91      1487\n",
      "weighted avg       0.91      0.91      0.91      1487\n",
      "\n"
     ]
    }
   ],
   "source": [
    "# 시도 4\n",
    "# -> h_dim 64 -> 32\n",
    "model=torch.load('./model_final/try_4.pth',weights_only=False)\n",
    "testDL=DataLoader(testDS,batch_size=len(testDS))\n",
    "for feature, target in testDL:\n",
    "    pre_y=model(feature)\n",
    "    print(classification_report(target.detach().numpy(),torch.argmax(pre_y,dim=1).numpy()))\n",
    "# 처음이랑 거의 비슷"
   ]
  },
  {
   "cell_type": "code",
   "execution_count": 74,
   "metadata": {},
   "outputs": [
    {
     "name": "stdout",
     "output_type": "stream",
     "text": [
      "              precision    recall  f1-score   support\n",
      "\n",
      "           0       0.66      0.80      0.72       507\n",
      "           1       0.45      0.21      0.29       485\n",
      "           2       0.48      0.61      0.54       495\n",
      "\n",
      "    accuracy                           0.55      1487\n",
      "   macro avg       0.53      0.54      0.51      1487\n",
      "weighted avg       0.53      0.55      0.52      1487\n",
      "\n"
     ]
    }
   ],
   "source": [
    "# 시도 5\n",
    "# -> lstm -> rnn\n",
    "model=torch.load('./model_final/try_5.pth',weights_only=False)\n",
    "testDL=DataLoader(testDS,batch_size=len(testDS))\n",
    "for feature, target in testDL:\n",
    "    pre_y=model(feature)\n",
    "    print(classification_report(target.detach().numpy(),torch.argmax(pre_y,dim=1).numpy()))\n",
    "# 진짜 별로네.."
   ]
  },
  {
   "cell_type": "code",
   "execution_count": 176,
   "metadata": {},
   "outputs": [
    {
     "name": "stdout",
     "output_type": "stream",
     "text": [
      "              precision    recall  f1-score   support\n",
      "\n",
      "           0       0.95      0.92      0.93       507\n",
      "           1       0.90      0.96      0.93       485\n",
      "           2       0.91      0.89      0.90       495\n",
      "\n",
      "    accuracy                           0.92      1487\n",
      "   macro avg       0.92      0.92      0.92      1487\n",
      "weighted avg       0.92      0.92      0.92      1487\n",
      "\n"
     ]
    }
   ],
   "source": [
    "# 최적의 패딩값\n",
    "# 85 -> 0.91\n",
    "# 200 -> 0.921\n",
    "# 367(평균) -> 0.93\n",
    "# 318(중앙값) -> 0.92\n",
    "# +++ 패딩값을 늘릴수록 학습이 길어짐..\n",
    "model=torch.load('./model_final/try_6.pth',weights_only=False)\n",
    "testDL=DataLoader(testDS,batch_size=len(testDS))\n",
    "for feature, target in testDL:\n",
    "    pre_y=model(feature)\n",
    "    print(classification_report(target.detach().numpy(),torch.argmax(pre_y,dim=1).numpy()))\n"
   ]
  },
  {
   "cell_type": "code",
   "execution_count": 34,
   "metadata": {},
   "outputs": [],
   "source": [
    "# def predict_mcf(model, data, result):\n",
    "#     # dataTS=torch.FloatTensor(data).reshape(1,-1)\n",
    "#     pre_val=model(dataTS)\n",
    "#     pre_val=F.softmax(pre_val, dim=1)\n",
    "#     print(f'{result[pre_val]}: {max(pre_val[0].detach()):.4f}')\n",
    "#     return f'{result[pre_val]}: {max(pre_val[0].detach()):.4f}'"
   ]
  },
  {
   "cell_type": "code",
   "execution_count": 43,
   "metadata": {},
   "outputs": [],
   "source": [
    "def predict_mcf2(model, data, result):\n",
    "    dataTS=data.reshape(1,-1) #torch.FloatTensor(data).reshape(1,-1)\n",
    "    pre_val=model(dataTS)\n",
    "    pre_val=F.softmax(pre_val, dim=1)\n",
    "    num=pre_val.argmax(dim=1)\n",
    "    print(pre_val, pre_val.argmax(dim=1))\n",
    "    print(f'{result[num]}: {max(pre_val[0].detach()):.4f}')\n",
    "    return f'{result[num]}: {max(pre_val[0].detach()):.4f}'"
   ]
  },
  {
   "cell_type": "code",
   "execution_count": 53,
   "metadata": {},
   "outputs": [
    {
     "ename": "RuntimeError",
     "evalue": "[enforce fail at alloc_cpu.cpp:114] data. DefaultCPUAllocator: not enough memory: you tried to allocate 3451764736 bytes.",
     "output_type": "error",
     "traceback": [
      "\u001b[1;31m---------------------------------------------------------------------------\u001b[0m",
      "\u001b[1;31mRuntimeError\u001b[0m                              Traceback (most recent call last)",
      "Cell \u001b[1;32mIn[53], line 7\u001b[0m\n\u001b[0;32m      5\u001b[0m \u001b[38;5;28;01mfor\u001b[39;00m feature, target \u001b[38;5;129;01min\u001b[39;00m testDL:\n\u001b[0;32m      6\u001b[0m     count\u001b[38;5;241m+\u001b[39m\u001b[38;5;241m=\u001b[39m\u001b[38;5;241m1\u001b[39m\n\u001b[1;32m----> 7\u001b[0m     a\u001b[38;5;241m=\u001b[39m\u001b[43mpredict_mcf2\u001b[49m\u001b[43m(\u001b[49m\u001b[43mmodel\u001b[49m\u001b[43m,\u001b[49m\u001b[43m \u001b[49m\u001b[43mfeature\u001b[49m\u001b[43m,\u001b[49m\u001b[43m \u001b[49m\u001b[43mresult_idx\u001b[49m\u001b[43m)\u001b[49m\n\u001b[0;32m      8\u001b[0m     \u001b[38;5;28mprint\u001b[39m(a, target)\n\u001b[0;32m      9\u001b[0m     \u001b[38;5;28;01mif\u001b[39;00m count\u001b[38;5;241m==\u001b[39m\u001b[38;5;241m5\u001b[39m: \u001b[38;5;28;01mbreak\u001b[39;00m\n",
      "Cell \u001b[1;32mIn[43], line 3\u001b[0m, in \u001b[0;36mpredict_mcf2\u001b[1;34m(model, data, result)\u001b[0m\n\u001b[0;32m      1\u001b[0m \u001b[38;5;28;01mdef\u001b[39;00m \u001b[38;5;21mpredict_mcf2\u001b[39m(model, data, result):\n\u001b[0;32m      2\u001b[0m     dataTS\u001b[38;5;241m=\u001b[39mdata\u001b[38;5;241m.\u001b[39mreshape(\u001b[38;5;241m1\u001b[39m,\u001b[38;5;241m-\u001b[39m\u001b[38;5;241m1\u001b[39m) \u001b[38;5;66;03m#torch.FloatTensor(data).reshape(1,-1)\u001b[39;00m\n\u001b[1;32m----> 3\u001b[0m     pre_val\u001b[38;5;241m=\u001b[39m\u001b[43mmodel\u001b[49m\u001b[43m(\u001b[49m\u001b[43mdataTS\u001b[49m\u001b[43m)\u001b[49m\n\u001b[0;32m      4\u001b[0m     pre_val\u001b[38;5;241m=\u001b[39mF\u001b[38;5;241m.\u001b[39msoftmax(pre_val, dim\u001b[38;5;241m=\u001b[39m\u001b[38;5;241m1\u001b[39m)\n\u001b[0;32m      5\u001b[0m     num\u001b[38;5;241m=\u001b[39mpre_val\u001b[38;5;241m.\u001b[39margmax(dim\u001b[38;5;241m=\u001b[39m\u001b[38;5;241m1\u001b[39m)\n",
      "File \u001b[1;32mc:\\Users\\KDP-25\\anaconda3\\envs\\NLP\\lib\\site-packages\\torch\\nn\\modules\\module.py:1532\u001b[0m, in \u001b[0;36mModule._wrapped_call_impl\u001b[1;34m(self, *args, **kwargs)\u001b[0m\n\u001b[0;32m   1530\u001b[0m     \u001b[38;5;28;01mreturn\u001b[39;00m \u001b[38;5;28mself\u001b[39m\u001b[38;5;241m.\u001b[39m_compiled_call_impl(\u001b[38;5;241m*\u001b[39margs, \u001b[38;5;241m*\u001b[39m\u001b[38;5;241m*\u001b[39mkwargs)  \u001b[38;5;66;03m# type: ignore[misc]\u001b[39;00m\n\u001b[0;32m   1531\u001b[0m \u001b[38;5;28;01melse\u001b[39;00m:\n\u001b[1;32m-> 1532\u001b[0m     \u001b[38;5;28;01mreturn\u001b[39;00m \u001b[38;5;28;43mself\u001b[39;49m\u001b[38;5;241;43m.\u001b[39;49m\u001b[43m_call_impl\u001b[49m\u001b[43m(\u001b[49m\u001b[38;5;241;43m*\u001b[39;49m\u001b[43margs\u001b[49m\u001b[43m,\u001b[49m\u001b[43m \u001b[49m\u001b[38;5;241;43m*\u001b[39;49m\u001b[38;5;241;43m*\u001b[39;49m\u001b[43mkwargs\u001b[49m\u001b[43m)\u001b[49m\n",
      "File \u001b[1;32mc:\\Users\\KDP-25\\anaconda3\\envs\\NLP\\lib\\site-packages\\torch\\nn\\modules\\module.py:1541\u001b[0m, in \u001b[0;36mModule._call_impl\u001b[1;34m(self, *args, **kwargs)\u001b[0m\n\u001b[0;32m   1536\u001b[0m \u001b[38;5;66;03m# If we don't have any hooks, we want to skip the rest of the logic in\u001b[39;00m\n\u001b[0;32m   1537\u001b[0m \u001b[38;5;66;03m# this function, and just call forward.\u001b[39;00m\n\u001b[0;32m   1538\u001b[0m \u001b[38;5;28;01mif\u001b[39;00m \u001b[38;5;129;01mnot\u001b[39;00m (\u001b[38;5;28mself\u001b[39m\u001b[38;5;241m.\u001b[39m_backward_hooks \u001b[38;5;129;01mor\u001b[39;00m \u001b[38;5;28mself\u001b[39m\u001b[38;5;241m.\u001b[39m_backward_pre_hooks \u001b[38;5;129;01mor\u001b[39;00m \u001b[38;5;28mself\u001b[39m\u001b[38;5;241m.\u001b[39m_forward_hooks \u001b[38;5;129;01mor\u001b[39;00m \u001b[38;5;28mself\u001b[39m\u001b[38;5;241m.\u001b[39m_forward_pre_hooks\n\u001b[0;32m   1539\u001b[0m         \u001b[38;5;129;01mor\u001b[39;00m _global_backward_pre_hooks \u001b[38;5;129;01mor\u001b[39;00m _global_backward_hooks\n\u001b[0;32m   1540\u001b[0m         \u001b[38;5;129;01mor\u001b[39;00m _global_forward_hooks \u001b[38;5;129;01mor\u001b[39;00m _global_forward_pre_hooks):\n\u001b[1;32m-> 1541\u001b[0m     \u001b[38;5;28;01mreturn\u001b[39;00m \u001b[43mforward_call\u001b[49m\u001b[43m(\u001b[49m\u001b[38;5;241;43m*\u001b[39;49m\u001b[43margs\u001b[49m\u001b[43m,\u001b[49m\u001b[43m \u001b[49m\u001b[38;5;241;43m*\u001b[39;49m\u001b[38;5;241;43m*\u001b[39;49m\u001b[43mkwargs\u001b[49m\u001b[43m)\u001b[49m\n\u001b[0;32m   1543\u001b[0m \u001b[38;5;28;01mtry\u001b[39;00m:\n\u001b[0;32m   1544\u001b[0m     result \u001b[38;5;241m=\u001b[39m \u001b[38;5;28;01mNone\u001b[39;00m\n",
      "File \u001b[1;32mc:\\Users\\KDP-25\\Desktop\\test\\NLP\\project\\NLPfunc.py:157\u001b[0m, in \u001b[0;36mtextCLF.forward\u001b[1;34m(self, input)\u001b[0m\n\u001b[0;32m    155\u001b[0m \u001b[38;5;28;01mdef\u001b[39;00m \u001b[38;5;21mforward\u001b[39m(\u001b[38;5;28mself\u001b[39m, \u001b[38;5;28minput\u001b[39m):\n\u001b[0;32m    156\u001b[0m     embeddings\u001b[38;5;241m=\u001b[39m \u001b[38;5;28mself\u001b[39m\u001b[38;5;241m.\u001b[39membedding(\u001b[38;5;28minput\u001b[39m)\n\u001b[1;32m--> 157\u001b[0m     output,_\u001b[38;5;241m=\u001b[39m \u001b[38;5;28;43mself\u001b[39;49m\u001b[38;5;241;43m.\u001b[39;49m\u001b[43mmodel\u001b[49m\u001b[43m(\u001b[49m\u001b[43membeddings\u001b[49m\u001b[43m)\u001b[49m\n\u001b[0;32m    158\u001b[0m     last_output\u001b[38;5;241m=\u001b[39moutput[:,\u001b[38;5;241m-\u001b[39m\u001b[38;5;241m1\u001b[39m,:]\n\u001b[0;32m    159\u001b[0m     last_output\u001b[38;5;241m=\u001b[39m\u001b[38;5;28mself\u001b[39m\u001b[38;5;241m.\u001b[39mdropout(last_output)\n",
      "File \u001b[1;32mc:\\Users\\KDP-25\\anaconda3\\envs\\NLP\\lib\\site-packages\\torch\\nn\\modules\\module.py:1532\u001b[0m, in \u001b[0;36mModule._wrapped_call_impl\u001b[1;34m(self, *args, **kwargs)\u001b[0m\n\u001b[0;32m   1530\u001b[0m     \u001b[38;5;28;01mreturn\u001b[39;00m \u001b[38;5;28mself\u001b[39m\u001b[38;5;241m.\u001b[39m_compiled_call_impl(\u001b[38;5;241m*\u001b[39margs, \u001b[38;5;241m*\u001b[39m\u001b[38;5;241m*\u001b[39mkwargs)  \u001b[38;5;66;03m# type: ignore[misc]\u001b[39;00m\n\u001b[0;32m   1531\u001b[0m \u001b[38;5;28;01melse\u001b[39;00m:\n\u001b[1;32m-> 1532\u001b[0m     \u001b[38;5;28;01mreturn\u001b[39;00m \u001b[38;5;28;43mself\u001b[39;49m\u001b[38;5;241;43m.\u001b[39;49m\u001b[43m_call_impl\u001b[49m\u001b[43m(\u001b[49m\u001b[38;5;241;43m*\u001b[39;49m\u001b[43margs\u001b[49m\u001b[43m,\u001b[49m\u001b[43m \u001b[49m\u001b[38;5;241;43m*\u001b[39;49m\u001b[38;5;241;43m*\u001b[39;49m\u001b[43mkwargs\u001b[49m\u001b[43m)\u001b[49m\n",
      "File \u001b[1;32mc:\\Users\\KDP-25\\anaconda3\\envs\\NLP\\lib\\site-packages\\torch\\nn\\modules\\module.py:1541\u001b[0m, in \u001b[0;36mModule._call_impl\u001b[1;34m(self, *args, **kwargs)\u001b[0m\n\u001b[0;32m   1536\u001b[0m \u001b[38;5;66;03m# If we don't have any hooks, we want to skip the rest of the logic in\u001b[39;00m\n\u001b[0;32m   1537\u001b[0m \u001b[38;5;66;03m# this function, and just call forward.\u001b[39;00m\n\u001b[0;32m   1538\u001b[0m \u001b[38;5;28;01mif\u001b[39;00m \u001b[38;5;129;01mnot\u001b[39;00m (\u001b[38;5;28mself\u001b[39m\u001b[38;5;241m.\u001b[39m_backward_hooks \u001b[38;5;129;01mor\u001b[39;00m \u001b[38;5;28mself\u001b[39m\u001b[38;5;241m.\u001b[39m_backward_pre_hooks \u001b[38;5;129;01mor\u001b[39;00m \u001b[38;5;28mself\u001b[39m\u001b[38;5;241m.\u001b[39m_forward_hooks \u001b[38;5;129;01mor\u001b[39;00m \u001b[38;5;28mself\u001b[39m\u001b[38;5;241m.\u001b[39m_forward_pre_hooks\n\u001b[0;32m   1539\u001b[0m         \u001b[38;5;129;01mor\u001b[39;00m _global_backward_pre_hooks \u001b[38;5;129;01mor\u001b[39;00m _global_backward_hooks\n\u001b[0;32m   1540\u001b[0m         \u001b[38;5;129;01mor\u001b[39;00m _global_forward_hooks \u001b[38;5;129;01mor\u001b[39;00m _global_forward_pre_hooks):\n\u001b[1;32m-> 1541\u001b[0m     \u001b[38;5;28;01mreturn\u001b[39;00m \u001b[43mforward_call\u001b[49m\u001b[43m(\u001b[49m\u001b[38;5;241;43m*\u001b[39;49m\u001b[43margs\u001b[49m\u001b[43m,\u001b[49m\u001b[43m \u001b[49m\u001b[38;5;241;43m*\u001b[39;49m\u001b[38;5;241;43m*\u001b[39;49m\u001b[43mkwargs\u001b[49m\u001b[43m)\u001b[49m\n\u001b[0;32m   1543\u001b[0m \u001b[38;5;28;01mtry\u001b[39;00m:\n\u001b[0;32m   1544\u001b[0m     result \u001b[38;5;241m=\u001b[39m \u001b[38;5;28;01mNone\u001b[39;00m\n",
      "File \u001b[1;32mc:\\Users\\KDP-25\\anaconda3\\envs\\NLP\\lib\\site-packages\\torch\\nn\\modules\\rnn.py:911\u001b[0m, in \u001b[0;36mLSTM.forward\u001b[1;34m(self, input, hx)\u001b[0m\n\u001b[0;32m    908\u001b[0m         hx \u001b[38;5;241m=\u001b[39m \u001b[38;5;28mself\u001b[39m\u001b[38;5;241m.\u001b[39mpermute_hidden(hx, sorted_indices)\n\u001b[0;32m    910\u001b[0m \u001b[38;5;28;01mif\u001b[39;00m batch_sizes \u001b[38;5;129;01mis\u001b[39;00m \u001b[38;5;28;01mNone\u001b[39;00m:\n\u001b[1;32m--> 911\u001b[0m     result \u001b[38;5;241m=\u001b[39m \u001b[43m_VF\u001b[49m\u001b[38;5;241;43m.\u001b[39;49m\u001b[43mlstm\u001b[49m\u001b[43m(\u001b[49m\u001b[38;5;28;43minput\u001b[39;49m\u001b[43m,\u001b[49m\u001b[43m \u001b[49m\u001b[43mhx\u001b[49m\u001b[43m,\u001b[49m\u001b[43m \u001b[49m\u001b[38;5;28;43mself\u001b[39;49m\u001b[38;5;241;43m.\u001b[39;49m\u001b[43m_flat_weights\u001b[49m\u001b[43m,\u001b[49m\u001b[43m \u001b[49m\u001b[38;5;28;43mself\u001b[39;49m\u001b[38;5;241;43m.\u001b[39;49m\u001b[43mbias\u001b[49m\u001b[43m,\u001b[49m\u001b[43m \u001b[49m\u001b[38;5;28;43mself\u001b[39;49m\u001b[38;5;241;43m.\u001b[39;49m\u001b[43mnum_layers\u001b[49m\u001b[43m,\u001b[49m\n\u001b[0;32m    912\u001b[0m \u001b[43m                      \u001b[49m\u001b[38;5;28;43mself\u001b[39;49m\u001b[38;5;241;43m.\u001b[39;49m\u001b[43mdropout\u001b[49m\u001b[43m,\u001b[49m\u001b[43m \u001b[49m\u001b[38;5;28;43mself\u001b[39;49m\u001b[38;5;241;43m.\u001b[39;49m\u001b[43mtraining\u001b[49m\u001b[43m,\u001b[49m\u001b[43m \u001b[49m\u001b[38;5;28;43mself\u001b[39;49m\u001b[38;5;241;43m.\u001b[39;49m\u001b[43mbidirectional\u001b[49m\u001b[43m,\u001b[49m\u001b[43m \u001b[49m\u001b[38;5;28;43mself\u001b[39;49m\u001b[38;5;241;43m.\u001b[39;49m\u001b[43mbatch_first\u001b[49m\u001b[43m)\u001b[49m\n\u001b[0;32m    913\u001b[0m \u001b[38;5;28;01melse\u001b[39;00m:\n\u001b[0;32m    914\u001b[0m     result \u001b[38;5;241m=\u001b[39m _VF\u001b[38;5;241m.\u001b[39mlstm(\u001b[38;5;28minput\u001b[39m, batch_sizes, hx, \u001b[38;5;28mself\u001b[39m\u001b[38;5;241m.\u001b[39m_flat_weights, \u001b[38;5;28mself\u001b[39m\u001b[38;5;241m.\u001b[39mbias,\n\u001b[0;32m    915\u001b[0m                       \u001b[38;5;28mself\u001b[39m\u001b[38;5;241m.\u001b[39mnum_layers, \u001b[38;5;28mself\u001b[39m\u001b[38;5;241m.\u001b[39mdropout, \u001b[38;5;28mself\u001b[39m\u001b[38;5;241m.\u001b[39mtraining, \u001b[38;5;28mself\u001b[39m\u001b[38;5;241m.\u001b[39mbidirectional)\n",
      "\u001b[1;31mRuntimeError\u001b[0m: [enforce fail at alloc_cpu.cpp:114] data. DefaultCPUAllocator: not enough memory: you tried to allocate 3451764736 bytes."
     ]
    }
   ],
   "source": [
    "model=torch.load('./model_final/try_2.pth',weights_only=False)\n",
    "testDL=DataLoader(testDS,batch_size=len(testDS))\n",
    "result_idx=['교육', '환경', '음식/의료']\n",
    "count=0\n",
    "for feature, target in testDL:\n",
    "    count+=1\n",
    "    a=predict_mcf2(model, feature, result_idx)\n",
    "    print(a, target)\n",
    "    if count==5: break"
   ]
  }
 ],
 "metadata": {
  "kernelspec": {
   "display_name": "personal_projet",
   "language": "python",
   "name": "python3"
  },
  "language_info": {
   "codemirror_mode": {
    "name": "ipython",
    "version": 3
   },
   "file_extension": ".py",
   "mimetype": "text/x-python",
   "name": "python",
   "nbconvert_exporter": "python",
   "pygments_lexer": "ipython3",
   "version": "3.8.20"
  }
 },
 "nbformat": 4,
 "nbformat_minor": 2
}
