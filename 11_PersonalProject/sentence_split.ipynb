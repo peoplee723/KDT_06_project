{
 "cells": [
  {
   "cell_type": "markdown",
   "metadata": {},
   "source": [
    "### 문장 분리 및 구두점 생성"
   ]
  },
  {
   "cell_type": "code",
   "execution_count": 4,
   "metadata": {},
   "outputs": [],
   "source": [
    "from kss import split_sentences"
   ]
  },
  {
   "cell_type": "code",
   "execution_count": 2,
   "metadata": {},
   "outputs": [
    {
     "name": "stderr",
     "output_type": "stream",
     "text": [
      "[Kss]: Oh! You have mecab in your environment. Kss will take this as a backend! :D\n",
      "\n"
     ]
    },
    {
     "data": {
      "text/plain": [
       "['종합소득세가 고지됬다는 말은 근로소득 외에 다른 소득이 있었다는 말입니다',\n",
       " '본인은 없었다고 하지만 과세청은 있다고 하니, 세무서에 문의하는 수 밖에 없어요.',\n",
       " '다른 방법은 없습니다.']"
      ]
     },
     "execution_count": 2,
     "metadata": {},
     "output_type": "execute_result"
    }
   ],
   "source": [
    "split_sentences('종합소득세가 고지됬다는 말은 근로소득 외에 다른 소득이 있었다는 말입니다본인은 없었다고 하지만 과세청은 있다고 하니, 세무서에 문의하는 수 밖에 없어요.다른 방법은 없습니다.')"
   ]
  },
  {
   "cell_type": "markdown",
   "metadata": {},
   "source": [
    "### 데이터 전처리를 위한 문장 분리 및 구두점 생성하기\n",
    "1. kss를 통한 문장 분리\n",
    "2. 분리한 문장 끝에 구두점이 없는 경우 구두점 생성하기 ('.'으로 고정 생성)\n",
    "3. 잘 전처리한 데이터를 바탕으로 문장 분리를 학습하여 쓸모없는 문장 제거 자동화"
   ]
  },
  {
   "cell_type": "markdown",
   "metadata": {},
   "source": [
    "#### kss를 통한 문장 분리 수행\n",
    "- listdir를 통한 엑셀 파일 불러오기\n",
    "- answer의 각 행마다 setence_split 수행\n",
    "- 분리된 문장 끝에 구두점이 없는 경우 '.' 추가\n",
    "- DF모아 저장"
   ]
  },
  {
   "cell_type": "code",
   "execution_count": 2,
   "metadata": {},
   "outputs": [],
   "source": [
    "import os\n",
    "import pandas as pd"
   ]
  },
  {
   "cell_type": "code",
   "execution_count": 7,
   "metadata": {},
   "outputs": [],
   "source": [
    "DEFAULT_PATH='./data/합치기 테스트/'\n",
    "data_list=os.listdir(DEFAULT_PATH)[:-1]\n",
    "# 데이터 불러오기\n",
    "for data in data_list:\n",
    "    dataDF=pd.read_csv(DEFAULT_PATH+data, usecols=[2,3])\n",
    "    # print(dataDF)\n",
    "    splited_answer=[]\n",
    "    # 행마다 문장분리 실행\n",
    "    for a in dataDF['answer']:\n",
    "        a_splited=split_sentences(a, strip=True)\n",
    "        # 구두점 넣기\n",
    "        sentence_list=[]\n",
    "        for sentence in a_splited:\n",
    "            if sentence.strip()[-1] not in ['.', '!', '?', '~', ')', '}', ']',\n",
    "                                    '&', '>']:\n",
    "                sentence_list.append(sentence+'.')\n",
    "                # print(sentence)\n",
    "            else:\n",
    "                sentence_list.append(sentence)\n",
    "                # print('구두점 존재')\n",
    "        # 분리한 행 재조합\n",
    "        splited_answer.append(sentence_list)\n",
    "    # 데이터 프레임으로 반환\n",
    "    dataDF['answer']=splited_answer\n",
    "    # splited로 이름 바꾸기\n",
    "    data=data.replace('after', 'splited')\n",
    "    dataDF.to_csv(DEFAULT_PATH+data, index=False, encoding='utf-8-sig')"
   ]
  }
 ],
 "metadata": {
  "kernelspec": {
   "display_name": "personal_projet",
   "language": "python",
   "name": "python3"
  },
  "language_info": {
   "codemirror_mode": {
    "name": "ipython",
    "version": 3
   },
   "file_extension": ".py",
   "mimetype": "text/x-python",
   "name": "python",
   "nbconvert_exporter": "python",
   "pygments_lexer": "ipython3",
   "version": "3.8.20"
  }
 },
 "nbformat": 4,
 "nbformat_minor": 2
}
