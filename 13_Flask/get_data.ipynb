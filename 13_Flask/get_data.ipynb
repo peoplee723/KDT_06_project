{
 "cells": [
  {
   "cell_type": "code",
   "execution_count": 148,
   "metadata": {},
   "outputs": [],
   "source": [
    "import kagglehub\n"
   ]
  },
  {
   "cell_type": "code",
   "execution_count": 149,
   "metadata": {},
   "outputs": [
    {
     "name": "stdout",
     "output_type": "stream",
     "text": [
      "Warning: Looks like you're using an outdated `kagglehub` version, please consider updating (latest version: 0.3.3)\n",
      "./ C:\\Users\\KDP-25\\.cache\\kagglehub\\datasets\\paramaggarwal\\fashion-product-images-dataset\\versions\\1\n"
     ]
    }
   ],
   "source": [
    "path = kagglehub.dataset_download(\"paramaggarwal/fashion-product-images-dataset\")\n",
    "\n",
    "print(\"./\", path)"
   ]
  },
  {
   "cell_type": "code",
   "execution_count": 150,
   "metadata": {},
   "outputs": [
    {
     "data": {
      "text/plain": [
       "'C:\\\\Users\\\\KDP-25\\\\.cache\\\\kagglehub\\\\datasets\\\\paramaggarwal\\\\fashion-product-images-dataset\\\\versions\\\\1'"
      ]
     },
     "execution_count": 150,
     "metadata": {},
     "output_type": "execute_result"
    }
   ],
   "source": [
    "path"
   ]
  },
  {
   "cell_type": "code",
   "execution_count": 151,
   "metadata": {},
   "outputs": [],
   "source": [
    "import pandas as pd"
   ]
  },
  {
   "cell_type": "code",
   "execution_count": 152,
   "metadata": {},
   "outputs": [],
   "source": [
    "img=pd.read_csv('images.csv')\n",
    "category=pd.read_csv('styles.csv')"
   ]
  },
  {
   "cell_type": "code",
   "execution_count": 153,
   "metadata": {},
   "outputs": [
    {
     "data": {
      "text/plain": [
       "str"
      ]
     },
     "execution_count": 153,
     "metadata": {},
     "output_type": "execute_result"
    }
   ],
   "source": [
    "type(img['filename'][0])"
   ]
  },
  {
   "cell_type": "code",
   "execution_count": 154,
   "metadata": {},
   "outputs": [],
   "source": [
    "id=[]\n",
    "for i in img['filename']:\n",
    "    a=i.replace('.jpg', '')\n",
    "    id.append(a)\n",
    "img['id']=id"
   ]
  },
  {
   "cell_type": "code",
   "execution_count": 155,
   "metadata": {},
   "outputs": [
    {
     "data": {
      "text/html": [
       "<div>\n",
       "<style scoped>\n",
       "    .dataframe tbody tr th:only-of-type {\n",
       "        vertical-align: middle;\n",
       "    }\n",
       "\n",
       "    .dataframe tbody tr th {\n",
       "        vertical-align: top;\n",
       "    }\n",
       "\n",
       "    .dataframe thead th {\n",
       "        text-align: right;\n",
       "    }\n",
       "</style>\n",
       "<table border=\"1\" class=\"dataframe\">\n",
       "  <thead>\n",
       "    <tr style=\"text-align: right;\">\n",
       "      <th></th>\n",
       "      <th>filename</th>\n",
       "      <th>link</th>\n",
       "      <th>id</th>\n",
       "    </tr>\n",
       "  </thead>\n",
       "  <tbody>\n",
       "    <tr>\n",
       "      <th>0</th>\n",
       "      <td>15970.jpg</td>\n",
       "      <td>http://assets.myntassets.com/v1/images/style/p...</td>\n",
       "      <td>15970</td>\n",
       "    </tr>\n",
       "    <tr>\n",
       "      <th>1</th>\n",
       "      <td>39386.jpg</td>\n",
       "      <td>http://assets.myntassets.com/v1/images/style/p...</td>\n",
       "      <td>39386</td>\n",
       "    </tr>\n",
       "    <tr>\n",
       "      <th>2</th>\n",
       "      <td>59263.jpg</td>\n",
       "      <td>http://assets.myntassets.com/v1/images/style/p...</td>\n",
       "      <td>59263</td>\n",
       "    </tr>\n",
       "  </tbody>\n",
       "</table>\n",
       "</div>"
      ],
      "text/plain": [
       "    filename                                               link     id\n",
       "0  15970.jpg  http://assets.myntassets.com/v1/images/style/p...  15970\n",
       "1  39386.jpg  http://assets.myntassets.com/v1/images/style/p...  39386\n",
       "2  59263.jpg  http://assets.myntassets.com/v1/images/style/p...  59263"
      ]
     },
     "execution_count": 155,
     "metadata": {},
     "output_type": "execute_result"
    }
   ],
   "source": [
    "img.head(3)"
   ]
  },
  {
   "cell_type": "code",
   "execution_count": 156,
   "metadata": {},
   "outputs": [
    {
     "name": "stdout",
     "output_type": "stream",
     "text": [
      "<class 'pandas.core.frame.DataFrame'>\n",
      "RangeIndex: 44446 entries, 0 to 44445\n",
      "Data columns (total 3 columns):\n",
      " #   Column    Non-Null Count  Dtype \n",
      "---  ------    --------------  ----- \n",
      " 0   filename  44446 non-null  object\n",
      " 1   link      44446 non-null  object\n",
      " 2   id        44446 non-null  object\n",
      "dtypes: object(3)\n",
      "memory usage: 1.0+ MB\n",
      "<class 'pandas.core.frame.DataFrame'>\n",
      "RangeIndex: 44446 entries, 0 to 44445\n",
      "Data columns (total 10 columns):\n",
      " #   Column              Non-Null Count  Dtype  \n",
      "---  ------              --------------  -----  \n",
      " 0   id                  44446 non-null  int64  \n",
      " 1   gender              44446 non-null  object \n",
      " 2   masterCategory      44446 non-null  object \n",
      " 3   subCategory         44446 non-null  object \n",
      " 4   articleType         44446 non-null  object \n",
      " 5   baseColour          44431 non-null  object \n",
      " 6   season              44425 non-null  object \n",
      " 7   year                44445 non-null  float64\n",
      " 8   usage               44129 non-null  object \n",
      " 9   productDisplayName  44439 non-null  object \n",
      "dtypes: float64(1), int64(1), object(8)\n",
      "memory usage: 3.4+ MB\n"
     ]
    },
    {
     "data": {
      "text/plain": [
       "(None, None)"
      ]
     },
     "execution_count": 156,
     "metadata": {},
     "output_type": "execute_result"
    }
   ],
   "source": [
    "img.info(), category.info()"
   ]
  },
  {
   "cell_type": "code",
   "execution_count": 157,
   "metadata": {},
   "outputs": [],
   "source": [
    "fashionDF= pd.concat([img, category], axis=1)"
   ]
  },
  {
   "cell_type": "code",
   "execution_count": 182,
   "metadata": {},
   "outputs": [
    {
     "data": {
      "text/plain": [
       "['Topwear',\n",
       " 'Watches',\n",
       " 'Socks',\n",
       " 'Shoes',\n",
       " 'Belts',\n",
       " 'Flip Flops',\n",
       " 'Bags',\n",
       " 'Innerwear',\n",
       " 'Sandal',\n",
       " 'Shoe Accessories',\n",
       " 'Fragrance',\n",
       " 'Jewellery',\n",
       " 'Lips',\n",
       " 'Saree',\n",
       " 'Eyewear',\n",
       " 'Nails',\n",
       " 'Scarves',\n",
       " 'Dress',\n",
       " 'Loungewear and Nightwear',\n",
       " 'Wallets',\n",
       " 'Apparel Set',\n",
       " 'Headwear',\n",
       " 'Mufflers',\n",
       " 'Skin Care',\n",
       " 'Makeup',\n",
       " 'Free Gifts',\n",
       " 'Ties',\n",
       " 'Accessories',\n",
       " 'Skin',\n",
       " 'Beauty Accessories',\n",
       " 'Water Bottle',\n",
       " 'Eyes',\n",
       " 'Bath and Body',\n",
       " 'Gloves',\n",
       " 'Sports Accessories',\n",
       " 'Cufflinks',\n",
       " 'Sports Equipment',\n",
       " 'Stoles',\n",
       " 'Hair',\n",
       " 'Perfumes',\n",
       " 'Home Furnishing',\n",
       " 'Umbrellas',\n",
       " 'Wristbands',\n",
       " 'Vouchers']"
      ]
     },
     "execution_count": 182,
     "metadata": {},
     "output_type": "execute_result"
    }
   ],
   "source": [
    "a=fashionDF['subCategory'].unique()\n",
    "a=list(a)\n",
    "a.pop(1)\n",
    "a"
   ]
  },
  {
   "cell_type": "code",
   "execution_count": 162,
   "metadata": {},
   "outputs": [],
   "source": [
    "fashionDF=fashionDF[['filename', 'link', 'subCategory']]"
   ]
  },
  {
   "cell_type": "code",
   "execution_count": 163,
   "metadata": {},
   "outputs": [
    {
     "data": {
      "text/html": [
       "<div>\n",
       "<style scoped>\n",
       "    .dataframe tbody tr th:only-of-type {\n",
       "        vertical-align: middle;\n",
       "    }\n",
       "\n",
       "    .dataframe tbody tr th {\n",
       "        vertical-align: top;\n",
       "    }\n",
       "\n",
       "    .dataframe thead th {\n",
       "        text-align: right;\n",
       "    }\n",
       "</style>\n",
       "<table border=\"1\" class=\"dataframe\">\n",
       "  <thead>\n",
       "    <tr style=\"text-align: right;\">\n",
       "      <th></th>\n",
       "      <th>filename</th>\n",
       "      <th>link</th>\n",
       "      <th>subCategory</th>\n",
       "    </tr>\n",
       "  </thead>\n",
       "  <tbody>\n",
       "    <tr>\n",
       "      <th>0</th>\n",
       "      <td>15970.jpg</td>\n",
       "      <td>http://assets.myntassets.com/v1/images/style/p...</td>\n",
       "      <td>Topwear</td>\n",
       "    </tr>\n",
       "    <tr>\n",
       "      <th>1</th>\n",
       "      <td>39386.jpg</td>\n",
       "      <td>http://assets.myntassets.com/v1/images/style/p...</td>\n",
       "      <td>Bottomwear</td>\n",
       "    </tr>\n",
       "    <tr>\n",
       "      <th>2</th>\n",
       "      <td>59263.jpg</td>\n",
       "      <td>http://assets.myntassets.com/v1/images/style/p...</td>\n",
       "      <td>Watches</td>\n",
       "    </tr>\n",
       "    <tr>\n",
       "      <th>3</th>\n",
       "      <td>21379.jpg</td>\n",
       "      <td>http://assets.myntassets.com/v1/images/style/p...</td>\n",
       "      <td>Bottomwear</td>\n",
       "    </tr>\n",
       "    <tr>\n",
       "      <th>4</th>\n",
       "      <td>53759.jpg</td>\n",
       "      <td>http://assets.myntassets.com/v1/images/style/p...</td>\n",
       "      <td>Topwear</td>\n",
       "    </tr>\n",
       "    <tr>\n",
       "      <th>5</th>\n",
       "      <td>1855.jpg</td>\n",
       "      <td>http://assets.myntassets.com/v1/images/style/p...</td>\n",
       "      <td>Topwear</td>\n",
       "    </tr>\n",
       "    <tr>\n",
       "      <th>6</th>\n",
       "      <td>30805.jpg</td>\n",
       "      <td>http://assets.myntassets.com/v1/images/style/p...</td>\n",
       "      <td>Topwear</td>\n",
       "    </tr>\n",
       "    <tr>\n",
       "      <th>7</th>\n",
       "      <td>26960.jpg</td>\n",
       "      <td>http://assets.myntassets.com/v1/images/style/p...</td>\n",
       "      <td>Topwear</td>\n",
       "    </tr>\n",
       "    <tr>\n",
       "      <th>8</th>\n",
       "      <td>29114.jpg</td>\n",
       "      <td>http://assets.myntassets.com/v1/images/style/p...</td>\n",
       "      <td>Socks</td>\n",
       "    </tr>\n",
       "    <tr>\n",
       "      <th>9</th>\n",
       "      <td>30039.jpg</td>\n",
       "      <td>http://assets.myntassets.com/v1/images/style/p...</td>\n",
       "      <td>Watches</td>\n",
       "    </tr>\n",
       "  </tbody>\n",
       "</table>\n",
       "</div>"
      ],
      "text/plain": [
       "    filename                                               link subCategory\n",
       "0  15970.jpg  http://assets.myntassets.com/v1/images/style/p...     Topwear\n",
       "1  39386.jpg  http://assets.myntassets.com/v1/images/style/p...  Bottomwear\n",
       "2  59263.jpg  http://assets.myntassets.com/v1/images/style/p...     Watches\n",
       "3  21379.jpg  http://assets.myntassets.com/v1/images/style/p...  Bottomwear\n",
       "4  53759.jpg  http://assets.myntassets.com/v1/images/style/p...     Topwear\n",
       "5   1855.jpg  http://assets.myntassets.com/v1/images/style/p...     Topwear\n",
       "6  30805.jpg  http://assets.myntassets.com/v1/images/style/p...     Topwear\n",
       "7  26960.jpg  http://assets.myntassets.com/v1/images/style/p...     Topwear\n",
       "8  29114.jpg  http://assets.myntassets.com/v1/images/style/p...       Socks\n",
       "9  30039.jpg  http://assets.myntassets.com/v1/images/style/p...     Watches"
      ]
     },
     "execution_count": 163,
     "metadata": {},
     "output_type": "execute_result"
    }
   ],
   "source": [
    "fashionDF.head(10)"
   ]
  },
  {
   "cell_type": "code",
   "execution_count": 165,
   "metadata": {},
   "outputs": [],
   "source": [
    "id=[]\n",
    "for i in img['filename']:\n",
    "    a=i.replace('.jpg', '')\n",
    "    id.append(a)\n",
    "fashionDF['id']=id"
   ]
  },
  {
   "cell_type": "code",
   "execution_count": 170,
   "metadata": {},
   "outputs": [],
   "source": [
    "fashionDF=fashionDF.drop(columns='filename')"
   ]
  },
  {
   "cell_type": "code",
   "execution_count": 171,
   "metadata": {},
   "outputs": [],
   "source": [
    "fashionDF.to_csv('fashionDF.csv', index=False)"
   ]
  },
  {
   "cell_type": "code",
   "execution_count": null,
   "metadata": {},
   "outputs": [],
   "source": []
  }
 ],
 "metadata": {
  "kernelspec": {
   "display_name": "FLASK_38",
   "language": "python",
   "name": "python3"
  },
  "language_info": {
   "codemirror_mode": {
    "name": "ipython",
    "version": 3
   },
   "file_extension": ".py",
   "mimetype": "text/x-python",
   "name": "python",
   "nbconvert_exporter": "python",
   "pygments_lexer": "ipython3",
   "version": "3.8.20"
  }
 },
 "nbformat": 4,
 "nbformat_minor": 2
}
