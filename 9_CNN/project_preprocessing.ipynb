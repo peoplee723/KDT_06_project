{
 "cells": [
  {
   "cell_type": "code",
   "execution_count": 132,
   "metadata": {},
   "outputs": [],
   "source": [
    "import cv2\n",
    "import os\n",
    "import requests\n",
    "import numpy as np\n",
    "\n",
    "from PIL import Image"
   ]
  },
  {
   "cell_type": "code",
   "execution_count": null,
   "metadata": {},
   "outputs": [],
   "source": [
    "\n",
    "\n",
    "# 동영상 파일 및 저장 경로 설정\n",
    "VIDEO_FILE=\"diva.mp4\"\n",
    "SAVE_FILE='../data/overwatch/Diva'\n",
    "\n",
    "# 폴더 존재 여부 확인 및 생성\n",
    "if not os.path.exists(SAVE_FILE):\n",
    "    os.mkdir(SAVE_FILE)\n",
    "\n",
    "# 동영상 읽기 및 캡쳐\n",
    "cap= cv2.VideoCapture(VIDEO_FILE)\n",
    "frame_count= 0\n",
    "if cap.isOpened():\n",
    "    while True:\n",
    "        ret, img= cap.read()\n",
    "        if ret:\n",
    "            if frame_count %1 == 0:\n",
    "                Path=os.path.join(SAVE_FILE, f'{frame_count//1}.jpg')\n",
    "                cv2.imwrite(Path, img)\n",
    "            frame_count+=1\n",
    "        else: break\n",
    "else:\n",
    "    print('비디오 실행 불가')\n",
    "cap.release()\n",
    "cv2.destroyAllWindows()"
   ]
  },
  {
   "cell_type": "markdown",
   "metadata": {},
   "source": []
  },
  {
   "cell_type": "code",
   "execution_count": 134,
   "metadata": {},
   "outputs": [],
   "source": [
    "def makeJPG(video_file, save_file, file_name,frame):\n",
    "    '''\n",
    "    frame: 몇 프레임당 1장 뽑을지\n",
    "\n",
    "    '''\n",
    "    VIDEO_FILE=video_file\n",
    "    SAVE_FILE=save_file\n",
    "    cap= cv2.VideoCapture(VIDEO_FILE)\n",
    "    frame_count= 0\n",
    "    if cap.isOpened():\n",
    "        while True:\n",
    "            ret, img= cap.read()\n",
    "            if ret:\n",
    "                if frame_count %frame == 0:\n",
    "                    Path=os.path.join(SAVE_FILE, f'{file_name+frame_count//frame}.jpg')\n",
    "                    cv2.imwrite(Path, img)\n",
    "                frame_count+=1\n",
    "            else: break\n",
    "    else:\n",
    "        print('cant open video')\n",
    "    cap.release()\n",
    "    cv2.destroyAllWindows()"
   ]
  },
  {
   "cell_type": "code",
   "execution_count": null,
   "metadata": {},
   "outputs": [],
   "source": []
  }
 ],
 "metadata": {
  "kernelspec": {
   "display_name": "TORCH_CV_38",
   "language": "python",
   "name": "python3"
  },
  "language_info": {
   "codemirror_mode": {
    "name": "ipython",
    "version": 3
   },
   "file_extension": ".py",
   "mimetype": "text/x-python",
   "name": "python",
   "nbconvert_exporter": "python",
   "pygments_lexer": "ipython3",
   "version": "3.8.19"
  }
 },
 "nbformat": 4,
 "nbformat_minor": 2
}
