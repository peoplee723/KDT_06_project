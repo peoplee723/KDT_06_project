{
 "cells": [
  {
   "cell_type": "markdown",
   "metadata": {},
   "source": [
    "#### [딥러닝 프로젝트]\n",
    "- 의료 데이터를 통한 질병 예측\n"
   ]
  },
  {
   "cell_type": "markdown",
   "metadata": {},
   "source": [
    "- 사용한 데이터: 캐글 설문조사\n",
    "- 학습 목적: 올바른 생활습관이 질병에 미치는 영향 알아보기\n"
   ]
  },
  {
   "cell_type": "markdown",
   "metadata": {},
   "source": [
    "[1] 데이터 전처리"
   ]
  },
  {
   "cell_type": "code",
   "execution_count": 123,
   "metadata": {},
   "outputs": [],
   "source": [
    "import pandas as pd\n",
    "import numpy as np\n",
    "import matplotlib.pyplot as plt\n",
    "import seaborn as sns\n",
    "from func import show_outliers"
   ]
  },
  {
   "cell_type": "markdown",
   "metadata": {},
   "source": []
  },
  {
   "cell_type": "markdown",
   "metadata": {},
   "source": [
    "[1] -1 데이터 불러오기 및 컬럼 선정"
   ]
  },
  {
   "cell_type": "markdown",
   "metadata": {},
   "source": [
    " ##### 컬럼 의미\n",
    " state: 거주 주  \n",
    " fmonth: 파일 생성한 월  \n",
    " idate: 설문일  \n",
    " imonth: 설문월    \n",
    " iday: 설문 요일   \n",
    " iyear: 설문 연도  \n",
    " dispcode: 설문 결과 (설문을 다 채웠는지 여부)  \n",
    " seqno: 설문일 코드  \n",
    " _psu: ?  \n",
    " ctelenum: 올바른 전화번호 여부  \n",
    " pvtresd1: 개인집??  \n",
    " .... 331개의 컬럼  (너무 많음)"
   ]
  },
  {
   "cell_type": "code",
   "execution_count": 124,
   "metadata": {},
   "outputs": [
    {
     "name": "stdout",
     "output_type": "stream",
     "text": [
      "<class 'pandas.core.frame.DataFrame'>\n",
      "Index: 491775 entries, 1 to 491775\n",
      "Columns: 330 entries, X_state to X_age80\n",
      "dtypes: float64(99), object(231)\n",
      "memory usage: 1.2+ GB\n"
     ]
    }
   ],
   "source": [
    "raw_DF=pd.read_csv('brfss2013.csv', encoding='ISO-8859-1', low_memory=False, index_col=0)\n",
    "raw_DF.info()"
   ]
  },
  {
   "cell_type": "markdown",
   "metadata": {},
   "source": [
    "##### 사용할 피쳐\n",
    "- (dispcode: 설문 완료도)\n",
    "- X_age80: 나이 (80이상 데이터가 존재하지 않음)\n",
    "- wtkg3: 몸무게(kg)\n",
    "- X_bmi5: bmi 지수\n",
    "- sleptim1: 수면 시간\n",
    "- children: 자녀 수\n",
    "- (X_impcage: 자녀 나이)\n",
    "- _smoker3: 흡연 상태 (never, former, current)\n",
    "- smokday2: 현재 하루 흡연 횟수\n",
    "- _drnkmo4: 월 음주 횟수\n",
    "- avedrnk2: 지난 1달간 음주 횟수\n",
    "- (employ1: 고용 상태)\n",
    "- scntwrk1, scntlwk1: 주당 일하는 시간 (컬럼 합치는 작업 필요!!)\n",
    "- exract11(운동타입), -exeroft1(운동횟수), -exerhmm1(운동시간)\n",
    "- _frtlt1: (하루 한번 이상 과일을 먹는지)\n",
    "- _veglt1: 하루 한번 이상 채소를 먹는지\n",
    "- genhlth: 전반적 건강 (범주)\n",
    "- qlactlm2: 건강 문제로 인한 활동 제약 여부\n",
    "- emtsuprt: 심리 상담 필요 빈도\n",
    "- chcscncr, chcocncr: 암 발생한 적 있는지\n",
    "- chccopd1: 만성 폐질환 발생한 적 있는지\n",
    "- havarth3: 관절염 걸린 적 있는지\n",
    "- addepev2: 우울증 걸린 적 있는지\n",
    "- chckidny: 간 질환 걸린적 있는지\n",
    "- diabete3: 당뇨 걸린 적 있는지\n",
    "\n",
    "- 어떤걸 타겟으로 할까?\n",
    "[1] 전반적 건강 상태 예측 -> 생활습관, 질병 여부를 통해"
   ]
  },
  {
   "cell_type": "code",
   "execution_count": 126,
   "metadata": {},
   "outputs": [
    {
     "name": "stdout",
     "output_type": "stream",
     "text": [
      "<class 'pandas.core.frame.DataFrame'>\n",
      "RangeIndex: 491775 entries, 0 to 491774\n",
      "Data columns (total 27 columns):\n",
      " #   Column     Non-Null Count   Dtype  \n",
      "---  ------     --------------   -----  \n",
      " 0   X_age80    491764 non-null  float64\n",
      " 1   wtkg3      471090 non-null  float64\n",
      " 2   X_bmi5     465048 non-null  float64\n",
      " 3   sleptim1   484388 non-null  float64\n",
      " 4   children   489501 non-null  float64\n",
      " 5   X_smoker3  476442 non-null  object \n",
      " 6   smokday2   214792 non-null  object \n",
      " 7   X_drnkmo4  467893 non-null  float64\n",
      " 8   avedrnk2   231185 non-null  float64\n",
      " 9   employ1    488389 non-null  object \n",
      " 10  scntwrk1   32362 non-null   float64\n",
      " 11  scntlwk1   21282 non-null   float64\n",
      " 12  exract11   330827 non-null  object \n",
      " 13  exeroft1   327610 non-null  float64\n",
      " 14  exerhmm1   323380 non-null  float64\n",
      " 15  X_frtlt1   463072 non-null  object \n",
      " 16  X_veglt1   461611 non-null  object \n",
      " 17  genhlth    489790 non-null  object \n",
      " 18  qlactlm2   480446 non-null  object \n",
      " 19  emtsuprt   11621 non-null   object \n",
      " 20  chcscncr   490466 non-null  object \n",
      " 21  chcocncr   490627 non-null  object \n",
      " 22  chccopd1   489051 non-null  object \n",
      " 23  havarth3   488805 non-null  object \n",
      " 24  addepev2   489486 non-null  object \n",
      " 25  chckidny   490054 non-null  object \n",
      " 26  diabete3   490943 non-null  object \n",
      "dtypes: float64(11), object(16)\n",
      "memory usage: 101.3+ MB\n"
     ]
    }
   ],
   "source": [
    "# life_DF=raw_DF[['X_age80', 'wtkg3', 'X_bmi5', 'sleptim1', 'children', 'X_smoker3',\n",
    "#                'smokday2', 'X_drnkmo4', 'avedrnk2', 'employ1', 'scntwrk1', 'scntlwk1', 'exract11',\n",
    "#                 'exeroft1', 'exerhmm1', 'X_frtlt1', 'X_veglt1', 'genhlth', 'qlactlm2', 'emtsuprt', \n",
    "#                 'chcscncr', 'chcocncr',\n",
    "#                  'chccopd1', 'havarth3', 'addepev2', 'chckidny', 'diabete3']]\n",
    "# life_DF.to_csv('lifeDF.csv', header=True, index=False)\n",
    "life_DF=pd.read_csv('lifeDF.csv', low_memory=False)\n",
    "life_DF.info()\n"
   ]
  },
  {
   "cell_type": "code",
   "execution_count": 127,
   "metadata": {},
   "outputs": [],
   "source": [
    "life_DF.columns=['age', 'weight', 'bmi', 'sleptime', 'children', 'smoker', 'smokday', 'acholPM', 'ave_drnk',\n",
    "                 'employ', 'worktime1', 'worktime2', 'exer_type', 'exer_num', 'exer_time', 'fruit', 'veg',\n",
    "                 'gen_health', 'act_limit', 'emo_support', 'caner1', 'caner2', 'chronic','hacarth',\n",
    "                 'addep', 'kidny', 'diabete']"
   ]
  },
  {
   "cell_type": "code",
   "execution_count": 128,
   "metadata": {},
   "outputs": [
    {
     "name": "stdout",
     "output_type": "stream",
     "text": [
      "age\n",
      "False    491764\n",
      "True         11\n",
      "Name: count, dtype: int64\n",
      "weight\n",
      "False    471090\n",
      "True      20685\n",
      "Name: count, dtype: int64\n",
      "bmi\n",
      "False    465048\n",
      "True      26727\n",
      "Name: count, dtype: int64\n",
      "sleptime\n",
      "False    484388\n",
      "True       7387\n",
      "Name: count, dtype: int64\n",
      "children\n",
      "False    489501\n",
      "True       2274\n",
      "Name: count, dtype: int64\n",
      "smoker\n",
      "False    476442\n",
      "True      15333\n",
      "Name: count, dtype: int64\n",
      "smokday\n",
      "True     276983\n",
      "False    214792\n",
      "Name: count, dtype: int64\n",
      "acholPM\n",
      "False    467893\n",
      "True      23882\n",
      "Name: count, dtype: int64\n",
      "ave_drnk\n",
      "True     260590\n",
      "False    231185\n",
      "Name: count, dtype: int64\n",
      "employ\n",
      "False    488389\n",
      "True       3386\n",
      "Name: count, dtype: int64\n",
      "worktime1\n",
      "True     459413\n",
      "False     32362\n",
      "Name: count, dtype: int64\n",
      "worktime2\n",
      "True     470493\n",
      "False     21282\n",
      "Name: count, dtype: int64\n",
      "exer_type\n",
      "False    330827\n",
      "True     160948\n",
      "Name: count, dtype: int64\n",
      "exer_num\n",
      "False    327610\n",
      "True     164165\n",
      "Name: count, dtype: int64\n",
      "exer_time\n",
      "False    323380\n",
      "True     168395\n",
      "Name: count, dtype: int64\n",
      "fruit\n",
      "False    463072\n",
      "True      28703\n",
      "Name: count, dtype: int64\n",
      "veg\n",
      "False    461611\n",
      "True      30164\n",
      "Name: count, dtype: int64\n",
      "gen_health\n",
      "False    489790\n",
      "True       1985\n",
      "Name: count, dtype: int64\n",
      "act_limit\n",
      "False    480446\n",
      "True      11329\n",
      "Name: count, dtype: int64\n",
      "emo_support\n",
      "True     480154\n",
      "False     11621\n",
      "Name: count, dtype: int64\n",
      "caner1\n",
      "False    490466\n",
      "True       1309\n",
      "Name: count, dtype: int64\n",
      "caner2\n",
      "False    490627\n",
      "True       1148\n",
      "Name: count, dtype: int64\n",
      "chronic\n",
      "False    489051\n",
      "True       2724\n",
      "Name: count, dtype: int64\n",
      "hacarth\n",
      "False    488805\n",
      "True       2970\n",
      "Name: count, dtype: int64\n",
      "addep\n",
      "False    489486\n",
      "True       2289\n",
      "Name: count, dtype: int64\n",
      "kidny\n",
      "False    490054\n",
      "True       1721\n",
      "Name: count, dtype: int64\n",
      "diabete\n",
      "False    490943\n",
      "True        832\n",
      "Name: count, dtype: int64\n"
     ]
    }
   ],
   "source": [
    "# 결측치 제거\n",
    "for col in life_DF.columns:\n",
    "    print(life_DF[col].isna().value_counts())\n",
    "# 컬럼마다 결측치가 존재 -> 처리 필요"
   ]
  },
  {
   "cell_type": "code",
   "execution_count": 129,
   "metadata": {},
   "outputs": [
    {
     "data": {
      "text/html": [
       "<div>\n",
       "<style scoped>\n",
       "    .dataframe tbody tr th:only-of-type {\n",
       "        vertical-align: middle;\n",
       "    }\n",
       "\n",
       "    .dataframe tbody tr th {\n",
       "        vertical-align: top;\n",
       "    }\n",
       "\n",
       "    .dataframe thead th {\n",
       "        text-align: right;\n",
       "    }\n",
       "</style>\n",
       "<table border=\"1\" class=\"dataframe\">\n",
       "  <thead>\n",
       "    <tr style=\"text-align: right;\">\n",
       "      <th></th>\n",
       "      <th>age</th>\n",
       "      <th>weight</th>\n",
       "      <th>bmi</th>\n",
       "      <th>sleptime</th>\n",
       "      <th>children</th>\n",
       "      <th>acholPM</th>\n",
       "      <th>ave_drnk</th>\n",
       "      <th>worktime1</th>\n",
       "      <th>worktime2</th>\n",
       "      <th>exer_num</th>\n",
       "      <th>exer_time</th>\n",
       "    </tr>\n",
       "  </thead>\n",
       "  <tbody>\n",
       "    <tr>\n",
       "      <th>count</th>\n",
       "      <td>491764.000000</td>\n",
       "      <td>471090.00000</td>\n",
       "      <td>465048.000000</td>\n",
       "      <td>484388.000000</td>\n",
       "      <td>489501.000000</td>\n",
       "      <td>467893.000000</td>\n",
       "      <td>231185.000000</td>\n",
       "      <td>32362.000000</td>\n",
       "      <td>21282.000000</td>\n",
       "      <td>327610.000000</td>\n",
       "      <td>323380.000000</td>\n",
       "    </tr>\n",
       "    <tr>\n",
       "      <th>mean</th>\n",
       "      <td>54.773696</td>\n",
       "      <td>8009.87800</td>\n",
       "      <td>2782.447803</td>\n",
       "      <td>7.052099</td>\n",
       "      <td>0.516720</td>\n",
       "      <td>11.199841</td>\n",
       "      <td>2.209905</td>\n",
       "      <td>43.036586</td>\n",
       "      <td>42.018043</td>\n",
       "      <td>135.771555</td>\n",
       "      <td>92.947681</td>\n",
       "    </tr>\n",
       "    <tr>\n",
       "      <th>std</th>\n",
       "      <td>17.031970</td>\n",
       "      <td>2020.49408</td>\n",
       "      <td>615.667745</td>\n",
       "      <td>1.604110</td>\n",
       "      <td>1.025019</td>\n",
       "      <td>33.502438</td>\n",
       "      <td>2.308685</td>\n",
       "      <td>15.851984</td>\n",
       "      <td>15.203182</td>\n",
       "      <td>50.494182</td>\n",
       "      <td>113.981085</td>\n",
       "    </tr>\n",
       "    <tr>\n",
       "      <th>min</th>\n",
       "      <td>0.000000</td>\n",
       "      <td>1.00000</td>\n",
       "      <td>1.000000</td>\n",
       "      <td>0.000000</td>\n",
       "      <td>0.000000</td>\n",
       "      <td>0.000000</td>\n",
       "      <td>1.000000</td>\n",
       "      <td>0.000000</td>\n",
       "      <td>0.000000</td>\n",
       "      <td>0.000000</td>\n",
       "      <td>1.000000</td>\n",
       "    </tr>\n",
       "    <tr>\n",
       "      <th>25%</th>\n",
       "      <td>42.000000</td>\n",
       "      <td>6577.00000</td>\n",
       "      <td>2367.000000</td>\n",
       "      <td>6.000000</td>\n",
       "      <td>0.000000</td>\n",
       "      <td>0.000000</td>\n",
       "      <td>1.000000</td>\n",
       "      <td>39.000000</td>\n",
       "      <td>40.000000</td>\n",
       "      <td>103.000000</td>\n",
       "      <td>30.000000</td>\n",
       "    </tr>\n",
       "    <tr>\n",
       "      <th>50%</th>\n",
       "      <td>57.000000</td>\n",
       "      <td>7711.00000</td>\n",
       "      <td>2663.000000</td>\n",
       "      <td>7.000000</td>\n",
       "      <td>0.000000</td>\n",
       "      <td>0.000000</td>\n",
       "      <td>2.000000</td>\n",
       "      <td>40.000000</td>\n",
       "      <td>40.000000</td>\n",
       "      <td>105.000000</td>\n",
       "      <td>45.000000</td>\n",
       "    </tr>\n",
       "    <tr>\n",
       "      <th>75%</th>\n",
       "      <td>68.000000</td>\n",
       "      <td>9072.00000</td>\n",
       "      <td>3081.000000</td>\n",
       "      <td>8.000000</td>\n",
       "      <td>1.000000</td>\n",
       "      <td>9.000000</td>\n",
       "      <td>2.000000</td>\n",
       "      <td>50.000000</td>\n",
       "      <td>48.000000</td>\n",
       "      <td>203.000000</td>\n",
       "      <td>100.000000</td>\n",
       "    </tr>\n",
       "    <tr>\n",
       "      <th>max</th>\n",
       "      <td>80.000000</td>\n",
       "      <td>29030.00000</td>\n",
       "      <td>9769.000000</td>\n",
       "      <td>450.000000</td>\n",
       "      <td>47.000000</td>\n",
       "      <td>2280.000000</td>\n",
       "      <td>76.000000</td>\n",
       "      <td>98.000000</td>\n",
       "      <td>150.000000</td>\n",
       "      <td>299.000000</td>\n",
       "      <td>959.000000</td>\n",
       "    </tr>\n",
       "  </tbody>\n",
       "</table>\n",
       "</div>"
      ],
      "text/plain": [
       "                 age        weight            bmi       sleptime  \\\n",
       "count  491764.000000  471090.00000  465048.000000  484388.000000   \n",
       "mean       54.773696    8009.87800    2782.447803       7.052099   \n",
       "std        17.031970    2020.49408     615.667745       1.604110   \n",
       "min         0.000000       1.00000       1.000000       0.000000   \n",
       "25%        42.000000    6577.00000    2367.000000       6.000000   \n",
       "50%        57.000000    7711.00000    2663.000000       7.000000   \n",
       "75%        68.000000    9072.00000    3081.000000       8.000000   \n",
       "max        80.000000   29030.00000    9769.000000     450.000000   \n",
       "\n",
       "            children        acholPM       ave_drnk     worktime1  \\\n",
       "count  489501.000000  467893.000000  231185.000000  32362.000000   \n",
       "mean        0.516720      11.199841       2.209905     43.036586   \n",
       "std         1.025019      33.502438       2.308685     15.851984   \n",
       "min         0.000000       0.000000       1.000000      0.000000   \n",
       "25%         0.000000       0.000000       1.000000     39.000000   \n",
       "50%         0.000000       0.000000       2.000000     40.000000   \n",
       "75%         1.000000       9.000000       2.000000     50.000000   \n",
       "max        47.000000    2280.000000      76.000000     98.000000   \n",
       "\n",
       "          worktime2       exer_num      exer_time  \n",
       "count  21282.000000  327610.000000  323380.000000  \n",
       "mean      42.018043     135.771555      92.947681  \n",
       "std       15.203182      50.494182     113.981085  \n",
       "min        0.000000       0.000000       1.000000  \n",
       "25%       40.000000     103.000000      30.000000  \n",
       "50%       40.000000     105.000000      45.000000  \n",
       "75%       48.000000     203.000000     100.000000  \n",
       "max      150.000000     299.000000     959.000000  "
      ]
     },
     "execution_count": 129,
     "metadata": {},
     "output_type": "execute_result"
    }
   ],
   "source": [
    "life_DF.describe()"
   ]
  },
  {
   "cell_type": "code",
   "execution_count": 130,
   "metadata": {},
   "outputs": [
    {
     "data": {
      "text/html": [
       "<div>\n",
       "<style scoped>\n",
       "    .dataframe tbody tr th:only-of-type {\n",
       "        vertical-align: middle;\n",
       "    }\n",
       "\n",
       "    .dataframe tbody tr th {\n",
       "        vertical-align: top;\n",
       "    }\n",
       "\n",
       "    .dataframe thead th {\n",
       "        text-align: right;\n",
       "    }\n",
       "</style>\n",
       "<table border=\"1\" class=\"dataframe\">\n",
       "  <thead>\n",
       "    <tr style=\"text-align: right;\">\n",
       "      <th></th>\n",
       "      <th>age</th>\n",
       "      <th>weight</th>\n",
       "      <th>bmi</th>\n",
       "      <th>sleptime</th>\n",
       "      <th>children</th>\n",
       "      <th>smoker</th>\n",
       "      <th>smokday</th>\n",
       "      <th>acholPM</th>\n",
       "      <th>ave_drnk</th>\n",
       "      <th>employ</th>\n",
       "      <th>...</th>\n",
       "      <th>gen_health</th>\n",
       "      <th>act_limit</th>\n",
       "      <th>emo_support</th>\n",
       "      <th>caner1</th>\n",
       "      <th>caner2</th>\n",
       "      <th>chronic</th>\n",
       "      <th>hacarth</th>\n",
       "      <th>addep</th>\n",
       "      <th>kidny</th>\n",
       "      <th>diabete</th>\n",
       "    </tr>\n",
       "  </thead>\n",
       "  <tbody>\n",
       "    <tr>\n",
       "      <th>93152</th>\n",
       "      <td>NaN</td>\n",
       "      <td>NaN</td>\n",
       "      <td>NaN</td>\n",
       "      <td>NaN</td>\n",
       "      <td>NaN</td>\n",
       "      <td>NaN</td>\n",
       "      <td>NaN</td>\n",
       "      <td>NaN</td>\n",
       "      <td>NaN</td>\n",
       "      <td>NaN</td>\n",
       "      <td>...</td>\n",
       "      <td>NaN</td>\n",
       "      <td>NaN</td>\n",
       "      <td>NaN</td>\n",
       "      <td>NaN</td>\n",
       "      <td>NaN</td>\n",
       "      <td>NaN</td>\n",
       "      <td>NaN</td>\n",
       "      <td>NaN</td>\n",
       "      <td>NaN</td>\n",
       "      <td>NaN</td>\n",
       "    </tr>\n",
       "    <tr>\n",
       "      <th>93722</th>\n",
       "      <td>NaN</td>\n",
       "      <td>NaN</td>\n",
       "      <td>NaN</td>\n",
       "      <td>NaN</td>\n",
       "      <td>10.0</td>\n",
       "      <td>NaN</td>\n",
       "      <td>Every day</td>\n",
       "      <td>NaN</td>\n",
       "      <td>1.0</td>\n",
       "      <td>Out of work for 1 year or more</td>\n",
       "      <td>...</td>\n",
       "      <td>NaN</td>\n",
       "      <td>NaN</td>\n",
       "      <td>NaN</td>\n",
       "      <td>NaN</td>\n",
       "      <td>NaN</td>\n",
       "      <td>NaN</td>\n",
       "      <td>NaN</td>\n",
       "      <td>NaN</td>\n",
       "      <td>NaN</td>\n",
       "      <td>NaN</td>\n",
       "    </tr>\n",
       "    <tr>\n",
       "      <th>177692</th>\n",
       "      <td>NaN</td>\n",
       "      <td>1.0</td>\n",
       "      <td>1.0</td>\n",
       "      <td>8.0</td>\n",
       "      <td>3.0</td>\n",
       "      <td>NaN</td>\n",
       "      <td>Some days</td>\n",
       "      <td>30.0</td>\n",
       "      <td>3.0</td>\n",
       "      <td>A homemaker</td>\n",
       "      <td>...</td>\n",
       "      <td>Very good</td>\n",
       "      <td>NaN</td>\n",
       "      <td>NaN</td>\n",
       "      <td>No</td>\n",
       "      <td>No</td>\n",
       "      <td>No</td>\n",
       "      <td>No</td>\n",
       "      <td>No</td>\n",
       "      <td>No</td>\n",
       "      <td>No</td>\n",
       "    </tr>\n",
       "    <tr>\n",
       "      <th>180059</th>\n",
       "      <td>NaN</td>\n",
       "      <td>3.0</td>\n",
       "      <td>3.0</td>\n",
       "      <td>103.0</td>\n",
       "      <td>47.0</td>\n",
       "      <td>Current smoker - now smokes every day</td>\n",
       "      <td>Every day</td>\n",
       "      <td>1.0</td>\n",
       "      <td>NaN</td>\n",
       "      <td>NaN</td>\n",
       "      <td>...</td>\n",
       "      <td>NaN</td>\n",
       "      <td>Yes</td>\n",
       "      <td>Always</td>\n",
       "      <td>Yes</td>\n",
       "      <td>NaN</td>\n",
       "      <td>NaN</td>\n",
       "      <td>Yes</td>\n",
       "      <td>Yes</td>\n",
       "      <td>NaN</td>\n",
       "      <td>Yes</td>\n",
       "    </tr>\n",
       "    <tr>\n",
       "      <th>180063</th>\n",
       "      <td>NaN</td>\n",
       "      <td>2.0</td>\n",
       "      <td>1.0</td>\n",
       "      <td>8.0</td>\n",
       "      <td>0.0</td>\n",
       "      <td>Current smoker - now smokes some days</td>\n",
       "      <td>Every day</td>\n",
       "      <td>NaN</td>\n",
       "      <td>NaN</td>\n",
       "      <td>A homemaker</td>\n",
       "      <td>...</td>\n",
       "      <td>Good</td>\n",
       "      <td>No</td>\n",
       "      <td>NaN</td>\n",
       "      <td>No</td>\n",
       "      <td>No</td>\n",
       "      <td>No</td>\n",
       "      <td>Yes</td>\n",
       "      <td>No</td>\n",
       "      <td>No</td>\n",
       "      <td>No</td>\n",
       "    </tr>\n",
       "    <tr>\n",
       "      <th>219940</th>\n",
       "      <td>NaN</td>\n",
       "      <td>NaN</td>\n",
       "      <td>NaN</td>\n",
       "      <td>450.0</td>\n",
       "      <td>NaN</td>\n",
       "      <td>NaN</td>\n",
       "      <td>NaN</td>\n",
       "      <td>NaN</td>\n",
       "      <td>NaN</td>\n",
       "      <td>NaN</td>\n",
       "      <td>...</td>\n",
       "      <td>NaN</td>\n",
       "      <td>NaN</td>\n",
       "      <td>NaN</td>\n",
       "      <td>No</td>\n",
       "      <td>No</td>\n",
       "      <td>No</td>\n",
       "      <td>NaN</td>\n",
       "      <td>NaN</td>\n",
       "      <td>NaN</td>\n",
       "      <td>Yes</td>\n",
       "    </tr>\n",
       "    <tr>\n",
       "      <th>220824</th>\n",
       "      <td>NaN</td>\n",
       "      <td>2.0</td>\n",
       "      <td>5.0</td>\n",
       "      <td>8.0</td>\n",
       "      <td>0.0</td>\n",
       "      <td>NaN</td>\n",
       "      <td>NaN</td>\n",
       "      <td>71.0</td>\n",
       "      <td>1.0</td>\n",
       "      <td>A student</td>\n",
       "      <td>...</td>\n",
       "      <td>Excellent</td>\n",
       "      <td>No</td>\n",
       "      <td>NaN</td>\n",
       "      <td>No</td>\n",
       "      <td>No</td>\n",
       "      <td>No</td>\n",
       "      <td>No</td>\n",
       "      <td>No</td>\n",
       "      <td>No</td>\n",
       "      <td>No</td>\n",
       "    </tr>\n",
       "    <tr>\n",
       "      <th>295932</th>\n",
       "      <td>NaN</td>\n",
       "      <td>NaN</td>\n",
       "      <td>NaN</td>\n",
       "      <td>0.0</td>\n",
       "      <td>NaN</td>\n",
       "      <td>NaN</td>\n",
       "      <td>NaN</td>\n",
       "      <td>NaN</td>\n",
       "      <td>NaN</td>\n",
       "      <td>Out of work for less than 1 year</td>\n",
       "      <td>...</td>\n",
       "      <td>Excellent</td>\n",
       "      <td>Yes</td>\n",
       "      <td>NaN</td>\n",
       "      <td>NaN</td>\n",
       "      <td>NaN</td>\n",
       "      <td>NaN</td>\n",
       "      <td>NaN</td>\n",
       "      <td>NaN</td>\n",
       "      <td>NaN</td>\n",
       "      <td>NaN</td>\n",
       "    </tr>\n",
       "    <tr>\n",
       "      <th>295933</th>\n",
       "      <td>NaN</td>\n",
       "      <td>2.0</td>\n",
       "      <td>1.0</td>\n",
       "      <td>7.0</td>\n",
       "      <td>0.0</td>\n",
       "      <td>Current smoker - now smokes some days</td>\n",
       "      <td>NaN</td>\n",
       "      <td>NaN</td>\n",
       "      <td>NaN</td>\n",
       "      <td>Employed for wages</td>\n",
       "      <td>...</td>\n",
       "      <td>Very good</td>\n",
       "      <td>No</td>\n",
       "      <td>NaN</td>\n",
       "      <td>No</td>\n",
       "      <td>No</td>\n",
       "      <td>No</td>\n",
       "      <td>No</td>\n",
       "      <td>No</td>\n",
       "      <td>No</td>\n",
       "      <td>No</td>\n",
       "    </tr>\n",
       "    <tr>\n",
       "      <th>296323</th>\n",
       "      <td>NaN</td>\n",
       "      <td>NaN</td>\n",
       "      <td>NaN</td>\n",
       "      <td>NaN</td>\n",
       "      <td>NaN</td>\n",
       "      <td>NaN</td>\n",
       "      <td>NaN</td>\n",
       "      <td>NaN</td>\n",
       "      <td>1.0</td>\n",
       "      <td>NaN</td>\n",
       "      <td>...</td>\n",
       "      <td>NaN</td>\n",
       "      <td>NaN</td>\n",
       "      <td>NaN</td>\n",
       "      <td>NaN</td>\n",
       "      <td>NaN</td>\n",
       "      <td>NaN</td>\n",
       "      <td>NaN</td>\n",
       "      <td>NaN</td>\n",
       "      <td>NaN</td>\n",
       "      <td>NaN</td>\n",
       "    </tr>\n",
       "    <tr>\n",
       "      <th>491774</th>\n",
       "      <td>NaN</td>\n",
       "      <td>NaN</td>\n",
       "      <td>NaN</td>\n",
       "      <td>7.0</td>\n",
       "      <td>0.0</td>\n",
       "      <td>NaN</td>\n",
       "      <td>NaN</td>\n",
       "      <td>NaN</td>\n",
       "      <td>NaN</td>\n",
       "      <td>Employed for wages</td>\n",
       "      <td>...</td>\n",
       "      <td>Good</td>\n",
       "      <td>No</td>\n",
       "      <td>NaN</td>\n",
       "      <td>No</td>\n",
       "      <td>No</td>\n",
       "      <td>No</td>\n",
       "      <td>No</td>\n",
       "      <td>No</td>\n",
       "      <td>No</td>\n",
       "      <td>No</td>\n",
       "    </tr>\n",
       "  </tbody>\n",
       "</table>\n",
       "<p>11 rows × 27 columns</p>\n",
       "</div>"
      ],
      "text/plain": [
       "        age  weight  bmi  sleptime  children  \\\n",
       "93152   NaN     NaN  NaN       NaN       NaN   \n",
       "93722   NaN     NaN  NaN       NaN      10.0   \n",
       "177692  NaN     1.0  1.0       8.0       3.0   \n",
       "180059  NaN     3.0  3.0     103.0      47.0   \n",
       "180063  NaN     2.0  1.0       8.0       0.0   \n",
       "219940  NaN     NaN  NaN     450.0       NaN   \n",
       "220824  NaN     2.0  5.0       8.0       0.0   \n",
       "295932  NaN     NaN  NaN       0.0       NaN   \n",
       "295933  NaN     2.0  1.0       7.0       0.0   \n",
       "296323  NaN     NaN  NaN       NaN       NaN   \n",
       "491774  NaN     NaN  NaN       7.0       0.0   \n",
       "\n",
       "                                       smoker    smokday  acholPM  ave_drnk  \\\n",
       "93152                                     NaN        NaN      NaN       NaN   \n",
       "93722                                     NaN  Every day      NaN       1.0   \n",
       "177692                                    NaN  Some days     30.0       3.0   \n",
       "180059  Current smoker - now smokes every day  Every day      1.0       NaN   \n",
       "180063  Current smoker - now smokes some days  Every day      NaN       NaN   \n",
       "219940                                    NaN        NaN      NaN       NaN   \n",
       "220824                                    NaN        NaN     71.0       1.0   \n",
       "295932                                    NaN        NaN      NaN       NaN   \n",
       "295933  Current smoker - now smokes some days        NaN      NaN       NaN   \n",
       "296323                                    NaN        NaN      NaN       1.0   \n",
       "491774                                    NaN        NaN      NaN       NaN   \n",
       "\n",
       "                                  employ  ...  gen_health  act_limit  \\\n",
       "93152                                NaN  ...         NaN        NaN   \n",
       "93722     Out of work for 1 year or more  ...         NaN        NaN   \n",
       "177692                       A homemaker  ...   Very good        NaN   \n",
       "180059                               NaN  ...         NaN        Yes   \n",
       "180063                       A homemaker  ...        Good         No   \n",
       "219940                               NaN  ...         NaN        NaN   \n",
       "220824                         A student  ...   Excellent         No   \n",
       "295932  Out of work for less than 1 year  ...   Excellent        Yes   \n",
       "295933                Employed for wages  ...   Very good         No   \n",
       "296323                               NaN  ...         NaN        NaN   \n",
       "491774                Employed for wages  ...        Good         No   \n",
       "\n",
       "       emo_support  caner1  caner2 chronic hacarth addep kidny diabete  \n",
       "93152          NaN     NaN     NaN     NaN     NaN   NaN   NaN     NaN  \n",
       "93722          NaN     NaN     NaN     NaN     NaN   NaN   NaN     NaN  \n",
       "177692         NaN      No      No      No      No    No    No      No  \n",
       "180059      Always     Yes     NaN     NaN     Yes   Yes   NaN     Yes  \n",
       "180063         NaN      No      No      No     Yes    No    No      No  \n",
       "219940         NaN      No      No      No     NaN   NaN   NaN     Yes  \n",
       "220824         NaN      No      No      No      No    No    No      No  \n",
       "295932         NaN     NaN     NaN     NaN     NaN   NaN   NaN     NaN  \n",
       "295933         NaN      No      No      No      No    No    No      No  \n",
       "296323         NaN     NaN     NaN     NaN     NaN   NaN   NaN     NaN  \n",
       "491774         NaN      No      No      No      No    No    No      No  \n",
       "\n",
       "[11 rows x 27 columns]"
      ]
     },
     "execution_count": 130,
     "metadata": {},
     "output_type": "execute_result"
    }
   ],
   "source": [
    "# 나이\n",
    "life_DF[life_DF['age'].isna()==True]"
   ]
  },
  {
   "cell_type": "code",
   "execution_count": 131,
   "metadata": {},
   "outputs": [],
   "source": [
    "# 다른 수치 기입이 부실한 사람은 제거, 데이터 수가 많으므로 나머지는 중앙값으로 대체\n",
    "life_DF.drop(index=[93152, 93722, 219940, 295932, 296323, 491774], inplace=True)\n"
   ]
  },
  {
   "cell_type": "code",
   "execution_count": 132,
   "metadata": {},
   "outputs": [
    {
     "data": {
      "text/plain": [
       "age\n",
       "False    491769\n",
       "Name: count, dtype: int64"
      ]
     },
     "execution_count": 132,
     "metadata": {},
     "output_type": "execute_result"
    }
   ],
   "source": [
    "life_DF.loc[life_DF['age'].isna()==True,'age']= life_DF.loc[life_DF['age'].isna()==True,'age'].fillna(life_DF['age'].median())\n",
    "life_DF['age'].isna().value_counts()"
   ]
  },
  {
   "cell_type": "code",
   "execution_count": 133,
   "metadata": {},
   "outputs": [],
   "source": [
    "life_DF['age'].describe()\n",
    "# 0살 제거\n",
    "under= life_DF[life_DF['age']==0].index\n",
    "life_DF.drop(index= under, inplace=True)"
   ]
  },
  {
   "cell_type": "code",
   "execution_count": 134,
   "metadata": {},
   "outputs": [
    {
     "data": {
      "text/html": [
       "<div>\n",
       "<style scoped>\n",
       "    .dataframe tbody tr th:only-of-type {\n",
       "        vertical-align: middle;\n",
       "    }\n",
       "\n",
       "    .dataframe tbody tr th {\n",
       "        vertical-align: top;\n",
       "    }\n",
       "\n",
       "    .dataframe thead th {\n",
       "        text-align: right;\n",
       "    }\n",
       "</style>\n",
       "<table border=\"1\" class=\"dataframe\">\n",
       "  <thead>\n",
       "    <tr style=\"text-align: right;\">\n",
       "      <th></th>\n",
       "      <th>age</th>\n",
       "      <th>weight</th>\n",
       "      <th>bmi</th>\n",
       "      <th>sleptime</th>\n",
       "      <th>children</th>\n",
       "      <th>smoker</th>\n",
       "      <th>smokday</th>\n",
       "      <th>acholPM</th>\n",
       "      <th>ave_drnk</th>\n",
       "      <th>employ</th>\n",
       "      <th>...</th>\n",
       "      <th>gen_health</th>\n",
       "      <th>act_limit</th>\n",
       "      <th>emo_support</th>\n",
       "      <th>caner1</th>\n",
       "      <th>caner2</th>\n",
       "      <th>chronic</th>\n",
       "      <th>hacarth</th>\n",
       "      <th>addep</th>\n",
       "      <th>kidny</th>\n",
       "      <th>diabete</th>\n",
       "    </tr>\n",
       "  </thead>\n",
       "  <tbody>\n",
       "    <tr>\n",
       "      <th>7</th>\n",
       "      <td>60.0</td>\n",
       "      <td>NaN</td>\n",
       "      <td>NaN</td>\n",
       "      <td>6.0</td>\n",
       "      <td>0.0</td>\n",
       "      <td>Current smoker - now smokes every day</td>\n",
       "      <td>Every day</td>\n",
       "      <td>2.0</td>\n",
       "      <td>1.0</td>\n",
       "      <td>Retired</td>\n",
       "      <td>...</td>\n",
       "      <td>Good</td>\n",
       "      <td>Yes</td>\n",
       "      <td>NaN</td>\n",
       "      <td>No</td>\n",
       "      <td>No</td>\n",
       "      <td>No</td>\n",
       "      <td>Yes</td>\n",
       "      <td>No</td>\n",
       "      <td>No</td>\n",
       "      <td>No</td>\n",
       "    </tr>\n",
       "    <tr>\n",
       "      <th>35</th>\n",
       "      <td>56.0</td>\n",
       "      <td>NaN</td>\n",
       "      <td>NaN</td>\n",
       "      <td>8.0</td>\n",
       "      <td>0.0</td>\n",
       "      <td>Never smoked</td>\n",
       "      <td>NaN</td>\n",
       "      <td>NaN</td>\n",
       "      <td>NaN</td>\n",
       "      <td>Self-employed</td>\n",
       "      <td>...</td>\n",
       "      <td>Good</td>\n",
       "      <td>No</td>\n",
       "      <td>NaN</td>\n",
       "      <td>No</td>\n",
       "      <td>No</td>\n",
       "      <td>No</td>\n",
       "      <td>Yes</td>\n",
       "      <td>No</td>\n",
       "      <td>No</td>\n",
       "      <td>No</td>\n",
       "    </tr>\n",
       "    <tr>\n",
       "      <th>175</th>\n",
       "      <td>57.0</td>\n",
       "      <td>NaN</td>\n",
       "      <td>NaN</td>\n",
       "      <td>6.0</td>\n",
       "      <td>0.0</td>\n",
       "      <td>NaN</td>\n",
       "      <td>NaN</td>\n",
       "      <td>NaN</td>\n",
       "      <td>NaN</td>\n",
       "      <td>Retired</td>\n",
       "      <td>...</td>\n",
       "      <td>Very good</td>\n",
       "      <td>No</td>\n",
       "      <td>NaN</td>\n",
       "      <td>Yes</td>\n",
       "      <td>No</td>\n",
       "      <td>No</td>\n",
       "      <td>No</td>\n",
       "      <td>Yes</td>\n",
       "      <td>No</td>\n",
       "      <td>No</td>\n",
       "    </tr>\n",
       "    <tr>\n",
       "      <th>220</th>\n",
       "      <td>56.0</td>\n",
       "      <td>NaN</td>\n",
       "      <td>NaN</td>\n",
       "      <td>7.0</td>\n",
       "      <td>0.0</td>\n",
       "      <td>Never smoked</td>\n",
       "      <td>NaN</td>\n",
       "      <td>2.0</td>\n",
       "      <td>1.0</td>\n",
       "      <td>Employed for wages</td>\n",
       "      <td>...</td>\n",
       "      <td>Very good</td>\n",
       "      <td>Yes</td>\n",
       "      <td>NaN</td>\n",
       "      <td>Yes</td>\n",
       "      <td>No</td>\n",
       "      <td>No</td>\n",
       "      <td>Yes</td>\n",
       "      <td>No</td>\n",
       "      <td>No</td>\n",
       "      <td>No</td>\n",
       "    </tr>\n",
       "    <tr>\n",
       "      <th>256</th>\n",
       "      <td>67.0</td>\n",
       "      <td>NaN</td>\n",
       "      <td>NaN</td>\n",
       "      <td>8.0</td>\n",
       "      <td>0.0</td>\n",
       "      <td>Former smoker</td>\n",
       "      <td>Not at all</td>\n",
       "      <td>60.0</td>\n",
       "      <td>2.0</td>\n",
       "      <td>Retired</td>\n",
       "      <td>...</td>\n",
       "      <td>Very good</td>\n",
       "      <td>No</td>\n",
       "      <td>NaN</td>\n",
       "      <td>No</td>\n",
       "      <td>Yes</td>\n",
       "      <td>No</td>\n",
       "      <td>No</td>\n",
       "      <td>Yes</td>\n",
       "      <td>No</td>\n",
       "      <td>No</td>\n",
       "    </tr>\n",
       "    <tr>\n",
       "      <th>...</th>\n",
       "      <td>...</td>\n",
       "      <td>...</td>\n",
       "      <td>...</td>\n",
       "      <td>...</td>\n",
       "      <td>...</td>\n",
       "      <td>...</td>\n",
       "      <td>...</td>\n",
       "      <td>...</td>\n",
       "      <td>...</td>\n",
       "      <td>...</td>\n",
       "      <td>...</td>\n",
       "      <td>...</td>\n",
       "      <td>...</td>\n",
       "      <td>...</td>\n",
       "      <td>...</td>\n",
       "      <td>...</td>\n",
       "      <td>...</td>\n",
       "      <td>...</td>\n",
       "      <td>...</td>\n",
       "      <td>...</td>\n",
       "      <td>...</td>\n",
       "    </tr>\n",
       "    <tr>\n",
       "      <th>491563</th>\n",
       "      <td>80.0</td>\n",
       "      <td>NaN</td>\n",
       "      <td>NaN</td>\n",
       "      <td>NaN</td>\n",
       "      <td>0.0</td>\n",
       "      <td>Never smoked</td>\n",
       "      <td>NaN</td>\n",
       "      <td>0.0</td>\n",
       "      <td>NaN</td>\n",
       "      <td>A homemaker</td>\n",
       "      <td>...</td>\n",
       "      <td>Fair</td>\n",
       "      <td>No</td>\n",
       "      <td>NaN</td>\n",
       "      <td>No</td>\n",
       "      <td>No</td>\n",
       "      <td>No</td>\n",
       "      <td>No</td>\n",
       "      <td>No</td>\n",
       "      <td>No</td>\n",
       "      <td>No</td>\n",
       "    </tr>\n",
       "    <tr>\n",
       "      <th>491650</th>\n",
       "      <td>22.0</td>\n",
       "      <td>NaN</td>\n",
       "      <td>NaN</td>\n",
       "      <td>7.0</td>\n",
       "      <td>0.0</td>\n",
       "      <td>Never smoked</td>\n",
       "      <td>NaN</td>\n",
       "      <td>0.0</td>\n",
       "      <td>NaN</td>\n",
       "      <td>A student</td>\n",
       "      <td>...</td>\n",
       "      <td>Good</td>\n",
       "      <td>No</td>\n",
       "      <td>NaN</td>\n",
       "      <td>No</td>\n",
       "      <td>No</td>\n",
       "      <td>No</td>\n",
       "      <td>No</td>\n",
       "      <td>No</td>\n",
       "      <td>No</td>\n",
       "      <td>No</td>\n",
       "    </tr>\n",
       "    <tr>\n",
       "      <th>491654</th>\n",
       "      <td>72.0</td>\n",
       "      <td>NaN</td>\n",
       "      <td>NaN</td>\n",
       "      <td>8.0</td>\n",
       "      <td>0.0</td>\n",
       "      <td>Former smoker</td>\n",
       "      <td>Not at all</td>\n",
       "      <td>0.0</td>\n",
       "      <td>NaN</td>\n",
       "      <td>Retired</td>\n",
       "      <td>...</td>\n",
       "      <td>Very good</td>\n",
       "      <td>No</td>\n",
       "      <td>NaN</td>\n",
       "      <td>No</td>\n",
       "      <td>Yes</td>\n",
       "      <td>No</td>\n",
       "      <td>Yes</td>\n",
       "      <td>No</td>\n",
       "      <td>No</td>\n",
       "      <td>No</td>\n",
       "    </tr>\n",
       "    <tr>\n",
       "      <th>491740</th>\n",
       "      <td>45.0</td>\n",
       "      <td>NaN</td>\n",
       "      <td>NaN</td>\n",
       "      <td>5.0</td>\n",
       "      <td>0.0</td>\n",
       "      <td>Never smoked</td>\n",
       "      <td>NaN</td>\n",
       "      <td>0.0</td>\n",
       "      <td>NaN</td>\n",
       "      <td>Self-employed</td>\n",
       "      <td>...</td>\n",
       "      <td>Fair</td>\n",
       "      <td>No</td>\n",
       "      <td>NaN</td>\n",
       "      <td>No</td>\n",
       "      <td>No</td>\n",
       "      <td>No</td>\n",
       "      <td>No</td>\n",
       "      <td>No</td>\n",
       "      <td>No</td>\n",
       "      <td>No</td>\n",
       "    </tr>\n",
       "    <tr>\n",
       "      <th>491754</th>\n",
       "      <td>76.0</td>\n",
       "      <td>NaN</td>\n",
       "      <td>NaN</td>\n",
       "      <td>8.0</td>\n",
       "      <td>0.0</td>\n",
       "      <td>NaN</td>\n",
       "      <td>NaN</td>\n",
       "      <td>NaN</td>\n",
       "      <td>NaN</td>\n",
       "      <td>Retired</td>\n",
       "      <td>...</td>\n",
       "      <td>Good</td>\n",
       "      <td>NaN</td>\n",
       "      <td>NaN</td>\n",
       "      <td>No</td>\n",
       "      <td>No</td>\n",
       "      <td>No</td>\n",
       "      <td>Yes</td>\n",
       "      <td>Yes</td>\n",
       "      <td>No</td>\n",
       "      <td>No</td>\n",
       "    </tr>\n",
       "  </tbody>\n",
       "</table>\n",
       "<p>20678 rows × 27 columns</p>\n",
       "</div>"
      ],
      "text/plain": [
       "         age  weight  bmi  sleptime  children  \\\n",
       "7       60.0     NaN  NaN       6.0       0.0   \n",
       "35      56.0     NaN  NaN       8.0       0.0   \n",
       "175     57.0     NaN  NaN       6.0       0.0   \n",
       "220     56.0     NaN  NaN       7.0       0.0   \n",
       "256     67.0     NaN  NaN       8.0       0.0   \n",
       "...      ...     ...  ...       ...       ...   \n",
       "491563  80.0     NaN  NaN       NaN       0.0   \n",
       "491650  22.0     NaN  NaN       7.0       0.0   \n",
       "491654  72.0     NaN  NaN       8.0       0.0   \n",
       "491740  45.0     NaN  NaN       5.0       0.0   \n",
       "491754  76.0     NaN  NaN       8.0       0.0   \n",
       "\n",
       "                                       smoker     smokday  acholPM  ave_drnk  \\\n",
       "7       Current smoker - now smokes every day   Every day      2.0       1.0   \n",
       "35                               Never smoked         NaN      NaN       NaN   \n",
       "175                                       NaN         NaN      NaN       NaN   \n",
       "220                              Never smoked         NaN      2.0       1.0   \n",
       "256                             Former smoker  Not at all     60.0       2.0   \n",
       "...                                       ...         ...      ...       ...   \n",
       "491563                           Never smoked         NaN      0.0       NaN   \n",
       "491650                           Never smoked         NaN      0.0       NaN   \n",
       "491654                          Former smoker  Not at all      0.0       NaN   \n",
       "491740                           Never smoked         NaN      0.0       NaN   \n",
       "491754                                    NaN         NaN      NaN       NaN   \n",
       "\n",
       "                    employ  ...  gen_health  act_limit emo_support  caner1  \\\n",
       "7                  Retired  ...        Good        Yes         NaN      No   \n",
       "35           Self-employed  ...        Good         No         NaN      No   \n",
       "175                Retired  ...   Very good         No         NaN     Yes   \n",
       "220     Employed for wages  ...   Very good        Yes         NaN     Yes   \n",
       "256                Retired  ...   Very good         No         NaN      No   \n",
       "...                    ...  ...         ...        ...         ...     ...   \n",
       "491563         A homemaker  ...        Fair         No         NaN      No   \n",
       "491650           A student  ...        Good         No         NaN      No   \n",
       "491654             Retired  ...   Very good         No         NaN      No   \n",
       "491740       Self-employed  ...        Fair         No         NaN      No   \n",
       "491754             Retired  ...        Good        NaN         NaN      No   \n",
       "\n",
       "        caner2 chronic hacarth addep kidny diabete  \n",
       "7           No      No     Yes    No    No      No  \n",
       "35          No      No     Yes    No    No      No  \n",
       "175         No      No      No   Yes    No      No  \n",
       "220         No      No     Yes    No    No      No  \n",
       "256        Yes      No      No   Yes    No      No  \n",
       "...        ...     ...     ...   ...   ...     ...  \n",
       "491563      No      No      No    No    No      No  \n",
       "491650      No      No      No    No    No      No  \n",
       "491654     Yes      No     Yes    No    No      No  \n",
       "491740      No      No      No    No    No      No  \n",
       "491754      No      No     Yes   Yes    No      No  \n",
       "\n",
       "[20678 rows x 27 columns]"
      ]
     },
     "execution_count": 134,
     "metadata": {},
     "output_type": "execute_result"
    }
   ],
   "source": [
    "# 무게\n",
    "life_DF[life_DF['weight'].isna()==True]"
   ]
  },
  {
   "cell_type": "code",
   "execution_count": 135,
   "metadata": {},
   "outputs": [
    {
     "data": {
      "text/plain": [
       "count    471090.00000\n",
       "mean       8009.87800\n",
       "std        2020.49408\n",
       "min           1.00000\n",
       "25%        6577.00000\n",
       "50%        7711.00000\n",
       "75%        9072.00000\n",
       "max       29030.00000\n",
       "Name: weight, dtype: float64"
      ]
     },
     "execution_count": 135,
     "metadata": {},
     "output_type": "execute_result"
    }
   ],
   "source": [
    "life_DF['weight'].describe()"
   ]
  },
  {
   "cell_type": "code",
   "execution_count": 136,
   "metadata": {},
   "outputs": [
    {
     "data": {
      "text/html": [
       "<div>\n",
       "<style scoped>\n",
       "    .dataframe tbody tr th:only-of-type {\n",
       "        vertical-align: middle;\n",
       "    }\n",
       "\n",
       "    .dataframe tbody tr th {\n",
       "        vertical-align: top;\n",
       "    }\n",
       "\n",
       "    .dataframe thead th {\n",
       "        text-align: right;\n",
       "    }\n",
       "</style>\n",
       "<table border=\"1\" class=\"dataframe\">\n",
       "  <thead>\n",
       "    <tr style=\"text-align: right;\">\n",
       "      <th></th>\n",
       "      <th>age</th>\n",
       "      <th>weight</th>\n",
       "      <th>bmi</th>\n",
       "      <th>sleptime</th>\n",
       "      <th>children</th>\n",
       "      <th>smoker</th>\n",
       "      <th>smokday</th>\n",
       "      <th>acholPM</th>\n",
       "      <th>ave_drnk</th>\n",
       "      <th>employ</th>\n",
       "      <th>...</th>\n",
       "      <th>gen_health</th>\n",
       "      <th>act_limit</th>\n",
       "      <th>emo_support</th>\n",
       "      <th>caner1</th>\n",
       "      <th>caner2</th>\n",
       "      <th>chronic</th>\n",
       "      <th>hacarth</th>\n",
       "      <th>addep</th>\n",
       "      <th>kidny</th>\n",
       "      <th>diabete</th>\n",
       "    </tr>\n",
       "  </thead>\n",
       "  <tbody>\n",
       "    <tr>\n",
       "      <th>93721</th>\n",
       "      <td>1.0</td>\n",
       "      <td>10.0</td>\n",
       "      <td>1.0</td>\n",
       "      <td>3.0</td>\n",
       "      <td>1.0</td>\n",
       "      <td>NaN</td>\n",
       "      <td>NaN</td>\n",
       "      <td>NaN</td>\n",
       "      <td>NaN</td>\n",
       "      <td>Employed for wages</td>\n",
       "      <td>...</td>\n",
       "      <td>Good</td>\n",
       "      <td>No</td>\n",
       "      <td>NaN</td>\n",
       "      <td>No</td>\n",
       "      <td>No</td>\n",
       "      <td>No</td>\n",
       "      <td>No</td>\n",
       "      <td>No</td>\n",
       "      <td>No</td>\n",
       "      <td>Yes, but female told only during pregnancy</td>\n",
       "    </tr>\n",
       "    <tr>\n",
       "      <th>177692</th>\n",
       "      <td>57.0</td>\n",
       "      <td>1.0</td>\n",
       "      <td>1.0</td>\n",
       "      <td>8.0</td>\n",
       "      <td>3.0</td>\n",
       "      <td>NaN</td>\n",
       "      <td>Some days</td>\n",
       "      <td>30.0</td>\n",
       "      <td>3.0</td>\n",
       "      <td>A homemaker</td>\n",
       "      <td>...</td>\n",
       "      <td>Very good</td>\n",
       "      <td>NaN</td>\n",
       "      <td>NaN</td>\n",
       "      <td>No</td>\n",
       "      <td>No</td>\n",
       "      <td>No</td>\n",
       "      <td>No</td>\n",
       "      <td>No</td>\n",
       "      <td>No</td>\n",
       "      <td>No</td>\n",
       "    </tr>\n",
       "    <tr>\n",
       "      <th>180059</th>\n",
       "      <td>57.0</td>\n",
       "      <td>3.0</td>\n",
       "      <td>3.0</td>\n",
       "      <td>103.0</td>\n",
       "      <td>47.0</td>\n",
       "      <td>Current smoker - now smokes every day</td>\n",
       "      <td>Every day</td>\n",
       "      <td>1.0</td>\n",
       "      <td>NaN</td>\n",
       "      <td>NaN</td>\n",
       "      <td>...</td>\n",
       "      <td>NaN</td>\n",
       "      <td>Yes</td>\n",
       "      <td>Always</td>\n",
       "      <td>Yes</td>\n",
       "      <td>NaN</td>\n",
       "      <td>NaN</td>\n",
       "      <td>Yes</td>\n",
       "      <td>Yes</td>\n",
       "      <td>NaN</td>\n",
       "      <td>Yes</td>\n",
       "    </tr>\n",
       "    <tr>\n",
       "      <th>180063</th>\n",
       "      <td>57.0</td>\n",
       "      <td>2.0</td>\n",
       "      <td>1.0</td>\n",
       "      <td>8.0</td>\n",
       "      <td>0.0</td>\n",
       "      <td>Current smoker - now smokes some days</td>\n",
       "      <td>Every day</td>\n",
       "      <td>NaN</td>\n",
       "      <td>NaN</td>\n",
       "      <td>A homemaker</td>\n",
       "      <td>...</td>\n",
       "      <td>Good</td>\n",
       "      <td>No</td>\n",
       "      <td>NaN</td>\n",
       "      <td>No</td>\n",
       "      <td>No</td>\n",
       "      <td>No</td>\n",
       "      <td>Yes</td>\n",
       "      <td>No</td>\n",
       "      <td>No</td>\n",
       "      <td>No</td>\n",
       "    </tr>\n",
       "    <tr>\n",
       "      <th>220824</th>\n",
       "      <td>57.0</td>\n",
       "      <td>2.0</td>\n",
       "      <td>5.0</td>\n",
       "      <td>8.0</td>\n",
       "      <td>0.0</td>\n",
       "      <td>NaN</td>\n",
       "      <td>NaN</td>\n",
       "      <td>71.0</td>\n",
       "      <td>1.0</td>\n",
       "      <td>A student</td>\n",
       "      <td>...</td>\n",
       "      <td>Excellent</td>\n",
       "      <td>No</td>\n",
       "      <td>NaN</td>\n",
       "      <td>No</td>\n",
       "      <td>No</td>\n",
       "      <td>No</td>\n",
       "      <td>No</td>\n",
       "      <td>No</td>\n",
       "      <td>No</td>\n",
       "      <td>No</td>\n",
       "    </tr>\n",
       "    <tr>\n",
       "      <th>295933</th>\n",
       "      <td>57.0</td>\n",
       "      <td>2.0</td>\n",
       "      <td>1.0</td>\n",
       "      <td>7.0</td>\n",
       "      <td>0.0</td>\n",
       "      <td>Current smoker - now smokes some days</td>\n",
       "      <td>NaN</td>\n",
       "      <td>NaN</td>\n",
       "      <td>NaN</td>\n",
       "      <td>Employed for wages</td>\n",
       "      <td>...</td>\n",
       "      <td>Very good</td>\n",
       "      <td>No</td>\n",
       "      <td>NaN</td>\n",
       "      <td>No</td>\n",
       "      <td>No</td>\n",
       "      <td>No</td>\n",
       "      <td>No</td>\n",
       "      <td>No</td>\n",
       "      <td>No</td>\n",
       "      <td>No</td>\n",
       "    </tr>\n",
       "  </tbody>\n",
       "</table>\n",
       "<p>6 rows × 27 columns</p>\n",
       "</div>"
      ],
      "text/plain": [
       "         age  weight  bmi  sleptime  children  \\\n",
       "93721    1.0    10.0  1.0       3.0       1.0   \n",
       "177692  57.0     1.0  1.0       8.0       3.0   \n",
       "180059  57.0     3.0  3.0     103.0      47.0   \n",
       "180063  57.0     2.0  1.0       8.0       0.0   \n",
       "220824  57.0     2.0  5.0       8.0       0.0   \n",
       "295933  57.0     2.0  1.0       7.0       0.0   \n",
       "\n",
       "                                       smoker    smokday  acholPM  ave_drnk  \\\n",
       "93721                                     NaN        NaN      NaN       NaN   \n",
       "177692                                    NaN  Some days     30.0       3.0   \n",
       "180059  Current smoker - now smokes every day  Every day      1.0       NaN   \n",
       "180063  Current smoker - now smokes some days  Every day      NaN       NaN   \n",
       "220824                                    NaN        NaN     71.0       1.0   \n",
       "295933  Current smoker - now smokes some days        NaN      NaN       NaN   \n",
       "\n",
       "                    employ  ...  gen_health  act_limit emo_support  caner1  \\\n",
       "93721   Employed for wages  ...        Good         No         NaN      No   \n",
       "177692         A homemaker  ...   Very good        NaN         NaN      No   \n",
       "180059                 NaN  ...         NaN        Yes      Always     Yes   \n",
       "180063         A homemaker  ...        Good         No         NaN      No   \n",
       "220824           A student  ...   Excellent         No         NaN      No   \n",
       "295933  Employed for wages  ...   Very good         No         NaN      No   \n",
       "\n",
       "        caner2 chronic hacarth addep kidny  \\\n",
       "93721       No      No      No    No    No   \n",
       "177692      No      No      No    No    No   \n",
       "180059     NaN     NaN     Yes   Yes   NaN   \n",
       "180063      No      No     Yes    No    No   \n",
       "220824      No      No      No    No    No   \n",
       "295933      No      No      No    No    No   \n",
       "\n",
       "                                           diabete  \n",
       "93721   Yes, but female told only during pregnancy  \n",
       "177692                                          No  \n",
       "180059                                         Yes  \n",
       "180063                                          No  \n",
       "220824                                          No  \n",
       "295933                                          No  \n",
       "\n",
       "[6 rows x 27 columns]"
      ]
     },
     "execution_count": 136,
     "metadata": {},
     "output_type": "execute_result"
    }
   ],
   "source": [
    "life_DF[life_DF['weight']<1000]"
   ]
  },
  {
   "cell_type": "code",
   "execution_count": 137,
   "metadata": {},
   "outputs": [],
   "source": [
    "##수치가 잘못된듯 이상치는 평균으로 대체\n",
    "life_DF['weight'].fillna(life_DF['weight'].mean(), inplace=True)\n",
    "# 몸무게가 이상한 사람들들 몸무게 /100  \n",
    "life_DF.loc[life_DF['weight']>100,'weight']=life_DF.loc[life_DF['weight']>100,'weight']/100 "
   ]
  },
  {
   "cell_type": "code",
   "execution_count": 138,
   "metadata": {},
   "outputs": [
    {
     "data": {
      "text/plain": [
       "(weight\n",
       " False    491768\n",
       " Name: count, dtype: int64,\n",
       " count    491768.00000\n",
       " mean         80.09882\n",
       " std          19.77543\n",
       " min           1.00000\n",
       " 25%          65.77000\n",
       " 50%          78.93000\n",
       " 75%          90.72000\n",
       " max         290.30000\n",
       " Name: weight, dtype: float64)"
      ]
     },
     "execution_count": 138,
     "metadata": {},
     "output_type": "execute_result"
    }
   ],
   "source": [
    "\n",
    "life_DF['weight'].isna().value_counts(), life_DF['weight'].describe()"
   ]
  },
  {
   "cell_type": "code",
   "execution_count": null,
   "metadata": {},
   "outputs": [],
   "source": []
  },
  {
   "cell_type": "code",
   "execution_count": 139,
   "metadata": {},
   "outputs": [
    {
     "data": {
      "text/plain": [
       "count    465048.000000\n",
       "mean       2782.447803\n",
       "std         615.667745\n",
       "min           1.000000\n",
       "25%        2367.000000\n",
       "50%        2663.000000\n",
       "75%        3081.000000\n",
       "max        9769.000000\n",
       "Name: bmi, dtype: float64"
      ]
     },
     "execution_count": 139,
     "metadata": {},
     "output_type": "execute_result"
    }
   ],
   "source": [
    "# bmi\n",
    "life_DF['bmi'].describe()\n",
    "## 또 숫자가 이상하다"
   ]
  },
  {
   "cell_type": "code",
   "execution_count": 140,
   "metadata": {},
   "outputs": [
    {
     "data": {
      "text/html": [
       "<div>\n",
       "<style scoped>\n",
       "    .dataframe tbody tr th:only-of-type {\n",
       "        vertical-align: middle;\n",
       "    }\n",
       "\n",
       "    .dataframe tbody tr th {\n",
       "        vertical-align: top;\n",
       "    }\n",
       "\n",
       "    .dataframe thead th {\n",
       "        text-align: right;\n",
       "    }\n",
       "</style>\n",
       "<table border=\"1\" class=\"dataframe\">\n",
       "  <thead>\n",
       "    <tr style=\"text-align: right;\">\n",
       "      <th></th>\n",
       "      <th>age</th>\n",
       "      <th>weight</th>\n",
       "      <th>bmi</th>\n",
       "      <th>sleptime</th>\n",
       "      <th>children</th>\n",
       "      <th>smoker</th>\n",
       "      <th>smokday</th>\n",
       "      <th>acholPM</th>\n",
       "      <th>ave_drnk</th>\n",
       "      <th>employ</th>\n",
       "      <th>...</th>\n",
       "      <th>gen_health</th>\n",
       "      <th>act_limit</th>\n",
       "      <th>emo_support</th>\n",
       "      <th>caner1</th>\n",
       "      <th>caner2</th>\n",
       "      <th>chronic</th>\n",
       "      <th>hacarth</th>\n",
       "      <th>addep</th>\n",
       "      <th>kidny</th>\n",
       "      <th>diabete</th>\n",
       "    </tr>\n",
       "  </thead>\n",
       "  <tbody>\n",
       "    <tr>\n",
       "      <th>93721</th>\n",
       "      <td>1.0</td>\n",
       "      <td>10.0</td>\n",
       "      <td>1.0</td>\n",
       "      <td>3.0</td>\n",
       "      <td>1.0</td>\n",
       "      <td>NaN</td>\n",
       "      <td>NaN</td>\n",
       "      <td>NaN</td>\n",
       "      <td>NaN</td>\n",
       "      <td>Employed for wages</td>\n",
       "      <td>...</td>\n",
       "      <td>Good</td>\n",
       "      <td>No</td>\n",
       "      <td>NaN</td>\n",
       "      <td>No</td>\n",
       "      <td>No</td>\n",
       "      <td>No</td>\n",
       "      <td>No</td>\n",
       "      <td>No</td>\n",
       "      <td>No</td>\n",
       "      <td>Yes, but female told only during pregnancy</td>\n",
       "    </tr>\n",
       "    <tr>\n",
       "      <th>177692</th>\n",
       "      <td>57.0</td>\n",
       "      <td>1.0</td>\n",
       "      <td>1.0</td>\n",
       "      <td>8.0</td>\n",
       "      <td>3.0</td>\n",
       "      <td>NaN</td>\n",
       "      <td>Some days</td>\n",
       "      <td>30.0</td>\n",
       "      <td>3.0</td>\n",
       "      <td>A homemaker</td>\n",
       "      <td>...</td>\n",
       "      <td>Very good</td>\n",
       "      <td>NaN</td>\n",
       "      <td>NaN</td>\n",
       "      <td>No</td>\n",
       "      <td>No</td>\n",
       "      <td>No</td>\n",
       "      <td>No</td>\n",
       "      <td>No</td>\n",
       "      <td>No</td>\n",
       "      <td>No</td>\n",
       "    </tr>\n",
       "    <tr>\n",
       "      <th>180059</th>\n",
       "      <td>57.0</td>\n",
       "      <td>3.0</td>\n",
       "      <td>3.0</td>\n",
       "      <td>103.0</td>\n",
       "      <td>47.0</td>\n",
       "      <td>Current smoker - now smokes every day</td>\n",
       "      <td>Every day</td>\n",
       "      <td>1.0</td>\n",
       "      <td>NaN</td>\n",
       "      <td>NaN</td>\n",
       "      <td>...</td>\n",
       "      <td>NaN</td>\n",
       "      <td>Yes</td>\n",
       "      <td>Always</td>\n",
       "      <td>Yes</td>\n",
       "      <td>NaN</td>\n",
       "      <td>NaN</td>\n",
       "      <td>Yes</td>\n",
       "      <td>Yes</td>\n",
       "      <td>NaN</td>\n",
       "      <td>Yes</td>\n",
       "    </tr>\n",
       "    <tr>\n",
       "      <th>180063</th>\n",
       "      <td>57.0</td>\n",
       "      <td>2.0</td>\n",
       "      <td>1.0</td>\n",
       "      <td>8.0</td>\n",
       "      <td>0.0</td>\n",
       "      <td>Current smoker - now smokes some days</td>\n",
       "      <td>Every day</td>\n",
       "      <td>NaN</td>\n",
       "      <td>NaN</td>\n",
       "      <td>A homemaker</td>\n",
       "      <td>...</td>\n",
       "      <td>Good</td>\n",
       "      <td>No</td>\n",
       "      <td>NaN</td>\n",
       "      <td>No</td>\n",
       "      <td>No</td>\n",
       "      <td>No</td>\n",
       "      <td>Yes</td>\n",
       "      <td>No</td>\n",
       "      <td>No</td>\n",
       "      <td>No</td>\n",
       "    </tr>\n",
       "    <tr>\n",
       "      <th>220824</th>\n",
       "      <td>57.0</td>\n",
       "      <td>2.0</td>\n",
       "      <td>5.0</td>\n",
       "      <td>8.0</td>\n",
       "      <td>0.0</td>\n",
       "      <td>NaN</td>\n",
       "      <td>NaN</td>\n",
       "      <td>71.0</td>\n",
       "      <td>1.0</td>\n",
       "      <td>A student</td>\n",
       "      <td>...</td>\n",
       "      <td>Excellent</td>\n",
       "      <td>No</td>\n",
       "      <td>NaN</td>\n",
       "      <td>No</td>\n",
       "      <td>No</td>\n",
       "      <td>No</td>\n",
       "      <td>No</td>\n",
       "      <td>No</td>\n",
       "      <td>No</td>\n",
       "      <td>No</td>\n",
       "    </tr>\n",
       "    <tr>\n",
       "      <th>295933</th>\n",
       "      <td>57.0</td>\n",
       "      <td>2.0</td>\n",
       "      <td>1.0</td>\n",
       "      <td>7.0</td>\n",
       "      <td>0.0</td>\n",
       "      <td>Current smoker - now smokes some days</td>\n",
       "      <td>NaN</td>\n",
       "      <td>NaN</td>\n",
       "      <td>NaN</td>\n",
       "      <td>Employed for wages</td>\n",
       "      <td>...</td>\n",
       "      <td>Very good</td>\n",
       "      <td>No</td>\n",
       "      <td>NaN</td>\n",
       "      <td>No</td>\n",
       "      <td>No</td>\n",
       "      <td>No</td>\n",
       "      <td>No</td>\n",
       "      <td>No</td>\n",
       "      <td>No</td>\n",
       "      <td>No</td>\n",
       "    </tr>\n",
       "  </tbody>\n",
       "</table>\n",
       "<p>6 rows × 27 columns</p>\n",
       "</div>"
      ],
      "text/plain": [
       "         age  weight  bmi  sleptime  children  \\\n",
       "93721    1.0    10.0  1.0       3.0       1.0   \n",
       "177692  57.0     1.0  1.0       8.0       3.0   \n",
       "180059  57.0     3.0  3.0     103.0      47.0   \n",
       "180063  57.0     2.0  1.0       8.0       0.0   \n",
       "220824  57.0     2.0  5.0       8.0       0.0   \n",
       "295933  57.0     2.0  1.0       7.0       0.0   \n",
       "\n",
       "                                       smoker    smokday  acholPM  ave_drnk  \\\n",
       "93721                                     NaN        NaN      NaN       NaN   \n",
       "177692                                    NaN  Some days     30.0       3.0   \n",
       "180059  Current smoker - now smokes every day  Every day      1.0       NaN   \n",
       "180063  Current smoker - now smokes some days  Every day      NaN       NaN   \n",
       "220824                                    NaN        NaN     71.0       1.0   \n",
       "295933  Current smoker - now smokes some days        NaN      NaN       NaN   \n",
       "\n",
       "                    employ  ...  gen_health  act_limit emo_support  caner1  \\\n",
       "93721   Employed for wages  ...        Good         No         NaN      No   \n",
       "177692         A homemaker  ...   Very good        NaN         NaN      No   \n",
       "180059                 NaN  ...         NaN        Yes      Always     Yes   \n",
       "180063         A homemaker  ...        Good         No         NaN      No   \n",
       "220824           A student  ...   Excellent         No         NaN      No   \n",
       "295933  Employed for wages  ...   Very good         No         NaN      No   \n",
       "\n",
       "        caner2 chronic hacarth addep kidny  \\\n",
       "93721       No      No      No    No    No   \n",
       "177692      No      No      No    No    No   \n",
       "180059     NaN     NaN     Yes   Yes   NaN   \n",
       "180063      No      No     Yes    No    No   \n",
       "220824      No      No      No    No    No   \n",
       "295933      No      No      No    No    No   \n",
       "\n",
       "                                           diabete  \n",
       "93721   Yes, but female told only during pregnancy  \n",
       "177692                                          No  \n",
       "180059                                         Yes  \n",
       "180063                                          No  \n",
       "220824                                          No  \n",
       "295933                                          No  \n",
       "\n",
       "[6 rows x 27 columns]"
      ]
     },
     "execution_count": 140,
     "metadata": {},
     "output_type": "execute_result"
    }
   ],
   "source": [
    "life_DF[life_DF['bmi']<1000]"
   ]
  },
  {
   "cell_type": "code",
   "execution_count": 141,
   "metadata": {},
   "outputs": [],
   "source": [
    "##이상치는 평균으로 대체\n",
    "life_DF['bmi'].fillna(life_DF['bmi'].mean(), inplace=True)\n",
    "# bmi가 이상한 사람들 bmi /100  \n",
    "life_DF.loc[life_DF['bmi']>100,'bmi']=life_DF.loc[life_DF['bmi']>100,'bmi']/100 "
   ]
  },
  {
   "cell_type": "code",
   "execution_count": 142,
   "metadata": {},
   "outputs": [
    {
     "data": {
      "text/plain": [
       "count    484384.000000\n",
       "mean          7.051199\n",
       "std           1.472423\n",
       "min           1.000000\n",
       "25%           6.000000\n",
       "50%           7.000000\n",
       "75%           8.000000\n",
       "max         103.000000\n",
       "Name: sleptime, dtype: float64"
      ]
     },
     "execution_count": 142,
     "metadata": {},
     "output_type": "execute_result"
    }
   ],
   "source": [
    "# sleptime\n",
    "life_DF['sleptime'].describe() #103???????"
   ]
  },
  {
   "cell_type": "code",
   "execution_count": 143,
   "metadata": {},
   "outputs": [],
   "source": [
    "# 16시간 초과해서 자는 사람들 삭제\n",
    "over=life_DF[life_DF['sleptime']>16].index\n",
    "life_DF.drop(index=over, inplace=True)"
   ]
  },
  {
   "cell_type": "code",
   "execution_count": 144,
   "metadata": {},
   "outputs": [
    {
     "data": {
      "text/plain": [
       "(sleptime\n",
       " False    491439\n",
       " Name: count, dtype: int64,\n",
       " count    491439.000000\n",
       " mean          7.042144\n",
       " std           1.420281\n",
       " min           1.000000\n",
       " 25%           6.000000\n",
       " 50%           7.000000\n",
       " 75%           8.000000\n",
       " max          16.000000\n",
       " Name: sleptime, dtype: float64)"
      ]
     },
     "execution_count": 144,
     "metadata": {},
     "output_type": "execute_result"
    }
   ],
   "source": [
    "# 결측치 중앙값으로 대체\n",
    "life_DF['sleptime'].fillna(life_DF['sleptime'].median(), inplace=True)\n",
    "life_DF['sleptime'].isna().value_counts(), life_DF['sleptime'].describe()"
   ]
  },
  {
   "cell_type": "code",
   "execution_count": 145,
   "metadata": {},
   "outputs": [
    {
     "data": {
      "text/plain": [
       "(children\n",
       " False    489172\n",
       " True       2267\n",
       " Name: count, dtype: int64,\n",
       " count    489172.000000\n",
       " mean          0.516626\n",
       " std           1.022203\n",
       " min           0.000000\n",
       " 25%           0.000000\n",
       " 50%           0.000000\n",
       " 75%           1.000000\n",
       " max          17.000000\n",
       " Name: children, dtype: float64)"
      ]
     },
     "execution_count": 145,
     "metadata": {},
     "output_type": "execute_result"
    }
   ],
   "source": [
    "# children 입양아까지 포함한 수\n",
    "life_DF['children'].isna().value_counts(), life_DF['children'].describe()\n",
    "#### 17명???? 걍 놔두자"
   ]
  },
  {
   "cell_type": "code",
   "execution_count": 146,
   "metadata": {},
   "outputs": [
    {
     "data": {
      "text/plain": [
       "children\n",
       "False    491439\n",
       "Name: count, dtype: int64"
      ]
     },
     "execution_count": 146,
     "metadata": {},
     "output_type": "execute_result"
    }
   ],
   "source": [
    "# 결측치는 0으로 대체\n",
    "life_DF['children'].fillna(0, inplace=True)\n",
    "life_DF['children'].isna().value_counts()"
   ]
  },
  {
   "cell_type": "code",
   "execution_count": 147,
   "metadata": {},
   "outputs": [
    {
     "name": "stdout",
     "output_type": "stream",
     "text": [
      "<class 'pandas.core.series.Series'>\n",
      "Index: 491439 entries, 0 to 491773\n",
      "Series name: smoker\n",
      "Non-Null Count   Dtype \n",
      "--------------   ----- \n",
      "476128 non-null  object\n",
      "dtypes: object(1)\n",
      "memory usage: 7.5+ MB\n"
     ]
    },
    {
     "data": {
      "text/plain": [
       "smoker\n",
       "Never smoked                             261514\n",
       "Former smoker                            138041\n",
       "Current smoker - now smokes every day     55110\n",
       "Current smoker - now smokes some days     21463\n",
       "Name: count, dtype: int64"
      ]
     },
     "execution_count": 147,
     "metadata": {},
     "output_type": "execute_result"
    }
   ],
   "source": [
    "# smoker (흡연경험)\n",
    "life_DF['smoker'].info()\n",
    "life_DF['smoker'].value_counts()"
   ]
  },
  {
   "cell_type": "code",
   "execution_count": 148,
   "metadata": {},
   "outputs": [
    {
     "name": "stdout",
     "output_type": "stream",
     "text": [
      "<class 'pandas.core.series.Series'>\n",
      "Index: 491439 entries, 0 to 491773\n",
      "Series name: smoker\n",
      "Non-Null Count   Dtype \n",
      "--------------   ----- \n",
      "491439 non-null  object\n",
      "dtypes: object(1)\n",
      "memory usage: 7.5+ MB\n"
     ]
    }
   ],
   "source": [
    "# 결측치는 흡연경험 없는 걸로\n",
    "life_DF['smoker'].fillna('Never smoked', inplace=True)\n",
    "life_DF['smoker'].info()"
   ]
  },
  {
   "cell_type": "code",
   "execution_count": 149,
   "metadata": {},
   "outputs": [
    {
     "name": "stdout",
     "output_type": "stream",
     "text": [
      "<class 'pandas.core.series.Series'>\n",
      "Index: 491439 entries, 0 to 491773\n",
      "Series name: smokday\n",
      "Non-Null Count   Dtype \n",
      "--------------   ----- \n",
      "214615 non-null  object\n",
      "dtypes: object(1)\n",
      "memory usage: 7.5+ MB\n"
     ]
    }
   ],
   "source": [
    "# smokday (하루 흡연량)\n",
    "life_DF['smokday'].info(), life_DF['smokday'].value_counts()\n",
    "# 같은 컬럼이므로 제거\n",
    "life_DF.drop(columns='smokday', inplace=True)"
   ]
  },
  {
   "cell_type": "code",
   "execution_count": null,
   "metadata": {},
   "outputs": [
    {
     "data": {
      "text/plain": [
       "count    467590.000000\n",
       "mean         11.202872\n",
       "std          33.506814\n",
       "min           0.000000\n",
       "25%           0.000000\n",
       "50%           0.000000\n",
       "75%           9.000000\n",
       "max        2280.000000\n",
       "Name: acholPM, dtype: float64"
      ]
     },
     "execution_count": 150,
     "metadata": {},
     "output_type": "execute_result"
    }
   ],
   "source": [
    "# acholM 한달 음주량\n",
    "life_DF['acholPM'].describe()\n",
    "# 2280????"
   ]
  },
  {
   "cell_type": "code",
   "execution_count": 151,
   "metadata": {},
   "outputs": [
    {
     "name": "stdout",
     "output_type": "stream",
     "text": [
      "<class 'pandas.core.series.Series'>\n",
      "Index: 491398 entries, 0 to 491773\n",
      "Series name: acholPM\n",
      "Non-Null Count   Dtype  \n",
      "--------------   -----  \n",
      "491398 non-null  float64\n",
      "dtypes: float64(1)\n",
      "memory usage: 7.5 MB\n"
     ]
    }
   ],
   "source": [
    "# 일정 이상 넘는 음주량 제거\n",
    "over= life_DF[life_DF['acholPM']>1000].index\n",
    "life_DF.drop(index=over, inplace=True)\n",
    "# 결측치는 0으로 대체(중앙값)\n",
    "life_DF['acholPM'].fillna(0, inplace=True)\n",
    "life_DF['acholPM'].info()"
   ]
  },
  {
   "cell_type": "code",
   "execution_count": 152,
   "metadata": {},
   "outputs": [
    {
     "data": {
      "text/plain": [
       "count    231062.000000\n",
       "mean          2.200366\n",
       "std           2.192310\n",
       "min           1.000000\n",
       "25%           1.000000\n",
       "50%           2.000000\n",
       "75%           2.000000\n",
       "max          76.000000\n",
       "Name: ave_drnk, dtype: float64"
      ]
     },
     "execution_count": 152,
     "metadata": {},
     "output_type": "execute_result"
    }
   ],
   "source": [
    "# ave_drnk 지난 1달간 음주 횟수\n",
    "life_DF['ave_drnk'].describe()\n"
   ]
  },
  {
   "cell_type": "code",
   "execution_count": 153,
   "metadata": {},
   "outputs": [
    {
     "name": "stdout",
     "output_type": "stream",
     "text": [
      "<class 'pandas.core.series.Series'>\n",
      "Index: 491398 entries, 0 to 491773\n",
      "Series name: ave_drnk\n",
      "Non-Null Count   Dtype  \n",
      "--------------   -----  \n",
      "491398 non-null  float64\n",
      "dtypes: float64(1)\n",
      "memory usage: 7.5 MB\n"
     ]
    }
   ],
   "source": [
    "# 결측치는 중앙값으로 대체\n",
    "life_DF['ave_drnk'].fillna(life_DF['ave_drnk'].median(), inplace=True)\n",
    "life_DF['ave_drnk'].info()"
   ]
  },
  {
   "cell_type": "code",
   "execution_count": 154,
   "metadata": {},
   "outputs": [
    {
     "name": "stdout",
     "output_type": "stream",
     "text": [
      "<class 'pandas.core.series.Series'>\n",
      "Index: 491398 entries, 0 to 491773\n",
      "Series name: employ\n",
      "Non-Null Count   Dtype \n",
      "--------------   ----- \n",
      "488019 non-null  object\n",
      "dtypes: object(1)\n",
      "memory usage: 7.5+ MB\n"
     ]
    },
    {
     "data": {
      "text/plain": [
       "(None,\n",
       " employ\n",
       " Employed for wages                  202137\n",
       " Retired                             138141\n",
       " Self-employed                        39818\n",
       " Unable to work                       37332\n",
       " A homemaker                          31633\n",
       " Out of work for 1 year or more       14050\n",
       " A student                            12681\n",
       " Out of work for less than 1 year     12227\n",
       " Name: count, dtype: int64)"
      ]
     },
     "execution_count": 154,
     "metadata": {},
     "output_type": "execute_result"
    }
   ],
   "source": [
    "# employ 고용상태\n",
    "life_DF['employ'].info(),  life_DF['employ'].value_counts()"
   ]
  },
  {
   "cell_type": "code",
   "execution_count": 155,
   "metadata": {},
   "outputs": [
    {
     "name": "stdout",
     "output_type": "stream",
     "text": [
      "<class 'pandas.core.series.Series'>\n",
      "Index: 491398 entries, 0 to 491773\n",
      "Series name: employ\n",
      "Non-Null Count   Dtype \n",
      "--------------   ----- \n",
      "491398 non-null  object\n",
      "dtypes: object(1)\n",
      "memory usage: 7.5+ MB\n"
     ]
    }
   ],
   "source": [
    "# 1년 이상 휴직중에 결측치 추가\n",
    "life_DF['employ'].fillna('Out of work for 1 year or more', inplace=True)\n",
    "life_DF['employ'].info()"
   ]
  },
  {
   "cell_type": "code",
   "execution_count": 156,
   "metadata": {},
   "outputs": [
    {
     "name": "stdout",
     "output_type": "stream",
     "text": [
      "<class 'pandas.core.series.Series'>\n",
      "Index: 491398 entries, 0 to 491773\n",
      "Series name: worktime1\n",
      "Non-Null Count  Dtype  \n",
      "--------------  -----  \n",
      "32348 non-null  float64\n",
      "dtypes: float64(1)\n",
      "memory usage: 7.5 MB\n",
      "<class 'pandas.core.series.Series'>\n",
      "Index: 491398 entries, 0 to 491773\n",
      "Series name: worktime2\n",
      "Non-Null Count  Dtype  \n",
      "--------------  -----  \n",
      "21257 non-null  float64\n",
      "dtypes: float64(1)\n",
      "memory usage: 7.5 MB\n"
     ]
    },
    {
     "data": {
      "text/plain": [
       "(None, None)"
      ]
     },
     "execution_count": 156,
     "metadata": {},
     "output_type": "execute_result"
    }
   ],
   "source": [
    "# worktime1, worktime2 일하는 시간  ===> 데이터가 너무 적다... 제거\n",
    "life_DF['worktime1'].info(), life_DF['worktime2'].info()"
   ]
  },
  {
   "cell_type": "code",
   "execution_count": 157,
   "metadata": {},
   "outputs": [],
   "source": [
    "# 데이터를 보니 합칠 필요가 있음\n",
    "life_DF.drop(columns=['worktime1', 'worktime2'], inplace=True)"
   ]
  },
  {
   "cell_type": "code",
   "execution_count": 158,
   "metadata": {},
   "outputs": [
    {
     "name": "stdout",
     "output_type": "stream",
     "text": [
      "<class 'pandas.core.series.Series'>\n",
      "Index: 491398 entries, 0 to 491773\n",
      "Series name: exer_type\n",
      "Non-Null Count   Dtype \n",
      "--------------   ----- \n",
      "330663 non-null  object\n",
      "dtypes: object(1)\n",
      "memory usage: 7.5+ MB\n"
     ]
    }
   ],
   "source": [
    "life_DF['exer_type'].info(), life_DF['exer_type'].value_counts()\n",
    "# 종류가 너무 많네... 제거\n",
    "life_DF.drop(columns='exer_type', inplace=True)"
   ]
  },
  {
   "cell_type": "code",
   "execution_count": 159,
   "metadata": {},
   "outputs": [
    {
     "data": {
      "text/plain": [
       "count    327452.000000\n",
       "mean        135.767560\n",
       "std          50.490251\n",
       "min           0.000000\n",
       "25%         103.000000\n",
       "50%         105.000000\n",
       "75%         203.000000\n",
       "max         299.000000\n",
       "Name: exer_num, dtype: float64"
      ]
     },
     "execution_count": 159,
     "metadata": {},
     "output_type": "execute_result"
    }
   ],
   "source": [
    "# exer_num (운동 횟수)\n",
    "life_DF['exer_num'].describe()\n",
    "# 뭔가 이상하다.."
   ]
  },
  {
   "cell_type": "code",
   "execution_count": 39,
   "metadata": {},
   "outputs": [
    {
     "name": "stdout",
     "output_type": "stream",
     "text": [
      "<class 'pandas.core.series.Series'>\n",
      "RangeIndex: 491398 entries, 0 to 491397\n",
      "Series name: exer_num\n",
      "Non-Null Count   Dtype \n",
      "--------------   ----- \n",
      "491398 non-null  object\n",
      "dtypes: object(1)\n",
      "memory usage: 3.7+ MB\n"
     ]
    },
    {
     "data": {
      "text/plain": [
       "(None,\n",
       " exer_num\n",
       " over_avg     163800\n",
       " under_avg    163799\n",
       " average      163799\n",
       " Name: count, dtype: int64)"
      ]
     },
     "execution_count": 39,
     "metadata": {},
     "output_type": "execute_result"
    }
   ],
   "source": [
    "# 결측지는 중앙값으로 대체\n",
    "life_DF['exer_num'].fillna(life_DF['exer_num'].median(), inplace=True)\n",
    "\n",
    "\n",
    "# 3등분 하자 -> 평균이하, 평균, 평균이상\n",
    "life_DF= life_DF.sort_values(by='exer_num')\n",
    "life_DF.reset_index(drop=True, inplace=True)\n",
    "n=491398\n",
    "life_DF.loc[:163799,'exer_num']='under_avg'\n",
    "life_DF.loc[163799: 327598, 'exer_num']='average'\n",
    "life_DF.loc[327598:, 'exer_num']='over_avg'\n",
    "life_DF['exer_num'].info(), life_DF['exer_num'].value_counts()"
   ]
  },
  {
   "cell_type": "code",
   "execution_count": 41,
   "metadata": {},
   "outputs": [
    {
     "name": "stdout",
     "output_type": "stream",
     "text": [
      "<class 'pandas.core.series.Series'>\n",
      "RangeIndex: 491398 entries, 0 to 491397\n",
      "Series name: exer_time\n",
      "Non-Null Count   Dtype  \n",
      "--------------   -----  \n",
      "323232 non-null  float64\n",
      "dtypes: float64(1)\n",
      "memory usage: 3.7 MB\n"
     ]
    },
    {
     "data": {
      "text/plain": [
       "(count    323232.000000\n",
       " mean         92.949853\n",
       " std         113.971999\n",
       " min           1.000000\n",
       " 25%          30.000000\n",
       " 50%          45.000000\n",
       " 75%         100.000000\n",
       " max         959.000000\n",
       " Name: exer_time, dtype: float64,\n",
       " None)"
      ]
     },
     "execution_count": 41,
     "metadata": {},
     "output_type": "execute_result"
    }
   ],
   "source": [
    "# exer_time (운동시간)\n",
    "life_DF['exer_time'].describe(), life_DF['exer_time'].info()"
   ]
  },
  {
   "cell_type": "code",
   "execution_count": 42,
   "metadata": {},
   "outputs": [],
   "source": [
    "# 3등분으로 나누면 전 컬럼과 겹침으로 제거\n",
    "life_DF.drop(columns='exer_time', inplace=True)"
   ]
  },
  {
   "cell_type": "code",
   "execution_count": 43,
   "metadata": {},
   "outputs": [
    {
     "name": "stdout",
     "output_type": "stream",
     "text": [
      "<class 'pandas.core.series.Series'>\n",
      "RangeIndex: 491398 entries, 0 to 491397\n",
      "Series name: fruit\n",
      "Non-Null Count   Dtype \n",
      "--------------   ----- \n",
      "462739 non-null  object\n",
      "dtypes: object(1)\n",
      "memory usage: 3.7+ MB\n"
     ]
    },
    {
     "data": {
      "text/plain": [
       "(None,\n",
       " fruit\n",
       " Consumed fruit one or more times per day     291549\n",
       " Consumed fruit less than one time per day    171190\n",
       " Name: count, dtype: int64)"
      ]
     },
     "execution_count": 43,
     "metadata": {},
     "output_type": "execute_result"
    }
   ],
   "source": [
    "life_DF['fruit'].info(), life_DF['fruit'].value_counts()"
   ]
  },
  {
   "cell_type": "code",
   "execution_count": 44,
   "metadata": {},
   "outputs": [
    {
     "name": "stdout",
     "output_type": "stream",
     "text": [
      "<class 'pandas.core.series.Series'>\n",
      "RangeIndex: 491398 entries, 0 to 491397\n",
      "Series name: fruit\n",
      "Non-Null Count   Dtype \n",
      "--------------   ----- \n",
      "491398 non-null  object\n",
      "dtypes: object(1)\n",
      "memory usage: 3.7+ MB\n"
     ]
    },
    {
     "data": {
      "text/plain": [
       "(None,\n",
       " fruit\n",
       " Consumed fruit one or more times per day     291549\n",
       " Consumed fruit less than one time per day    199849\n",
       " Name: count, dtype: int64)"
      ]
     },
     "execution_count": 44,
     "metadata": {},
     "output_type": "execute_result"
    }
   ],
   "source": [
    "# 결측치는 안먹는다로 대체\n",
    "life_DF['fruit'].fillna('Consumed fruit less than one time per day', inplace=True)\n",
    "life_DF['fruit'].info(), life_DF['fruit'].value_counts()"
   ]
  },
  {
   "cell_type": "code",
   "execution_count": 45,
   "metadata": {},
   "outputs": [
    {
     "name": "stdout",
     "output_type": "stream",
     "text": [
      "<class 'pandas.core.series.Series'>\n",
      "RangeIndex: 491398 entries, 0 to 491397\n",
      "Series name: veg\n",
      "Non-Null Count   Dtype \n",
      "--------------   ----- \n",
      "461277 non-null  object\n",
      "dtypes: object(1)\n",
      "memory usage: 3.7+ MB\n"
     ]
    },
    {
     "data": {
      "text/plain": [
       "(None,\n",
       " veg\n",
       " Consumed vegetables one or more times per day     359627\n",
       " Consumed vegetables less than one time per day    101650\n",
       " Name: count, dtype: int64)"
      ]
     },
     "execution_count": 45,
     "metadata": {},
     "output_type": "execute_result"
    }
   ],
   "source": [
    "life_DF['veg'].info(), life_DF['veg'].value_counts()"
   ]
  },
  {
   "cell_type": "code",
   "execution_count": 46,
   "metadata": {},
   "outputs": [
    {
     "name": "stdout",
     "output_type": "stream",
     "text": [
      "<class 'pandas.core.series.Series'>\n",
      "RangeIndex: 491398 entries, 0 to 491397\n",
      "Series name: veg\n",
      "Non-Null Count   Dtype \n",
      "--------------   ----- \n",
      "491398 non-null  object\n",
      "dtypes: object(1)\n",
      "memory usage: 3.7+ MB\n"
     ]
    },
    {
     "data": {
      "text/plain": [
       "(None,\n",
       " veg\n",
       " Consumed vegetables one or more times per day     359627\n",
       " Consumed vegetables less than one time per day    131771\n",
       " Name: count, dtype: int64)"
      ]
     },
     "execution_count": 46,
     "metadata": {},
     "output_type": "execute_result"
    }
   ],
   "source": [
    "# 결측치 안먹는다로 대체\n",
    "life_DF['veg'].fillna('Consumed vegetables less than one time per day', inplace=True)\n",
    "life_DF['veg'].info(), life_DF['veg'].value_counts()"
   ]
  },
  {
   "cell_type": "code",
   "execution_count": 47,
   "metadata": {},
   "outputs": [
    {
     "name": "stdout",
     "output_type": "stream",
     "text": [
      "<class 'pandas.core.series.Series'>\n",
      "RangeIndex: 491398 entries, 0 to 491397\n",
      "Series name: gen_health\n",
      "Non-Null Count   Dtype \n",
      "--------------   ----- \n",
      "489420 non-null  object\n",
      "dtypes: object(1)\n",
      "memory usage: 3.7+ MB\n"
     ]
    },
    {
     "data": {
      "text/plain": [
       "(None,\n",
       " gen_health\n",
       " Very good    159028\n",
       " Good         150464\n",
       " Excellent     85445\n",
       " Fair          66645\n",
       " Poor          27838\n",
       " Name: count, dtype: int64)"
      ]
     },
     "execution_count": 47,
     "metadata": {},
     "output_type": "execute_result"
    }
   ],
   "source": [
    "# gen_health (전반적인 건강 상태)\n",
    "life_DF['gen_health'].info(), life_DF['gen_health'].value_counts()"
   ]
  },
  {
   "cell_type": "code",
   "execution_count": 48,
   "metadata": {},
   "outputs": [
    {
     "name": "stdout",
     "output_type": "stream",
     "text": [
      "<class 'pandas.core.series.Series'>\n",
      "RangeIndex: 491398 entries, 0 to 491397\n",
      "Series name: gen_health\n",
      "Non-Null Count   Dtype \n",
      "--------------   ----- \n",
      "491398 non-null  object\n",
      "dtypes: object(1)\n",
      "memory usage: 3.7+ MB\n"
     ]
    },
    {
     "data": {
      "text/plain": [
       "(None,\n",
       " gen_health\n",
       " Very good    159028\n",
       " Good         152442\n",
       " Excellent     85445\n",
       " Fair          66645\n",
       " Poor          27838\n",
       " Name: count, dtype: int64)"
      ]
     },
     "execution_count": 48,
     "metadata": {},
     "output_type": "execute_result"
    }
   ],
   "source": [
    "# 결측치 GOOD으로 대체\n",
    "life_DF['gen_health'].fillna('Good', inplace=True)\n",
    "life_DF['gen_health'].info(), life_DF['gen_health'].value_counts()"
   ]
  },
  {
   "cell_type": "code",
   "execution_count": 49,
   "metadata": {},
   "outputs": [],
   "source": [
    "# actlimit 제거\n",
    "life_DF.drop(columns='act_limit', inplace=True)"
   ]
  },
  {
   "cell_type": "code",
   "execution_count": 50,
   "metadata": {},
   "outputs": [
    {
     "name": "stdout",
     "output_type": "stream",
     "text": [
      "<class 'pandas.core.series.Series'>\n",
      "RangeIndex: 491398 entries, 0 to 491397\n",
      "Series name: emo_support\n",
      "Non-Null Count  Dtype \n",
      "--------------  ----- \n",
      "11611 non-null  object\n",
      "dtypes: object(1)\n",
      "memory usage: 3.7+ MB\n"
     ]
    },
    {
     "data": {
      "text/plain": [
       "(None,\n",
       " emo_support\n",
       " Always       6549\n",
       " Usually      2261\n",
       " Sometimes    1665\n",
       " Never         626\n",
       " Rarely        510\n",
       " Name: count, dtype: int64)"
      ]
     },
     "execution_count": 50,
     "metadata": {},
     "output_type": "execute_result"
    }
   ],
   "source": [
    "# emo_support 심리적 도움 필요성 여부\n",
    "\n",
    "life_DF['emo_support'].info(), life_DF['emo_support'].value_counts()\n"
   ]
  },
  {
   "cell_type": "code",
   "execution_count": 51,
   "metadata": {},
   "outputs": [
    {
     "name": "stdout",
     "output_type": "stream",
     "text": [
      "<class 'pandas.core.frame.DataFrame'>\n",
      "RangeIndex: 491398 entries, 0 to 491397\n",
      "Data columns (total 21 columns):\n",
      " #   Column       Non-Null Count   Dtype  \n",
      "---  ------       --------------   -----  \n",
      " 0   age          491398 non-null  float64\n",
      " 1   weight       491398 non-null  float64\n",
      " 2   bmi          491398 non-null  float64\n",
      " 3   sleptime     491398 non-null  float64\n",
      " 4   children     491398 non-null  float64\n",
      " 5   smoker       491398 non-null  object \n",
      " 6   acholPM      491398 non-null  float64\n",
      " 7   ave_drnk     491398 non-null  float64\n",
      " 8   employ       491398 non-null  object \n",
      " 9   exer_num     491398 non-null  object \n",
      " 10  fruit        491398 non-null  object \n",
      " 11  veg          491398 non-null  object \n",
      " 12  gen_health   491398 non-null  object \n",
      " 13  emo_support  491398 non-null  object \n",
      " 14  caner1       490096 non-null  object \n",
      " 15  caner2       490258 non-null  object \n",
      " 16  chronic      488685 non-null  object \n",
      " 17  hacarth      488439 non-null  object \n",
      " 18  addep        489118 non-null  object \n",
      " 19  kidny        489686 non-null  object \n",
      " 20  diabete      490570 non-null  object \n",
      "dtypes: float64(7), object(14)\n",
      "memory usage: 78.7+ MB\n"
     ]
    }
   ],
   "source": [
    "# 결측치 Never로 변경\n",
    "life_DF['emo_support'].fillna('Never', inplace=True)\n",
    "life_DF.info()"
   ]
  },
  {
   "cell_type": "code",
   "execution_count": 52,
   "metadata": {},
   "outputs": [],
   "source": [
    "# 숫자로 변경\n",
    "life_DF['emo_support'].replace({'Always':5, 'Usually':4, 'Sometimes':3, 'Rarely':2, 'Never':1}, inplace=True)"
   ]
  },
  {
   "cell_type": "code",
   "execution_count": 53,
   "metadata": {},
   "outputs": [],
   "source": [
    "# caner1, cancer2 -> 암 경험 여부 \n",
    "life_DF['caner1'].info, life_DF['caner1'].value_counts()\n",
    "# 결측치 No로 대체\n",
    "life_DF['caner1'].fillna('No', inplace=True)"
   ]
  },
  {
   "cell_type": "code",
   "execution_count": 54,
   "metadata": {},
   "outputs": [
    {
     "name": "stdout",
     "output_type": "stream",
     "text": [
      "<class 'pandas.core.series.Series'>\n",
      "RangeIndex: 491398 entries, 0 to 491397\n",
      "Series name: caner2\n",
      "Non-Null Count   Dtype \n",
      "--------------   ----- \n",
      "490258 non-null  object\n",
      "dtypes: object(1)\n",
      "memory usage: 3.7+ MB\n"
     ]
    }
   ],
   "source": [
    "life_DF['caner2'].info(), life_DF['caner2'].value_counts()\n",
    "# 결측치 No로 대체\n",
    "life_DF['caner2'].fillna('No', inplace=True)"
   ]
  },
  {
   "cell_type": "code",
   "execution_count": 55,
   "metadata": {},
   "outputs": [
    {
     "data": {
      "text/plain": [
       "cancer\n",
       "0    408872\n",
       "1     82526\n",
       "Name: count, dtype: int64"
      ]
     },
     "execution_count": 55,
     "metadata": {},
     "output_type": "execute_result"
    }
   ],
   "source": [
    "# 새로운 컬럼 생성 (암 경험이 있는지)\n",
    "life_DF['cancer']= np.where((life_DF['caner1']=='Yes') | (life_DF['caner2']=='Yes'), 1,0) \n",
    "life_DF['cancer'].value_counts()"
   ]
  },
  {
   "cell_type": "code",
   "execution_count": 56,
   "metadata": {},
   "outputs": [],
   "source": [
    "# 기존 컬럼 제거\n",
    "life_DF.drop(columns=['caner1', 'caner2'], inplace=True)"
   ]
  },
  {
   "cell_type": "code",
   "execution_count": 57,
   "metadata": {},
   "outputs": [
    {
     "name": "stdout",
     "output_type": "stream",
     "text": [
      "<class 'pandas.core.series.Series'>\n",
      "RangeIndex: 491398 entries, 0 to 491397\n",
      "Series name: chronic\n",
      "Non-Null Count   Dtype \n",
      "--------------   ----- \n",
      "488685 non-null  object\n",
      "dtypes: object(1)\n",
      "memory usage: 3.7+ MB\n",
      "<class 'pandas.core.series.Series'>\n",
      "RangeIndex: 491398 entries, 0 to 491397\n",
      "Series name: chronic\n",
      "Non-Null Count   Dtype \n",
      "--------------   ----- \n",
      "491398 non-null  object\n",
      "dtypes: object(1)\n",
      "memory usage: 3.7+ MB\n"
     ]
    },
    {
     "data": {
      "text/plain": [
       "(None,\n",
       " chronic\n",
       " No     450809\n",
       " Yes     40589\n",
       " Name: count, dtype: int64)"
      ]
     },
     "execution_count": 57,
     "metadata": {},
     "output_type": "execute_result"
    }
   ],
   "source": [
    "# 만성 질병(폐)\n",
    "life_DF['chronic'].info(), life_DF['chronic'].value_counts()\n",
    "# 결측치 No로 대체\n",
    "life_DF['chronic'].fillna('No', inplace=True)\n",
    "life_DF['chronic'].info(), life_DF['chronic'].value_counts()"
   ]
  },
  {
   "cell_type": "code",
   "execution_count": 58,
   "metadata": {},
   "outputs": [
    {
     "name": "stdout",
     "output_type": "stream",
     "text": [
      "<class 'pandas.core.series.Series'>\n",
      "RangeIndex: 491398 entries, 0 to 491397\n",
      "Series name: hacarth\n",
      "Non-Null Count   Dtype \n",
      "--------------   ----- \n",
      "488439 non-null  object\n",
      "dtypes: object(1)\n",
      "memory usage: 3.7+ MB\n",
      "<class 'pandas.core.series.Series'>\n",
      "RangeIndex: 491398 entries, 0 to 491397\n",
      "Series name: hacarth\n",
      "Non-Null Count   Dtype \n",
      "--------------   ----- \n",
      "491398 non-null  object\n",
      "dtypes: object(1)\n",
      "memory usage: 3.7+ MB\n"
     ]
    }
   ],
   "source": [
    "# hacarth (관절염 여부)\n",
    "life_DF['hacarth'].info()\n",
    "# 결측치 No로 대체\n",
    "life_DF['hacarth'].fillna('No',inplace=True)\n",
    "life_DF['hacarth'].info()"
   ]
  },
  {
   "cell_type": "code",
   "execution_count": 59,
   "metadata": {},
   "outputs": [
    {
     "name": "stdout",
     "output_type": "stream",
     "text": [
      "<class 'pandas.core.series.Series'>\n",
      "RangeIndex: 491398 entries, 0 to 491397\n",
      "Series name: addep\n",
      "Non-Null Count   Dtype \n",
      "--------------   ----- \n",
      "491398 non-null  object\n",
      "dtypes: object(1)\n",
      "memory usage: 3.7+ MB\n"
     ]
    }
   ],
   "source": [
    "# addep (우울증 여부)\n",
    "life_DF['addep'].head()\n",
    "# 결측치 No로 대체\n",
    "life_DF['addep'].fillna('No', inplace=True)\n",
    "life_DF['addep'].info()"
   ]
  },
  {
   "cell_type": "code",
   "execution_count": 60,
   "metadata": {},
   "outputs": [
    {
     "name": "stdout",
     "output_type": "stream",
     "text": [
      "<class 'pandas.core.series.Series'>\n",
      "RangeIndex: 491398 entries, 0 to 491397\n",
      "Series name: kidny\n",
      "Non-Null Count   Dtype \n",
      "--------------   ----- \n",
      "491398 non-null  object\n",
      "dtypes: object(1)\n",
      "memory usage: 3.7+ MB\n"
     ]
    }
   ],
   "source": [
    "# kidny (간 질환)\n",
    "life_DF['kidny'].value_counts()\n",
    "# 결측치 No로 대체\n",
    "life_DF['kidny'].fillna('No', inplace=True)\n",
    "life_DF['kidny'].info()\n"
   ]
  },
  {
   "cell_type": "code",
   "execution_count": 61,
   "metadata": {},
   "outputs": [
    {
     "data": {
      "text/plain": [
       "diabete\n",
       "No                                            415121\n",
       "Yes                                            62263\n",
       "No, pre-diabetes or borderline diabetes         8590\n",
       "Yes, but female told only during pregnancy      4596\n",
       "Name: count, dtype: int64"
      ]
     },
     "execution_count": 61,
     "metadata": {},
     "output_type": "execute_result"
    }
   ],
   "source": [
    "# diabete 당뇨\n",
    "life_DF['diabete'].value_counts()\n"
   ]
  },
  {
   "cell_type": "code",
   "execution_count": 62,
   "metadata": {},
   "outputs": [],
   "source": [
    "# 단순화를 위해 임산부-> No, 경계선은 Yes, 결측치는 No\n",
    "life_DF[life_DF['diabete']=='No, pre-diabetes or borderline diabetes']['diabete']=='Yes'\n",
    "life_DF[life_DF['diabete']=='Yes, but female told only during pregnancy']['diabete']=='No'\n",
    "life_DF['diabete'].fillna('No', inplace=True)"
   ]
  },
  {
   "cell_type": "code",
   "execution_count": 63,
   "metadata": {},
   "outputs": [
    {
     "name": "stdout",
     "output_type": "stream",
     "text": [
      "<class 'pandas.core.frame.DataFrame'>\n",
      "RangeIndex: 491398 entries, 0 to 491397\n",
      "Data columns (total 20 columns):\n",
      " #   Column       Non-Null Count   Dtype  \n",
      "---  ------       --------------   -----  \n",
      " 0   age          491398 non-null  float64\n",
      " 1   weight       491398 non-null  float64\n",
      " 2   bmi          491398 non-null  float64\n",
      " 3   sleptime     491398 non-null  float64\n",
      " 4   children     491398 non-null  float64\n",
      " 5   smoker       491398 non-null  object \n",
      " 6   acholPM      491398 non-null  float64\n",
      " 7   ave_drnk     491398 non-null  float64\n",
      " 8   employ       491398 non-null  object \n",
      " 9   exer_num     491398 non-null  object \n",
      " 10  fruit        491398 non-null  object \n",
      " 11  veg          491398 non-null  object \n",
      " 12  gen_health   491398 non-null  object \n",
      " 13  emo_support  491398 non-null  int64  \n",
      " 14  chronic      491398 non-null  object \n",
      " 15  hacarth      491398 non-null  object \n",
      " 16  addep        491398 non-null  object \n",
      " 17  kidny        491398 non-null  object \n",
      " 18  diabete      491398 non-null  object \n",
      " 19  cancer       491398 non-null  int32  \n",
      "dtypes: float64(7), int32(1), int64(1), object(11)\n",
      "memory usage: 73.1+ MB\n"
     ]
    }
   ],
   "source": [
    "life_DF.info()"
   ]
  },
  {
   "cell_type": "markdown",
   "metadata": {},
   "source": [
    "[2] 모델 설계"
   ]
  },
  {
   "cell_type": "code",
   "execution_count": 64,
   "metadata": {},
   "outputs": [],
   "source": [
    "import torch\n",
    "import torch.nn\n",
    "import torch.nn.functional as F\n",
    "from torchmetrics.classification import F1Score, BinaryF1Score\n",
    "from torchinfo import summary\n",
    "\n",
    "from sklearn.preprocessing import LabelEncoder, OrdinalEncoder, OneHotEncoder, MinMaxScaler, StandardScaler\n",
    "\n",
    "from get_dataset import *\n",
    "from get_model import *\n",
    "from get_train_model import *\n",
    "from func import Torch_proccesing"
   ]
  },
  {
   "cell_type": "markdown",
   "metadata": {},
   "source": [
    "[2]-1 학습 모델 설계\n"
   ]
  },
  {
   "cell_type": "markdown",
   "metadata": {},
   "source": [
    "[2]-2 데이터셋 설계"
   ]
  },
  {
   "cell_type": "code",
   "execution_count": 65,
   "metadata": {},
   "outputs": [],
   "source": [
    "life_T= Torch_proccesing(life_DF)"
   ]
  },
  {
   "cell_type": "code",
   "execution_count": 66,
   "metadata": {},
   "outputs": [
    {
     "data": {
      "text/plain": [
       "gen_health\n",
       "Very good    159028\n",
       "Good         152442\n",
       "Excellent     85445\n",
       "Fair          66645\n",
       "Poor          27838\n",
       "Name: count, dtype: int64"
      ]
     },
     "execution_count": 66,
     "metadata": {},
     "output_type": "execute_result"
    }
   ],
   "source": [
    "life_DF['gen_health'].value_counts()\n",
    "# Very good    159028\n",
    "#  Good         150464\n",
    "#  Excellent     85445\n",
    "#  Fair          66645\n",
    "#  Poor     "
   ]
  },
  {
   "cell_type": "code",
   "execution_count": 67,
   "metadata": {},
   "outputs": [],
   "source": [
    "life_T.data['gen_health'].replace({'Poor':0, 'Fair':1, 'Good':2, 'Very good':3, 'Excellent':4},\n",
    "                                   inplace=True)"
   ]
  },
  {
   "cell_type": "code",
   "execution_count": 68,
   "metadata": {},
   "outputs": [
    {
     "name": "stdout",
     "output_type": "stream",
     "text": [
      "enc: (491398, 1), 2\n",
      "smoker\n",
      "3.0    276816\n",
      "2.0    138026\n",
      "0.0     55094\n",
      "1.0     21462\n",
      "Name: count, dtype: int64\n",
      "enc: (491398, 1), 2\n",
      "exer_num\n",
      "1.0    163800\n",
      "2.0    163799\n",
      "0.0    163799\n",
      "Name: count, dtype: int64\n",
      "enc: (491398, 1), 2\n",
      "fruit\n",
      "1.0    291549\n",
      "0.0    199849\n",
      "Name: count, dtype: int64\n",
      "enc: (491398, 1), 2\n",
      "veg\n",
      "1.0    359627\n",
      "0.0    131771\n",
      "Name: count, dtype: int64\n",
      "enc: (491398, 1), 2\n",
      "cancer\n",
      "0.0    408872\n",
      "1.0     82526\n",
      "Name: count, dtype: int64\n",
      "enc: (491398, 1), 2\n",
      "chronic\n",
      "0.0    450809\n",
      "1.0     40589\n",
      "Name: count, dtype: int64\n",
      "enc: (491398, 1), 2\n",
      "hacarth\n",
      "0.0    326428\n",
      "1.0    164970\n",
      "Name: count, dtype: int64\n",
      "enc: (491398, 1), 2\n",
      "addep\n",
      "0.0    395766\n",
      "1.0     95632\n",
      "Name: count, dtype: int64\n",
      "enc: (491398, 1), 2\n",
      "kidny\n",
      "0.0    475519\n",
      "1.0     15879\n",
      "Name: count, dtype: int64\n",
      "enc: (491398, 1), 2\n",
      "diabete\n",
      "0.0    415949\n",
      "2.0     62263\n",
      "1.0      8590\n",
      "3.0      4596\n",
      "Name: count, dtype: int64\n"
     ]
    }
   ],
   "source": [
    "# 인코딩 ->    라벨 인코딩 = 'smoker', 'exer_num', 'fruit', 'veg', 'cancer', \n",
    "#                           'chronic', 'hacarth', 'addep', 'kidny', 'diabete' \n",
    "enc_list=['smoker', 'exer_num', 'fruit', 'veg', 'cancer', 'chronic', 'hacarth', 'addep',\n",
    "          'kidny', 'diabete']\n",
    "for col in enc_list:\n",
    "    life_T.data[col]=life_T.encoding(encoder=OrdinalEncoder(), Data=life_T.data[[col]])\n",
    "    print(life_T.data[col].value_counts())"
   ]
  },
  {
   "cell_type": "code",
   "execution_count": 69,
   "metadata": {},
   "outputs": [
    {
     "data": {
      "text/plain": [
       "employ\n",
       "Employed for wages                  202137\n",
       "Retired                             138141\n",
       "Self-employed                        39818\n",
       "Unable to work                       37332\n",
       "A homemaker                          31633\n",
       "Out of work for 1 year or more       17429\n",
       "A student                            12681\n",
       "Out of work for less than 1 year     12227\n",
       "Name: count, dtype: int64"
      ]
     },
     "execution_count": 69,
     "metadata": {},
     "output_type": "execute_result"
    }
   ],
   "source": [
    "life_DF['employ'].value_counts()"
   ]
  },
  {
   "cell_type": "code",
   "execution_count": 70,
   "metadata": {},
   "outputs": [],
   "source": [
    "# employ -> 원핫 인코딩\n",
    "em= ['Unable to work', 'Out of work for 1 year or more', 'A student', 'Out of work for less than 1 year',\n",
    "     'A homemaker', 'Self-employed', 'Retired', 'Employed for wages']\n",
    "value= [1,2,3,4,5,6,7,8]\n",
    "life_T.data=pd.get_dummies(life_T.data, columns=['employ'], drop_first=True, sparse=False)"
   ]
  },
  {
   "cell_type": "code",
   "execution_count": 71,
   "metadata": {},
   "outputs": [
    {
     "name": "stdout",
     "output_type": "stream",
     "text": [
      "<class 'pandas.core.frame.DataFrame'>\n",
      "RangeIndex: 491398 entries, 0 to 491397\n",
      "Data columns (total 26 columns):\n",
      " #   Column                                   Non-Null Count   Dtype  \n",
      "---  ------                                   --------------   -----  \n",
      " 0   age                                      491398 non-null  float64\n",
      " 1   weight                                   491398 non-null  float64\n",
      " 2   bmi                                      491398 non-null  float64\n",
      " 3   sleptime                                 491398 non-null  float64\n",
      " 4   children                                 491398 non-null  float64\n",
      " 5   smoker                                   491398 non-null  float64\n",
      " 6   acholPM                                  491398 non-null  float64\n",
      " 7   ave_drnk                                 491398 non-null  float64\n",
      " 8   exer_num                                 491398 non-null  float64\n",
      " 9   fruit                                    491398 non-null  float64\n",
      " 10  veg                                      491398 non-null  float64\n",
      " 11  gen_health                               491398 non-null  int64  \n",
      " 12  emo_support                              491398 non-null  int64  \n",
      " 13  chronic                                  491398 non-null  float64\n",
      " 14  hacarth                                  491398 non-null  float64\n",
      " 15  addep                                    491398 non-null  float64\n",
      " 16  kidny                                    491398 non-null  float64\n",
      " 17  diabete                                  491398 non-null  float64\n",
      " 18  cancer                                   491398 non-null  float64\n",
      " 19  employ_A student                         491398 non-null  bool   \n",
      " 20  employ_Employed for wages                491398 non-null  bool   \n",
      " 21  employ_Out of work for 1 year or more    491398 non-null  bool   \n",
      " 22  employ_Out of work for less than 1 year  491398 non-null  bool   \n",
      " 23  employ_Retired                           491398 non-null  bool   \n",
      " 24  employ_Self-employed                     491398 non-null  bool   \n",
      " 25  employ_Unable to work                    491398 non-null  bool   \n",
      "dtypes: bool(7), float64(17), int64(2)\n",
      "memory usage: 74.5 MB\n"
     ]
    }
   ],
   "source": [
    "life_T.data.info()"
   ]
  },
  {
   "cell_type": "code",
   "execution_count": 72,
   "metadata": {},
   "outputs": [],
   "source": [
    "\n",
    "# 피쳐와 타겟 선정\n",
    "life_T.feature=life_T.data.drop(columns='gen_health')\n",
    "life_T.target= life_T.data['gen_health']"
   ]
  },
  {
   "cell_type": "code",
   "execution_count": 73,
   "metadata": {},
   "outputs": [
    {
     "name": "stdout",
     "output_type": "stream",
     "text": [
      "train: (276411, 25),(276411,)\n",
      "test: (122850, 25),(122850,)\n",
      "val: (92137, 25),(92137,)\n",
      "train: (368548, 25),(368548,)\n",
      "test: (122850, 25),(122850,)\n"
     ]
    }
   ],
   "source": [
    "# 테이터 분리\n",
    "life_T.split(val=True, random_state=921, classification=True)"
   ]
  },
  {
   "cell_type": "code",
   "execution_count": 74,
   "metadata": {},
   "outputs": [],
   "source": [
    "from torch.utils.data import DataLoader\n",
    "import torch.optim as optim"
   ]
  },
  {
   "cell_type": "code",
   "execution_count": 75,
   "metadata": {},
   "outputs": [],
   "source": [
    "# 스케일링 -> minmax\n",
    "scaler= MinMaxScaler()\n",
    "scaler.fit(life_T.X_train)\n",
    "X_train_scaled=scaler.transform(life_T.X_train)\n",
    "X_test_scaled= scaler.transform(life_T.X_test)\n",
    "X_val_scaled= scaler.transform(life_T.X_val)"
   ]
  },
  {
   "cell_type": "code",
   "execution_count": 76,
   "metadata": {},
   "outputs": [],
   "source": [
    "X_train_scaled=pd.DataFrame(X_train_scaled, columns=life_T.feature.columns)\n",
    "X_test_scaled=pd.DataFrame(X_test_scaled, columns=life_T.feature.columns)\n",
    "X_val_scaled=pd.DataFrame(X_val_scaled, columns=life_T.feature.columns)"
   ]
  },
  {
   "cell_type": "code",
   "execution_count": 77,
   "metadata": {},
   "outputs": [
    {
     "data": {
      "text/plain": [
       "447989    4\n",
       "448045    3\n",
       "222316    2\n",
       "292614    4\n",
       "144154    3\n",
       "         ..\n",
       "294911    2\n",
       "160035    1\n",
       "221746    1\n",
       "443427    2\n",
       "180073    1\n",
       "Name: gen_health, Length: 368548, dtype: int64"
      ]
     },
     "execution_count": 77,
     "metadata": {},
     "output_type": "execute_result"
    }
   ],
   "source": [
    "life_T.Y_train"
   ]
  },
  {
   "cell_type": "code",
   "execution_count": 78,
   "metadata": {},
   "outputs": [],
   "source": [
    "# 데이터셋, 로더 생성\n",
    "trainDS= Custom_Dataset(featureDF=X_train_scaled, targetDF=life_T.Y_train.to_frame())\n",
    "testDS= Custom_Dataset(featureDF=X_test_scaled, targetDF=life_T.Y_test.to_frame())\n",
    "valDS= Custom_Dataset(featureDF=X_val_scaled, targetDF=life_T.Y_val.to_frame())\n",
    "\n",
    "trainDL=DataLoader(trainDS, batch_size=64)\n",
    "testDL= DataLoader(testDS, batch_size=64)\n",
    "valDL= DataLoader(valDS, batch_size=64)"
   ]
  },
  {
   "cell_type": "code",
   "execution_count": 160,
   "metadata": {},
   "outputs": [],
   "source": [
    "#랜덤 포레스트??"
   ]
  },
  {
   "cell_type": "code",
   "execution_count": 161,
   "metadata": {},
   "outputs": [],
   "source": [
    "from sklearn.ensemble import RandomForestClassifier"
   ]
  },
  {
   "cell_type": "code",
   "execution_count": 168,
   "metadata": {},
   "outputs": [
    {
     "name": "stdout",
     "output_type": "stream",
     "text": [
      "building tree 1 of 100\n",
      "building tree 2 of 100\n",
      "building tree 3 of 100\n",
      "building tree 4 of 100\n",
      "building tree 5 of 100\n",
      "building tree 6 of 100\n",
      "building tree 7 of 100\n",
      "building tree 8 of 100\n",
      "building tree 9 of 100\n",
      "building tree 10 of 100\n",
      "building tree 11 of 100\n",
      "building tree 12 of 100\n",
      "building tree 13 of 100\n",
      "building tree 14 of 100\n",
      "building tree 15 of 100\n",
      "building tree 16 of 100\n",
      "building tree 17 of 100\n",
      "building tree 18 of 100\n",
      "building tree 19 of 100\n",
      "building tree 20 of 100\n",
      "building tree 21 of 100\n",
      "building tree 22 of 100\n",
      "building tree 23 of 100\n",
      "building tree 24 of 100\n",
      "building tree 25 of 100\n",
      "building tree 26 of 100\n",
      "building tree 27 of 100\n",
      "building tree 28 of 100\n",
      "building tree 29 of 100\n",
      "building tree 30 of 100\n",
      "building tree 31 of 100\n",
      "building tree 32 of 100\n",
      "building tree 33 of 100\n",
      "building tree 34 of 100\n",
      "building tree 35 of 100\n",
      "building tree 36 of 100\n",
      "building tree 37 of 100\n",
      "building tree 38 of 100\n",
      "building tree 39 of 100\n",
      "building tree 40 of 100\n"
     ]
    },
    {
     "name": "stderr",
     "output_type": "stream",
     "text": [
      "[Parallel(n_jobs=1)]: Done  40 tasks      | elapsed:   39.0s\n"
     ]
    },
    {
     "name": "stdout",
     "output_type": "stream",
     "text": [
      "building tree 41 of 100\n",
      "building tree 42 of 100\n",
      "building tree 43 of 100\n",
      "building tree 44 of 100\n",
      "building tree 45 of 100\n",
      "building tree 46 of 100\n",
      "building tree 47 of 100\n",
      "building tree 48 of 100\n",
      "building tree 49 of 100\n",
      "building tree 50 of 100\n",
      "building tree 51 of 100\n",
      "building tree 52 of 100\n",
      "building tree 53 of 100\n",
      "building tree 54 of 100\n",
      "building tree 55 of 100\n",
      "building tree 56 of 100\n",
      "building tree 57 of 100\n",
      "building tree 58 of 100\n",
      "building tree 59 of 100\n",
      "building tree 60 of 100\n",
      "building tree 61 of 100\n",
      "building tree 62 of 100\n",
      "building tree 63 of 100\n",
      "building tree 64 of 100\n",
      "building tree 65 of 100\n",
      "building tree 66 of 100\n",
      "building tree 67 of 100\n",
      "building tree 68 of 100\n",
      "building tree 69 of 100\n",
      "building tree 70 of 100\n",
      "building tree 71 of 100\n",
      "building tree 72 of 100\n",
      "building tree 73 of 100\n",
      "building tree 74 of 100\n",
      "building tree 75 of 100\n",
      "building tree 76 of 100\n",
      "building tree 77 of 100\n",
      "building tree 78 of 100\n",
      "building tree 79 of 100\n",
      "building tree 80 of 100\n",
      "building tree 81 of 100\n",
      "building tree 82 of 100\n",
      "building tree 83 of 100\n",
      "building tree 84 of 100\n",
      "building tree 85 of 100\n",
      "building tree 86 of 100\n",
      "building tree 87 of 100\n",
      "building tree 88 of 100\n",
      "building tree 89 of 100\n",
      "building tree 90 of 100\n",
      "building tree 91 of 100\n",
      "building tree 92 of 100\n",
      "building tree 93 of 100\n",
      "building tree 94 of 100\n",
      "building tree 95 of 100\n",
      "building tree 96 of 100\n",
      "building tree 97 of 100\n",
      "building tree 98 of 100\n",
      "building tree 99 of 100\n",
      "building tree 100 of 100\n"
     ]
    },
    {
     "data": {
      "text/html": [
       "<style>#sk-container-id-2 {color: black;}#sk-container-id-2 pre{padding: 0;}#sk-container-id-2 div.sk-toggleable {background-color: white;}#sk-container-id-2 label.sk-toggleable__label {cursor: pointer;display: block;width: 100%;margin-bottom: 0;padding: 0.3em;box-sizing: border-box;text-align: center;}#sk-container-id-2 label.sk-toggleable__label-arrow:before {content: \"▸\";float: left;margin-right: 0.25em;color: #696969;}#sk-container-id-2 label.sk-toggleable__label-arrow:hover:before {color: black;}#sk-container-id-2 div.sk-estimator:hover label.sk-toggleable__label-arrow:before {color: black;}#sk-container-id-2 div.sk-toggleable__content {max-height: 0;max-width: 0;overflow: hidden;text-align: left;background-color: #f0f8ff;}#sk-container-id-2 div.sk-toggleable__content pre {margin: 0.2em;color: black;border-radius: 0.25em;background-color: #f0f8ff;}#sk-container-id-2 input.sk-toggleable__control:checked~div.sk-toggleable__content {max-height: 200px;max-width: 100%;overflow: auto;}#sk-container-id-2 input.sk-toggleable__control:checked~label.sk-toggleable__label-arrow:before {content: \"▾\";}#sk-container-id-2 div.sk-estimator input.sk-toggleable__control:checked~label.sk-toggleable__label {background-color: #d4ebff;}#sk-container-id-2 div.sk-label input.sk-toggleable__control:checked~label.sk-toggleable__label {background-color: #d4ebff;}#sk-container-id-2 input.sk-hidden--visually {border: 0;clip: rect(1px 1px 1px 1px);clip: rect(1px, 1px, 1px, 1px);height: 1px;margin: -1px;overflow: hidden;padding: 0;position: absolute;width: 1px;}#sk-container-id-2 div.sk-estimator {font-family: monospace;background-color: #f0f8ff;border: 1px dotted black;border-radius: 0.25em;box-sizing: border-box;margin-bottom: 0.5em;}#sk-container-id-2 div.sk-estimator:hover {background-color: #d4ebff;}#sk-container-id-2 div.sk-parallel-item::after {content: \"\";width: 100%;border-bottom: 1px solid gray;flex-grow: 1;}#sk-container-id-2 div.sk-label:hover label.sk-toggleable__label {background-color: #d4ebff;}#sk-container-id-2 div.sk-serial::before {content: \"\";position: absolute;border-left: 1px solid gray;box-sizing: border-box;top: 0;bottom: 0;left: 50%;z-index: 0;}#sk-container-id-2 div.sk-serial {display: flex;flex-direction: column;align-items: center;background-color: white;padding-right: 0.2em;padding-left: 0.2em;position: relative;}#sk-container-id-2 div.sk-item {position: relative;z-index: 1;}#sk-container-id-2 div.sk-parallel {display: flex;align-items: stretch;justify-content: center;background-color: white;position: relative;}#sk-container-id-2 div.sk-item::before, #sk-container-id-2 div.sk-parallel-item::before {content: \"\";position: absolute;border-left: 1px solid gray;box-sizing: border-box;top: 0;bottom: 0;left: 50%;z-index: -1;}#sk-container-id-2 div.sk-parallel-item {display: flex;flex-direction: column;z-index: 1;position: relative;background-color: white;}#sk-container-id-2 div.sk-parallel-item:first-child::after {align-self: flex-end;width: 50%;}#sk-container-id-2 div.sk-parallel-item:last-child::after {align-self: flex-start;width: 50%;}#sk-container-id-2 div.sk-parallel-item:only-child::after {width: 0;}#sk-container-id-2 div.sk-dashed-wrapped {border: 1px dashed gray;margin: 0 0.4em 0.5em 0.4em;box-sizing: border-box;padding-bottom: 0.4em;background-color: white;}#sk-container-id-2 div.sk-label label {font-family: monospace;font-weight: bold;display: inline-block;line-height: 1.2em;}#sk-container-id-2 div.sk-label-container {text-align: center;}#sk-container-id-2 div.sk-container {/* jupyter's `normalize.less` sets `[hidden] { display: none; }` but bootstrap.min.css set `[hidden] { display: none !important; }` so we also need the `!important` here to be able to override the default hidden behavior on the sphinx rendered scikit-learn.org. See: https://github.com/scikit-learn/scikit-learn/issues/21755 */display: inline-block !important;position: relative;}#sk-container-id-2 div.sk-text-repr-fallback {display: none;}</style><div id=\"sk-container-id-2\" class=\"sk-top-container\"><div class=\"sk-text-repr-fallback\"><pre>RandomForestClassifier(verbose=2)</pre><b>In a Jupyter environment, please rerun this cell to show the HTML representation or trust the notebook. <br />On GitHub, the HTML representation is unable to render, please try loading this page with nbviewer.org.</b></div><div class=\"sk-container\" hidden><div class=\"sk-item\"><div class=\"sk-estimator sk-toggleable\"><input class=\"sk-toggleable__control sk-hidden--visually\" id=\"sk-estimator-id-2\" type=\"checkbox\" checked><label for=\"sk-estimator-id-2\" class=\"sk-toggleable__label sk-toggleable__label-arrow\">RandomForestClassifier</label><div class=\"sk-toggleable__content\"><pre>RandomForestClassifier(verbose=2)</pre></div></div></div></div></div>"
      ],
      "text/plain": [
       "RandomForestClassifier(verbose=2)"
      ]
     },
     "execution_count": 168,
     "metadata": {},
     "output_type": "execute_result"
    }
   ],
   "source": [
    "m=RandomForestClassifier(random_state=10, oob_score=True, verbose=2)\n",
    "m.fit(X_train_scaled, life_T.Y_train)"
   ]
  },
  {
   "cell_type": "code",
   "execution_count": 187,
   "metadata": {},
   "outputs": [
    {
     "name": "stderr",
     "output_type": "stream",
     "text": [
      "[Parallel(n_jobs=1)]: Done  40 tasks      | elapsed:    8.1s\n"
     ]
    }
   ],
   "source": [
    "train_score=m.score(X_train_scaled, life_T.Y_train)"
   ]
  },
  {
   "cell_type": "code",
   "execution_count": 188,
   "metadata": {},
   "outputs": [
    {
     "name": "stderr",
     "output_type": "stream",
     "text": [
      "[Parallel(n_jobs=1)]: Done  40 tasks      | elapsed:    2.6s\n"
     ]
    }
   ],
   "source": [
    "test_score=m.score(X_test_scaled, life_T.Y_test)"
   ]
  },
  {
   "cell_type": "code",
   "execution_count": 189,
   "metadata": {},
   "outputs": [
    {
     "data": {
      "text/plain": [
       "(0.9963044162497151, 0.39886853886853885)"
      ]
     },
     "execution_count": 189,
     "metadata": {},
     "output_type": "execute_result"
    }
   ],
   "source": [
    "train_score, test_score"
   ]
  },
  {
   "cell_type": "code",
   "execution_count": 190,
   "metadata": {},
   "outputs": [
    {
     "data": {
      "text/plain": [
       "array([0.1672836 , 0.16204284, 0.1914546 , 0.08233758, 0.04121619,\n",
       "       0.03910537, 0.06924804, 0.02700061, 0.03771412, 0.02216924,\n",
       "       0.0183326 , 0.00748459, 0.01019907, 0.01432623, 0.01136524,\n",
       "       0.00642725, 0.01741973, 0.01775324, 0.00301411, 0.01100784,\n",
       "       0.00521623, 0.00442064, 0.00950317, 0.00736858, 0.0165893 ])"
      ]
     },
     "execution_count": 190,
     "metadata": {},
     "output_type": "execute_result"
    }
   ],
   "source": [
    "m.feature_importances_"
   ]
  },
  {
   "cell_type": "code",
   "execution_count": null,
   "metadata": {},
   "outputs": [],
   "source": []
  },
  {
   "cell_type": "code",
   "execution_count": 186,
   "metadata": {},
   "outputs": [
    {
     "name": "stderr",
     "output_type": "stream",
     "text": [
      "c:\\Users\\KDP-25\\anaconda3\\envs\\PYTORCH_38\\lib\\site-packages\\sklearn\\base.py:464: UserWarning: X does not have valid feature names, but RandomForestClassifier was fitted with feature names\n",
      "  warnings.warn(\n"
     ]
    },
    {
     "ename": "ValueError",
     "evalue": "X has 1 features, but RandomForestClassifier is expecting 25 features as input.",
     "output_type": "error",
     "traceback": [
      "\u001b[1;31m---------------------------------------------------------------------------\u001b[0m",
      "\u001b[1;31mValueError\u001b[0m                                Traceback (most recent call last)",
      "Cell \u001b[1;32mIn[186], line 1\u001b[0m\n\u001b[1;32m----> 1\u001b[0m \u001b[43mm\u001b[49m\u001b[38;5;241;43m.\u001b[39;49m\u001b[43mscore\u001b[49m\u001b[43m(\u001b[49m\u001b[43my\u001b[49m\u001b[38;5;241;43m.\u001b[39;49m\u001b[43mreshape\u001b[49m\u001b[43m(\u001b[49m\u001b[38;5;241;43m-\u001b[39;49m\u001b[38;5;241;43m1\u001b[39;49m\u001b[43m,\u001b[49m\u001b[38;5;241;43m1\u001b[39;49m\u001b[43m)\u001b[49m\u001b[43m,\u001b[49m\u001b[43m \u001b[49m\u001b[43mlife_T\u001b[49m\u001b[38;5;241;43m.\u001b[39;49m\u001b[43mY_test\u001b[49m\u001b[38;5;241;43m.\u001b[39;49m\u001b[43mto_frame\u001b[49m\u001b[43m(\u001b[49m\u001b[43m)\u001b[49m\u001b[43m)\u001b[49m\n",
      "File \u001b[1;32mc:\\Users\\KDP-25\\anaconda3\\envs\\PYTORCH_38\\lib\\site-packages\\sklearn\\base.py:705\u001b[0m, in \u001b[0;36mClassifierMixin.score\u001b[1;34m(self, X, y, sample_weight)\u001b[0m\n\u001b[0;32m    680\u001b[0m \u001b[38;5;250m\u001b[39m\u001b[38;5;124;03m\"\"\"\u001b[39;00m\n\u001b[0;32m    681\u001b[0m \u001b[38;5;124;03mReturn the mean accuracy on the given test data and labels.\u001b[39;00m\n\u001b[0;32m    682\u001b[0m \n\u001b[1;32m   (...)\u001b[0m\n\u001b[0;32m    701\u001b[0m \u001b[38;5;124;03m    Mean accuracy of ``self.predict(X)`` w.r.t. `y`.\u001b[39;00m\n\u001b[0;32m    702\u001b[0m \u001b[38;5;124;03m\"\"\"\u001b[39;00m\n\u001b[0;32m    703\u001b[0m \u001b[38;5;28;01mfrom\u001b[39;00m \u001b[38;5;21;01m.\u001b[39;00m\u001b[38;5;21;01mmetrics\u001b[39;00m \u001b[38;5;28;01mimport\u001b[39;00m accuracy_score\n\u001b[1;32m--> 705\u001b[0m \u001b[38;5;28;01mreturn\u001b[39;00m accuracy_score(y, \u001b[38;5;28;43mself\u001b[39;49m\u001b[38;5;241;43m.\u001b[39;49m\u001b[43mpredict\u001b[49m\u001b[43m(\u001b[49m\u001b[43mX\u001b[49m\u001b[43m)\u001b[49m, sample_weight\u001b[38;5;241m=\u001b[39msample_weight)\n",
      "File \u001b[1;32mc:\\Users\\KDP-25\\anaconda3\\envs\\PYTORCH_38\\lib\\site-packages\\sklearn\\ensemble\\_forest.py:823\u001b[0m, in \u001b[0;36mForestClassifier.predict\u001b[1;34m(self, X)\u001b[0m\n\u001b[0;32m    802\u001b[0m \u001b[38;5;28;01mdef\u001b[39;00m \u001b[38;5;21mpredict\u001b[39m(\u001b[38;5;28mself\u001b[39m, X):\n\u001b[0;32m    803\u001b[0m \u001b[38;5;250m    \u001b[39m\u001b[38;5;124;03m\"\"\"\u001b[39;00m\n\u001b[0;32m    804\u001b[0m \u001b[38;5;124;03m    Predict class for X.\u001b[39;00m\n\u001b[0;32m    805\u001b[0m \n\u001b[1;32m   (...)\u001b[0m\n\u001b[0;32m    821\u001b[0m \u001b[38;5;124;03m        The predicted classes.\u001b[39;00m\n\u001b[0;32m    822\u001b[0m \u001b[38;5;124;03m    \"\"\"\u001b[39;00m\n\u001b[1;32m--> 823\u001b[0m     proba \u001b[38;5;241m=\u001b[39m \u001b[38;5;28;43mself\u001b[39;49m\u001b[38;5;241;43m.\u001b[39;49m\u001b[43mpredict_proba\u001b[49m\u001b[43m(\u001b[49m\u001b[43mX\u001b[49m\u001b[43m)\u001b[49m\n\u001b[0;32m    825\u001b[0m     \u001b[38;5;28;01mif\u001b[39;00m \u001b[38;5;28mself\u001b[39m\u001b[38;5;241m.\u001b[39mn_outputs_ \u001b[38;5;241m==\u001b[39m \u001b[38;5;241m1\u001b[39m:\n\u001b[0;32m    826\u001b[0m         \u001b[38;5;28;01mreturn\u001b[39;00m \u001b[38;5;28mself\u001b[39m\u001b[38;5;241m.\u001b[39mclasses_\u001b[38;5;241m.\u001b[39mtake(np\u001b[38;5;241m.\u001b[39margmax(proba, axis\u001b[38;5;241m=\u001b[39m\u001b[38;5;241m1\u001b[39m), axis\u001b[38;5;241m=\u001b[39m\u001b[38;5;241m0\u001b[39m)\n",
      "File \u001b[1;32mc:\\Users\\KDP-25\\anaconda3\\envs\\PYTORCH_38\\lib\\site-packages\\sklearn\\ensemble\\_forest.py:865\u001b[0m, in \u001b[0;36mForestClassifier.predict_proba\u001b[1;34m(self, X)\u001b[0m\n\u001b[0;32m    863\u001b[0m check_is_fitted(\u001b[38;5;28mself\u001b[39m)\n\u001b[0;32m    864\u001b[0m \u001b[38;5;66;03m# Check data\u001b[39;00m\n\u001b[1;32m--> 865\u001b[0m X \u001b[38;5;241m=\u001b[39m \u001b[38;5;28;43mself\u001b[39;49m\u001b[38;5;241;43m.\u001b[39;49m\u001b[43m_validate_X_predict\u001b[49m\u001b[43m(\u001b[49m\u001b[43mX\u001b[49m\u001b[43m)\u001b[49m\n\u001b[0;32m    867\u001b[0m \u001b[38;5;66;03m# Assign chunk of trees to jobs\u001b[39;00m\n\u001b[0;32m    868\u001b[0m n_jobs, _, _ \u001b[38;5;241m=\u001b[39m _partition_estimators(\u001b[38;5;28mself\u001b[39m\u001b[38;5;241m.\u001b[39mn_estimators, \u001b[38;5;28mself\u001b[39m\u001b[38;5;241m.\u001b[39mn_jobs)\n",
      "File \u001b[1;32mc:\\Users\\KDP-25\\anaconda3\\envs\\PYTORCH_38\\lib\\site-packages\\sklearn\\ensemble\\_forest.py:599\u001b[0m, in \u001b[0;36mBaseForest._validate_X_predict\u001b[1;34m(self, X)\u001b[0m\n\u001b[0;32m    596\u001b[0m \u001b[38;5;250m\u001b[39m\u001b[38;5;124;03m\"\"\"\u001b[39;00m\n\u001b[0;32m    597\u001b[0m \u001b[38;5;124;03mValidate X whenever one tries to predict, apply, predict_proba.\"\"\"\u001b[39;00m\n\u001b[0;32m    598\u001b[0m check_is_fitted(\u001b[38;5;28mself\u001b[39m)\n\u001b[1;32m--> 599\u001b[0m X \u001b[38;5;241m=\u001b[39m \u001b[38;5;28;43mself\u001b[39;49m\u001b[38;5;241;43m.\u001b[39;49m\u001b[43m_validate_data\u001b[49m\u001b[43m(\u001b[49m\u001b[43mX\u001b[49m\u001b[43m,\u001b[49m\u001b[43m \u001b[49m\u001b[43mdtype\u001b[49m\u001b[38;5;241;43m=\u001b[39;49m\u001b[43mDTYPE\u001b[49m\u001b[43m,\u001b[49m\u001b[43m \u001b[49m\u001b[43maccept_sparse\u001b[49m\u001b[38;5;241;43m=\u001b[39;49m\u001b[38;5;124;43m\"\u001b[39;49m\u001b[38;5;124;43mcsr\u001b[39;49m\u001b[38;5;124;43m\"\u001b[39;49m\u001b[43m,\u001b[49m\u001b[43m \u001b[49m\u001b[43mreset\u001b[49m\u001b[38;5;241;43m=\u001b[39;49m\u001b[38;5;28;43;01mFalse\u001b[39;49;00m\u001b[43m)\u001b[49m\n\u001b[0;32m    600\u001b[0m \u001b[38;5;28;01mif\u001b[39;00m issparse(X) \u001b[38;5;129;01mand\u001b[39;00m (X\u001b[38;5;241m.\u001b[39mindices\u001b[38;5;241m.\u001b[39mdtype \u001b[38;5;241m!=\u001b[39m np\u001b[38;5;241m.\u001b[39mintc \u001b[38;5;129;01mor\u001b[39;00m X\u001b[38;5;241m.\u001b[39mindptr\u001b[38;5;241m.\u001b[39mdtype \u001b[38;5;241m!=\u001b[39m np\u001b[38;5;241m.\u001b[39mintc):\n\u001b[0;32m    601\u001b[0m     \u001b[38;5;28;01mraise\u001b[39;00m \u001b[38;5;167;01mValueError\u001b[39;00m(\u001b[38;5;124m\"\u001b[39m\u001b[38;5;124mNo support for np.int64 index based sparse matrices\u001b[39m\u001b[38;5;124m\"\u001b[39m)\n",
      "File \u001b[1;32mc:\\Users\\KDP-25\\anaconda3\\envs\\PYTORCH_38\\lib\\site-packages\\sklearn\\base.py:625\u001b[0m, in \u001b[0;36mBaseEstimator._validate_data\u001b[1;34m(self, X, y, reset, validate_separately, cast_to_ndarray, **check_params)\u001b[0m\n\u001b[0;32m    622\u001b[0m     out \u001b[38;5;241m=\u001b[39m X, y\n\u001b[0;32m    624\u001b[0m \u001b[38;5;28;01mif\u001b[39;00m \u001b[38;5;129;01mnot\u001b[39;00m no_val_X \u001b[38;5;129;01mand\u001b[39;00m check_params\u001b[38;5;241m.\u001b[39mget(\u001b[38;5;124m\"\u001b[39m\u001b[38;5;124mensure_2d\u001b[39m\u001b[38;5;124m\"\u001b[39m, \u001b[38;5;28;01mTrue\u001b[39;00m):\n\u001b[1;32m--> 625\u001b[0m     \u001b[38;5;28;43mself\u001b[39;49m\u001b[38;5;241;43m.\u001b[39;49m\u001b[43m_check_n_features\u001b[49m\u001b[43m(\u001b[49m\u001b[43mX\u001b[49m\u001b[43m,\u001b[49m\u001b[43m \u001b[49m\u001b[43mreset\u001b[49m\u001b[38;5;241;43m=\u001b[39;49m\u001b[43mreset\u001b[49m\u001b[43m)\u001b[49m\n\u001b[0;32m    627\u001b[0m \u001b[38;5;28;01mreturn\u001b[39;00m out\n",
      "File \u001b[1;32mc:\\Users\\KDP-25\\anaconda3\\envs\\PYTORCH_38\\lib\\site-packages\\sklearn\\base.py:414\u001b[0m, in \u001b[0;36mBaseEstimator._check_n_features\u001b[1;34m(self, X, reset)\u001b[0m\n\u001b[0;32m    411\u001b[0m     \u001b[38;5;28;01mreturn\u001b[39;00m\n\u001b[0;32m    413\u001b[0m \u001b[38;5;28;01mif\u001b[39;00m n_features \u001b[38;5;241m!=\u001b[39m \u001b[38;5;28mself\u001b[39m\u001b[38;5;241m.\u001b[39mn_features_in_:\n\u001b[1;32m--> 414\u001b[0m     \u001b[38;5;28;01mraise\u001b[39;00m \u001b[38;5;167;01mValueError\u001b[39;00m(\n\u001b[0;32m    415\u001b[0m         \u001b[38;5;124mf\u001b[39m\u001b[38;5;124m\"\u001b[39m\u001b[38;5;124mX has \u001b[39m\u001b[38;5;132;01m{\u001b[39;00mn_features\u001b[38;5;132;01m}\u001b[39;00m\u001b[38;5;124m features, but \u001b[39m\u001b[38;5;132;01m{\u001b[39;00m\u001b[38;5;28mself\u001b[39m\u001b[38;5;241m.\u001b[39m\u001b[38;5;18m__class__\u001b[39m\u001b[38;5;241m.\u001b[39m\u001b[38;5;18m__name__\u001b[39m\u001b[38;5;132;01m}\u001b[39;00m\u001b[38;5;124m \u001b[39m\u001b[38;5;124m\"\u001b[39m\n\u001b[0;32m    416\u001b[0m         \u001b[38;5;124mf\u001b[39m\u001b[38;5;124m\"\u001b[39m\u001b[38;5;124mis expecting \u001b[39m\u001b[38;5;132;01m{\u001b[39;00m\u001b[38;5;28mself\u001b[39m\u001b[38;5;241m.\u001b[39mn_features_in_\u001b[38;5;132;01m}\u001b[39;00m\u001b[38;5;124m features as input.\u001b[39m\u001b[38;5;124m\"\u001b[39m\n\u001b[0;32m    417\u001b[0m     )\n",
      "\u001b[1;31mValueError\u001b[0m: X has 1 features, but RandomForestClassifier is expecting 25 features as input."
     ]
    }
   ],
   "source": [
    "m.score(y.reshape(-1,1), life_T.Y_test.to_frame())"
   ]
  },
  {
   "cell_type": "code",
   "execution_count": 79,
   "metadata": {},
   "outputs": [],
   "source": [
    "# 데이터셋, 로더 생성 (스케일링X)\n",
    "# trainDS= Custom_Dataset(featureDF=life_T.X_train, targetDF=life_T.Y_train.to_frame())\n",
    "# testDS= Custom_Dataset(featureDF=life_T.X_test, targetDF=life_T.Y_test.to_frame())\n",
    "# valDS= Custom_Dataset(featureDF=life_T.X_val, targetDF=life_T.Y_val.to_frame())\n",
    "\n",
    "# trainDL=DataLoader(trainDS, batch_size=64)\n",
    "# testDL= DataLoader(testDS, batch_size=64)\n",
    "# valDL= DataLoader(valDS, batch_size=64)"
   ]
  },
  {
   "cell_type": "markdown",
   "metadata": {},
   "source": [
    "[3] 학습준비\n",
    "\n",
    "- 학습횟수: EPOCH\n",
    "- 배치크기: 64\n",
    "- 위치 지정: DEVICE\n",
    "- 학습률: LR"
   ]
  },
  {
   "cell_type": "code",
   "execution_count": 80,
   "metadata": {},
   "outputs": [
    {
     "data": {
      "text/plain": [
       "5759"
      ]
     },
     "execution_count": 80,
     "metadata": {},
     "output_type": "execute_result"
    }
   ],
   "source": [
    "len(trainDL)"
   ]
  },
  {
   "cell_type": "markdown",
   "metadata": {},
   "source": [
    "##### 학습 모델\n",
    "- 모델 이름: health\n",
    "- 사용 피쳐: 21개\n",
    "- 사용 타겟: 전반적인 건강 정도 (점수로 나타 낼 수 있으면 좋을듯?)\n",
    "- 사용 프레임워크: torch\n",
    "- 사용 알고리즘: DNN\n",
    "- 사용 최적화함수: nn.Adam\n",
    "- 입력층: 25-> 150\n",
    "- 은닉층: 150-> 120, 120-> 100, 100->80\n",
    "- 출력층 80-> 5"
   ]
  },
  {
   "cell_type": "code",
   "execution_count": 81,
   "metadata": {},
   "outputs": [
    {
     "data": {
      "text/plain": [
       "<torch._C.Generator at 0x274ff96a0f0>"
      ]
     },
     "execution_count": 81,
     "metadata": {},
     "output_type": "execute_result"
    }
   ],
   "source": [
    "# 설정값\n",
    "EPOCH=100\n",
    "DEVICE= 'cuda' if torch.cuda.is_available() else 'cpu'\n",
    "LR= 0.1\n",
    "torch.manual_seed(1)"
   ]
  },
  {
   "cell_type": "code",
   "execution_count": 82,
   "metadata": {},
   "outputs": [],
   "source": [
    "class make_model(nn.Module):\n",
    "    '''\n",
    "    커스텀 모델을 만드는 함수\n",
    "    model_type= 'reg'|'binary'|'mclf'\n",
    "    은닉층 수= 리스트 수-1\n",
    "    '''\n",
    "    def __init__(self, in_in, out_out, hidden: list) -> None:\n",
    "        super().__init__()\n",
    "\n",
    "\n",
    "        self.in_layer= nn.Linear(in_in, hidden[0])\n",
    "        self.h1_layer=nn.Linear(hidden[0], hidden[1])\n",
    "        self.h2_layer=nn.Linear(hidden[1], hidden[2])\n",
    "        self.h3_layer=nn.Linear(hidden[2], hidden[3])\n",
    "        self.out_layer= nn.Linear(hidden[-1], out_out)\n",
    "    \n",
    "    def forward(self, input_data):\n",
    "        \n",
    "        y= self.in_layer(input_data)\n",
    "        y= F.relu(y)\n",
    "\n",
    "        \n",
    "        y=self.h1_layer(y)\n",
    "        y=F.relu(y)\n",
    "        \n",
    "        y=self.h2_layer(y)\n",
    "        y=F.relu(y)\n",
    "\n",
    "        y=self.h3_layer(y)\n",
    "        y=F.relu(y)\n",
    "\n",
    "        y=self.out_layer(y)\n",
    "        \n",
    "        \n",
    "        return y"
   ]
  },
  {
   "cell_type": "code",
   "execution_count": 83,
   "metadata": {},
   "outputs": [],
   "source": [
    "health=make_model(in_in=25, out_out=5, hidden=[150,120,100,80])"
   ]
  },
  {
   "cell_type": "code",
   "execution_count": 84,
   "metadata": {},
   "outputs": [],
   "source": [
    "# 최적화 인스턴스\n",
    "optimizer= optim.Adam(health.parameters(), lr=LR)\n",
    "\n",
    "# 저장\n",
    "import os\n",
    "# 경로\n",
    "SAVE_PATH= '../models/health/'\n",
    "# 이름\n",
    "SAVE_FILE='model_train_all.pth'\n",
    "\n",
    "if not os.path.exists(SAVE_PATH):\n",
    "    os.makedirs(SAVE_PATH)       #하위 폴더까지 생성"
   ]
  },
  {
   "cell_type": "code",
   "execution_count": 85,
   "metadata": {},
   "outputs": [],
   "source": [
    "# life_T.data.corr()"
   ]
  },
  {
   "cell_type": "code",
   "execution_count": 86,
   "metadata": {},
   "outputs": [
    {
     "name": "stdout",
     "output_type": "stream",
     "text": [
      "torch.Size([64, 25]) torch.Size([64, 1])\n"
     ]
    }
   ],
   "source": [
    "for f, t in trainDL:\n",
    "    # print(f, t)\n",
    "    print(f.shape, t.shape)\n",
    "    break\n",
    "from torchmetrics.classification import Accuracy"
   ]
  },
  {
   "cell_type": "code",
   "execution_count": 87,
   "metadata": {},
   "outputs": [],
   "source": [
    "# health=Custom_model(in_in=25, out_out=5, hidden=[150,120,100,80], af=F.relu, model_type='multiclass')\n",
    "# health"
   ]
  },
  {
   "cell_type": "code",
   "execution_count": 88,
   "metadata": {},
   "outputs": [],
   "source": [
    "# model_training(health, trainDL=trainDL, testDL=valDL, optimizer=optimizer, epoch=100,\n",
    "#                break_param='score', type='muticlass', SAVE_FILE=SAVE_FILE, SAVE_PATH=SAVE_PATH, save_type='all',\n",
    "#                numcls=5, LIMIT=15, optim_type='score')"
   ]
  },
  {
   "cell_type": "code",
   "execution_count": 192,
   "metadata": {},
   "outputs": [
    {
     "name": "stdout",
     "output_type": "stream",
     "text": [
      "1/100\n",
      "Train\n",
      " Loss: 1.474482695165039\n",
      " Score: 0.31769356176834135\n",
      "Val\n",
      " Loss: 1.4845038522448806\n",
      " Score: 0.3102062690589163\n",
      "2/100\n",
      "Train\n",
      " Loss: 1.4719292635842316\n",
      " Score: 0.3177098406362004\n",
      "Val\n",
      " Loss: 1.48450488663382\n",
      " Score: 0.3102062690589163\n",
      "3/100\n",
      "Train\n",
      " Loss: 1.4719293211292612\n",
      " Score: 0.3177098406362004\n",
      "Val\n",
      " Loss: 1.48450488663382\n",
      " Score: 0.3102062690589163\n",
      "4/100\n",
      "Train\n",
      " Loss: 1.4719293209015651\n",
      " Score: 0.3177098406362004\n",
      "Val\n",
      " Loss: 1.48450488663382\n",
      " Score: 0.3102062690589163\n",
      "5/100\n",
      "Train\n",
      " Loss: 1.4719293226196362\n",
      " Score: 0.3177098406362004\n",
      "Val\n",
      " Loss: 1.48450488663382\n",
      " Score: 0.3102062690589163\n",
      "6/100\n",
      "Train\n",
      " Loss: 1.4719293217088514\n",
      " Score: 0.3177098406362004\n",
      "Val\n",
      " Loss: 1.4845049592355888\n",
      " Score: 0.3102062690589163\n",
      "7/100\n",
      "Train\n",
      " Loss: 1.4719293188522995\n",
      " Score: 0.3177098406362004\n",
      "Val\n",
      " Loss: 1.4845049592355888\n",
      " Score: 0.3102062690589163\n",
      "8/100\n",
      "Train\n",
      " Loss: 1.4719293196181866\n",
      " Score: 0.3177098406362004\n",
      "Val\n",
      " Loss: 1.4845049429270956\n",
      " Score: 0.3102062690589163\n",
      "9/100\n",
      "Train\n",
      " Loss: 1.471929320239176\n",
      " Score: 0.3177098406362004\n",
      "Val\n",
      " Loss: 1.4845048488842116\n",
      " Score: 0.3102062690589163\n",
      "10/100\n"
     ]
    },
    {
     "ename": "KeyboardInterrupt",
     "evalue": "",
     "output_type": "error",
     "traceback": [
      "\u001b[1;31m---------------------------------------------------------------------------\u001b[0m",
      "\u001b[1;31mKeyboardInterrupt\u001b[0m                         Traceback (most recent call last)",
      "Cell \u001b[1;32mIn[192], line 19\u001b[0m\n\u001b[0;32m     16\u001b[0m loss_total, score_total\u001b[38;5;241m=\u001b[39m \u001b[38;5;241m0\u001b[39m,\u001b[38;5;241m0\u001b[39m\n\u001b[0;32m     17\u001b[0m loss_val_total, score_val_total\u001b[38;5;241m=\u001b[39m\u001b[38;5;241m0\u001b[39m,\u001b[38;5;241m0\u001b[39m\n\u001b[1;32m---> 19\u001b[0m \u001b[38;5;28;01mfor\u001b[39;00m train_feature, train_target \u001b[38;5;129;01min\u001b[39;00m trainDL:\n\u001b[0;32m     20\u001b[0m     \u001b[38;5;66;03m# 학습\u001b[39;00m\n\u001b[0;32m     21\u001b[0m     pre_y\u001b[38;5;241m=\u001b[39mmodel(train_feature)\n\u001b[0;32m     23\u001b[0m     \u001b[38;5;66;03m# 손실\u001b[39;00m\n",
      "File \u001b[1;32mc:\\Users\\KDP-25\\anaconda3\\envs\\PYTORCH_38\\lib\\site-packages\\torch\\utils\\data\\dataloader.py:630\u001b[0m, in \u001b[0;36m_BaseDataLoaderIter.__next__\u001b[1;34m(self)\u001b[0m\n\u001b[0;32m    627\u001b[0m \u001b[38;5;28;01mif\u001b[39;00m \u001b[38;5;28mself\u001b[39m\u001b[38;5;241m.\u001b[39m_sampler_iter \u001b[38;5;129;01mis\u001b[39;00m \u001b[38;5;28;01mNone\u001b[39;00m:\n\u001b[0;32m    628\u001b[0m     \u001b[38;5;66;03m# TODO(https://github.com/pytorch/pytorch/issues/76750)\u001b[39;00m\n\u001b[0;32m    629\u001b[0m     \u001b[38;5;28mself\u001b[39m\u001b[38;5;241m.\u001b[39m_reset()  \u001b[38;5;66;03m# type: ignore[call-arg]\u001b[39;00m\n\u001b[1;32m--> 630\u001b[0m data \u001b[38;5;241m=\u001b[39m \u001b[38;5;28;43mself\u001b[39;49m\u001b[38;5;241;43m.\u001b[39;49m\u001b[43m_next_data\u001b[49m\u001b[43m(\u001b[49m\u001b[43m)\u001b[49m\n\u001b[0;32m    631\u001b[0m \u001b[38;5;28mself\u001b[39m\u001b[38;5;241m.\u001b[39m_num_yielded \u001b[38;5;241m+\u001b[39m\u001b[38;5;241m=\u001b[39m \u001b[38;5;241m1\u001b[39m\n\u001b[0;32m    632\u001b[0m \u001b[38;5;28;01mif\u001b[39;00m \u001b[38;5;28mself\u001b[39m\u001b[38;5;241m.\u001b[39m_dataset_kind \u001b[38;5;241m==\u001b[39m _DatasetKind\u001b[38;5;241m.\u001b[39mIterable \u001b[38;5;129;01mand\u001b[39;00m \\\n\u001b[0;32m    633\u001b[0m         \u001b[38;5;28mself\u001b[39m\u001b[38;5;241m.\u001b[39m_IterableDataset_len_called \u001b[38;5;129;01mis\u001b[39;00m \u001b[38;5;129;01mnot\u001b[39;00m \u001b[38;5;28;01mNone\u001b[39;00m \u001b[38;5;129;01mand\u001b[39;00m \\\n\u001b[0;32m    634\u001b[0m         \u001b[38;5;28mself\u001b[39m\u001b[38;5;241m.\u001b[39m_num_yielded \u001b[38;5;241m>\u001b[39m \u001b[38;5;28mself\u001b[39m\u001b[38;5;241m.\u001b[39m_IterableDataset_len_called:\n",
      "File \u001b[1;32mc:\\Users\\KDP-25\\anaconda3\\envs\\PYTORCH_38\\lib\\site-packages\\torch\\utils\\data\\dataloader.py:673\u001b[0m, in \u001b[0;36m_SingleProcessDataLoaderIter._next_data\u001b[1;34m(self)\u001b[0m\n\u001b[0;32m    671\u001b[0m \u001b[38;5;28;01mdef\u001b[39;00m \u001b[38;5;21m_next_data\u001b[39m(\u001b[38;5;28mself\u001b[39m):\n\u001b[0;32m    672\u001b[0m     index \u001b[38;5;241m=\u001b[39m \u001b[38;5;28mself\u001b[39m\u001b[38;5;241m.\u001b[39m_next_index()  \u001b[38;5;66;03m# may raise StopIteration\u001b[39;00m\n\u001b[1;32m--> 673\u001b[0m     data \u001b[38;5;241m=\u001b[39m \u001b[38;5;28;43mself\u001b[39;49m\u001b[38;5;241;43m.\u001b[39;49m\u001b[43m_dataset_fetcher\u001b[49m\u001b[38;5;241;43m.\u001b[39;49m\u001b[43mfetch\u001b[49m\u001b[43m(\u001b[49m\u001b[43mindex\u001b[49m\u001b[43m)\u001b[49m  \u001b[38;5;66;03m# may raise StopIteration\u001b[39;00m\n\u001b[0;32m    674\u001b[0m     \u001b[38;5;28;01mif\u001b[39;00m \u001b[38;5;28mself\u001b[39m\u001b[38;5;241m.\u001b[39m_pin_memory:\n\u001b[0;32m    675\u001b[0m         data \u001b[38;5;241m=\u001b[39m _utils\u001b[38;5;241m.\u001b[39mpin_memory\u001b[38;5;241m.\u001b[39mpin_memory(data, \u001b[38;5;28mself\u001b[39m\u001b[38;5;241m.\u001b[39m_pin_memory_device)\n",
      "File \u001b[1;32mc:\\Users\\KDP-25\\anaconda3\\envs\\PYTORCH_38\\lib\\site-packages\\torch\\utils\\data\\_utils\\fetch.py:52\u001b[0m, in \u001b[0;36m_MapDatasetFetcher.fetch\u001b[1;34m(self, possibly_batched_index)\u001b[0m\n\u001b[0;32m     50\u001b[0m         data \u001b[38;5;241m=\u001b[39m \u001b[38;5;28mself\u001b[39m\u001b[38;5;241m.\u001b[39mdataset\u001b[38;5;241m.\u001b[39m__getitems__(possibly_batched_index)\n\u001b[0;32m     51\u001b[0m     \u001b[38;5;28;01melse\u001b[39;00m:\n\u001b[1;32m---> 52\u001b[0m         data \u001b[38;5;241m=\u001b[39m [\u001b[38;5;28mself\u001b[39m\u001b[38;5;241m.\u001b[39mdataset[idx] \u001b[38;5;28;01mfor\u001b[39;00m idx \u001b[38;5;129;01min\u001b[39;00m possibly_batched_index]\n\u001b[0;32m     53\u001b[0m \u001b[38;5;28;01melse\u001b[39;00m:\n\u001b[0;32m     54\u001b[0m     data \u001b[38;5;241m=\u001b[39m \u001b[38;5;28mself\u001b[39m\u001b[38;5;241m.\u001b[39mdataset[possibly_batched_index]\n",
      "File \u001b[1;32mc:\\Users\\KDP-25\\anaconda3\\envs\\PYTORCH_38\\lib\\site-packages\\torch\\utils\\data\\_utils\\fetch.py:52\u001b[0m, in \u001b[0;36m<listcomp>\u001b[1;34m(.0)\u001b[0m\n\u001b[0;32m     50\u001b[0m         data \u001b[38;5;241m=\u001b[39m \u001b[38;5;28mself\u001b[39m\u001b[38;5;241m.\u001b[39mdataset\u001b[38;5;241m.\u001b[39m__getitems__(possibly_batched_index)\n\u001b[0;32m     51\u001b[0m     \u001b[38;5;28;01melse\u001b[39;00m:\n\u001b[1;32m---> 52\u001b[0m         data \u001b[38;5;241m=\u001b[39m [\u001b[38;5;28;43mself\u001b[39;49m\u001b[38;5;241;43m.\u001b[39;49m\u001b[43mdataset\u001b[49m\u001b[43m[\u001b[49m\u001b[43midx\u001b[49m\u001b[43m]\u001b[49m \u001b[38;5;28;01mfor\u001b[39;00m idx \u001b[38;5;129;01min\u001b[39;00m possibly_batched_index]\n\u001b[0;32m     53\u001b[0m \u001b[38;5;28;01melse\u001b[39;00m:\n\u001b[0;32m     54\u001b[0m     data \u001b[38;5;241m=\u001b[39m \u001b[38;5;28mself\u001b[39m\u001b[38;5;241m.\u001b[39mdataset[possibly_batched_index]\n",
      "File \u001b[1;32mc:\\Users\\KDP-25\\Desktop\\KDT_06\\Pytorch\\project\\get_dataset.py:17\u001b[0m, in \u001b[0;36mCustom_Dataset.__getitem__\u001b[1;34m(self, index)\u001b[0m\n\u001b[0;32m     15\u001b[0m \u001b[38;5;28;01mdef\u001b[39;00m \u001b[38;5;21m__getitem__\u001b[39m(\u001b[38;5;28mself\u001b[39m, index):\n\u001b[0;32m     16\u001b[0m     featureTS\u001b[38;5;241m=\u001b[39m torch\u001b[38;5;241m.\u001b[39mFloatTensor(\u001b[38;5;28mself\u001b[39m\u001b[38;5;241m.\u001b[39mfeatureDF\u001b[38;5;241m.\u001b[39miloc[index]\u001b[38;5;241m.\u001b[39mvalues)\n\u001b[1;32m---> 17\u001b[0m     targetTS\u001b[38;5;241m=\u001b[39m \u001b[43mtorch\u001b[49m\u001b[38;5;241;43m.\u001b[39;49m\u001b[43mFloatTensor\u001b[49m\u001b[43m(\u001b[49m\u001b[38;5;28;43mself\u001b[39;49m\u001b[38;5;241;43m.\u001b[39;49m\u001b[43mtargetDF\u001b[49m\u001b[38;5;241;43m.\u001b[39;49m\u001b[43miloc\u001b[49m\u001b[43m[\u001b[49m\u001b[43mindex\u001b[49m\u001b[43m]\u001b[49m\u001b[38;5;241;43m.\u001b[39;49m\u001b[43mvalues\u001b[49m\u001b[43m)\u001b[49m\n\u001b[0;32m     18\u001b[0m     \u001b[38;5;28;01mreturn\u001b[39;00m featureTS, targetTS\n",
      "\u001b[1;31mKeyboardInterrupt\u001b[0m: "
     ]
    }
   ],
   "source": [
    "model=health\n",
    "trainDL=trainDL; testDL=valDL;  optimizer=optimizer;  epoch=100\n",
    "break_param='score'; mtype='muticlass'; SAVE_FILE=SAVE_FILE; SAVE_PATH=SAVE_PATH; save_type='all'\n",
    "numcls=5; LIMIT=150; optim_type='score'\n",
    "\n",
    "\n",
    "\n",
    "\n",
    "scheduler= lr_scheduler.ReduceLROnPlateau(optimizer, patience=LIMIT, mode='max')\n",
    "EPOCH=100\n",
    "# 손실, 평가값 저장\n",
    "LOSS_HISTORY, SCORE_HISTORY= [[],[]], [[],[]]\n",
    "for ep in range(EPOCH):\n",
    "    print(f'{ep+1}/{EPOCH}')\n",
    "    model.train()\n",
    "    loss_total, score_total= 0,0\n",
    "    loss_val_total, score_val_total=0,0\n",
    "\n",
    "    for train_feature, train_target in trainDL:\n",
    "        # 학습\n",
    "        pre_y=model(train_feature)\n",
    "\n",
    "        # 손실\n",
    "        if mtype=='reg':\n",
    "            Lossfunc=MeanSquaredError()\n",
    "            Scorefunc=R2Score()\n",
    "        elif mtype=='binary':\n",
    "            Lossfunc= nn.BCELoss()\n",
    "            Scorefunc=F1Score(task='binary', num_classes=numcls)\n",
    "        elif mtype=='muticlass':\n",
    "            Lossfunc=nn.CrossEntropyLoss()\n",
    "            Scorefunc=F1Score(task='MULTICLASS', num_classes=numcls)\n",
    "\n",
    "        loss= Lossfunc(pre_y, train_target.reshape(-1).long() if mtype=='muticlass' else train_target)\n",
    "        loss_total+=loss.item()\n",
    "\n",
    "        # 평가\n",
    "        score= Scorefunc(pre_y, train_target.reshape(-1) if mtype=='muticlass' else train_target if mtype=='reg' else train_target)\n",
    "        score_total+=score.item()\n",
    "        # 최적화\n",
    "        optimizer.zero_grad()\n",
    "        loss.backward()\n",
    "        optimizer.step()\n",
    "\n",
    "    # 검증\n",
    "\n",
    "    model.eval()\n",
    "    with torch.no_grad():\n",
    "        for val_feature, val_target in testDL:\n",
    "            # 학습\n",
    "            pre_val= model(val_feature)\n",
    "\n",
    "            # 손실\n",
    "            loss= Lossfunc(pre_val, val_target.reshape(-1).long() if mtype=='muticlass' else val_target if mtype=='reg' else val_target)\n",
    "            loss_val_total+=loss.item()\n",
    "\n",
    "            # 평가\n",
    "            score= Scorefunc(pre_val, val_target.reshape(-1) if mtype=='muticlass' else val_target)\n",
    "            score_val_total+=score.item()\n",
    "\n",
    "    \n",
    "    # 저장\n",
    "    LOSS_HISTORY[0].append(loss_total/len(trainDL))\n",
    "    SCORE_HISTORY[0].append(score_total/len(trainDL))\n",
    "    print(f'Train\\n Loss: {loss_total/len(trainDL)}\\n Score: {score_total/len(trainDL)}')\n",
    "\n",
    "    LOSS_HISTORY[1].append(loss_val_total/len(testDL))\n",
    "    SCORE_HISTORY[1].append(score_val_total/len(testDL))\n",
    "    print(f'Val\\n Loss: {loss_val_total/len(testDL)}\\n Score: {score_val_total/len(testDL)}')\n",
    "\n",
    "    # 성능이 좋은 학습 가중치 저장\n",
    "    if save_type:\n",
    "        if save_type=='all':\n",
    "            save_type= model\n",
    "        elif save_type=='param':\n",
    "            save_type=model.state_dict()\n",
    "        if len(SCORE_HISTORY[1]) == 1: \n",
    "        #첫번째는 무조건 저장\n",
    "            torch.save(save_type, SAVE_PATH+SAVE_FILE)  \n",
    "            \n",
    "        else:\n",
    "            if SCORE_HISTORY[1][-1]> max(SCORE_HISTORY[1][:-1]): # 자신을 제외한 최대점수값과 비교\n",
    "                torch.save(save_type, SAVE_PATH+SAVE_FILE) \n",
    "                    \n",
    "    else: pass\n",
    "\n",
    "    \n",
    "    # 학습 진행 모니터링 (검증 데이터 개선이 되지 않았을때 누적 ->  평가, 손실 중 지표 하나 선택)\n",
    "    # 최적화 스케쥴러 인스턴스 업데이트\n",
    "    scheduler.step(score_val_total/len(testDL))\n",
    "    # print(f'scheduler.num_bad_epochs: {scheduler.num_bad_epochs}', end=' ') #보여주기용\n",
    "    # print(f'scheduler.patience: {scheduler.patience}')\n",
    "    # 손실 감소 (또는 성능 개선)이 안되는 경우 조기종료\n",
    "    if scheduler.num_bad_epochs== scheduler.patience:\n",
    "        print(f'{scheduler.patience} EPOCH 성능 개선이 없어서 조기종료함')\n",
    "        break"
   ]
  },
  {
   "cell_type": "code",
   "execution_count": 196,
   "metadata": {},
   "outputs": [],
   "source": [
    "from torchmetrics.classification import ConfusionMatrix"
   ]
  },
  {
   "cell_type": "code",
   "execution_count": 198,
   "metadata": {},
   "outputs": [],
   "source": [
    "a= torch.FloatTensor(X_test_scaled.values)\n",
    "t= model(a)"
   ]
  },
  {
   "cell_type": "code",
   "execution_count": 201,
   "metadata": {},
   "outputs": [
    {
     "ename": "AttributeError",
     "evalue": "'MulticlassConfusionMatrix' object has no attribute 'ndim'",
     "output_type": "error",
     "traceback": [
      "\u001b[1;31m---------------------------------------------------------------------------\u001b[0m",
      "\u001b[1;31mAttributeError\u001b[0m                            Traceback (most recent call last)",
      "Cell \u001b[1;32mIn[201], line 2\u001b[0m\n\u001b[0;32m      1\u001b[0m c\u001b[38;5;241m=\u001b[39mConfusionMatrix(task\u001b[38;5;241m=\u001b[39m\u001b[38;5;124m'\u001b[39m\u001b[38;5;124mmulticlass\u001b[39m\u001b[38;5;124m'\u001b[39m, num_classes\u001b[38;5;241m=\u001b[39m\u001b[38;5;241m5\u001b[39m)\n\u001b[1;32m----> 2\u001b[0m \u001b[43mc\u001b[49m\u001b[43m(\u001b[49m\u001b[43mc\u001b[49m\u001b[43m,\u001b[49m\u001b[43m \u001b[49m\u001b[43mval_target\u001b[49m\u001b[43m)\u001b[49m\n",
      "File \u001b[1;32mc:\\Users\\KDP-25\\anaconda3\\envs\\PYTORCH_38\\lib\\site-packages\\torch\\nn\\modules\\module.py:1553\u001b[0m, in \u001b[0;36mModule._wrapped_call_impl\u001b[1;34m(self, *args, **kwargs)\u001b[0m\n\u001b[0;32m   1551\u001b[0m     \u001b[38;5;28;01mreturn\u001b[39;00m \u001b[38;5;28mself\u001b[39m\u001b[38;5;241m.\u001b[39m_compiled_call_impl(\u001b[38;5;241m*\u001b[39margs, \u001b[38;5;241m*\u001b[39m\u001b[38;5;241m*\u001b[39mkwargs)  \u001b[38;5;66;03m# type: ignore[misc]\u001b[39;00m\n\u001b[0;32m   1552\u001b[0m \u001b[38;5;28;01melse\u001b[39;00m:\n\u001b[1;32m-> 1553\u001b[0m     \u001b[38;5;28;01mreturn\u001b[39;00m \u001b[38;5;28;43mself\u001b[39;49m\u001b[38;5;241;43m.\u001b[39;49m\u001b[43m_call_impl\u001b[49m\u001b[43m(\u001b[49m\u001b[38;5;241;43m*\u001b[39;49m\u001b[43margs\u001b[49m\u001b[43m,\u001b[49m\u001b[43m \u001b[49m\u001b[38;5;241;43m*\u001b[39;49m\u001b[38;5;241;43m*\u001b[39;49m\u001b[43mkwargs\u001b[49m\u001b[43m)\u001b[49m\n",
      "File \u001b[1;32mc:\\Users\\KDP-25\\anaconda3\\envs\\PYTORCH_38\\lib\\site-packages\\torch\\nn\\modules\\module.py:1562\u001b[0m, in \u001b[0;36mModule._call_impl\u001b[1;34m(self, *args, **kwargs)\u001b[0m\n\u001b[0;32m   1557\u001b[0m \u001b[38;5;66;03m# If we don't have any hooks, we want to skip the rest of the logic in\u001b[39;00m\n\u001b[0;32m   1558\u001b[0m \u001b[38;5;66;03m# this function, and just call forward.\u001b[39;00m\n\u001b[0;32m   1559\u001b[0m \u001b[38;5;28;01mif\u001b[39;00m \u001b[38;5;129;01mnot\u001b[39;00m (\u001b[38;5;28mself\u001b[39m\u001b[38;5;241m.\u001b[39m_backward_hooks \u001b[38;5;129;01mor\u001b[39;00m \u001b[38;5;28mself\u001b[39m\u001b[38;5;241m.\u001b[39m_backward_pre_hooks \u001b[38;5;129;01mor\u001b[39;00m \u001b[38;5;28mself\u001b[39m\u001b[38;5;241m.\u001b[39m_forward_hooks \u001b[38;5;129;01mor\u001b[39;00m \u001b[38;5;28mself\u001b[39m\u001b[38;5;241m.\u001b[39m_forward_pre_hooks\n\u001b[0;32m   1560\u001b[0m         \u001b[38;5;129;01mor\u001b[39;00m _global_backward_pre_hooks \u001b[38;5;129;01mor\u001b[39;00m _global_backward_hooks\n\u001b[0;32m   1561\u001b[0m         \u001b[38;5;129;01mor\u001b[39;00m _global_forward_hooks \u001b[38;5;129;01mor\u001b[39;00m _global_forward_pre_hooks):\n\u001b[1;32m-> 1562\u001b[0m     \u001b[38;5;28;01mreturn\u001b[39;00m \u001b[43mforward_call\u001b[49m\u001b[43m(\u001b[49m\u001b[38;5;241;43m*\u001b[39;49m\u001b[43margs\u001b[49m\u001b[43m,\u001b[49m\u001b[43m \u001b[49m\u001b[38;5;241;43m*\u001b[39;49m\u001b[38;5;241;43m*\u001b[39;49m\u001b[43mkwargs\u001b[49m\u001b[43m)\u001b[49m\n\u001b[0;32m   1564\u001b[0m \u001b[38;5;28;01mtry\u001b[39;00m:\n\u001b[0;32m   1565\u001b[0m     result \u001b[38;5;241m=\u001b[39m \u001b[38;5;28;01mNone\u001b[39;00m\n",
      "File \u001b[1;32mc:\\Users\\KDP-25\\anaconda3\\envs\\PYTORCH_38\\lib\\site-packages\\torchmetrics\\metric.py:312\u001b[0m, in \u001b[0;36mMetric.forward\u001b[1;34m(self, *args, **kwargs)\u001b[0m\n\u001b[0;32m    310\u001b[0m     \u001b[38;5;28mself\u001b[39m\u001b[38;5;241m.\u001b[39m_forward_cache \u001b[38;5;241m=\u001b[39m \u001b[38;5;28mself\u001b[39m\u001b[38;5;241m.\u001b[39m_forward_full_state_update(\u001b[38;5;241m*\u001b[39margs, \u001b[38;5;241m*\u001b[39m\u001b[38;5;241m*\u001b[39mkwargs)\n\u001b[0;32m    311\u001b[0m \u001b[38;5;28;01melse\u001b[39;00m:\n\u001b[1;32m--> 312\u001b[0m     \u001b[38;5;28mself\u001b[39m\u001b[38;5;241m.\u001b[39m_forward_cache \u001b[38;5;241m=\u001b[39m \u001b[38;5;28;43mself\u001b[39;49m\u001b[38;5;241;43m.\u001b[39;49m\u001b[43m_forward_reduce_state_update\u001b[49m\u001b[43m(\u001b[49m\u001b[38;5;241;43m*\u001b[39;49m\u001b[43margs\u001b[49m\u001b[43m,\u001b[49m\u001b[43m \u001b[49m\u001b[38;5;241;43m*\u001b[39;49m\u001b[38;5;241;43m*\u001b[39;49m\u001b[43mkwargs\u001b[49m\u001b[43m)\u001b[49m\n\u001b[0;32m    314\u001b[0m \u001b[38;5;28;01mreturn\u001b[39;00m \u001b[38;5;28mself\u001b[39m\u001b[38;5;241m.\u001b[39m_forward_cache\n",
      "File \u001b[1;32mc:\\Users\\KDP-25\\anaconda3\\envs\\PYTORCH_38\\lib\\site-packages\\torchmetrics\\metric.py:381\u001b[0m, in \u001b[0;36mMetric._forward_reduce_state_update\u001b[1;34m(self, *args, **kwargs)\u001b[0m\n\u001b[0;32m    378\u001b[0m \u001b[38;5;28mself\u001b[39m\u001b[38;5;241m.\u001b[39m_enable_grad \u001b[38;5;241m=\u001b[39m \u001b[38;5;28;01mTrue\u001b[39;00m  \u001b[38;5;66;03m# allow grads for batch computation\u001b[39;00m\n\u001b[0;32m    380\u001b[0m \u001b[38;5;66;03m# calculate batch state and compute batch value\u001b[39;00m\n\u001b[1;32m--> 381\u001b[0m \u001b[38;5;28;43mself\u001b[39;49m\u001b[38;5;241;43m.\u001b[39;49m\u001b[43mupdate\u001b[49m\u001b[43m(\u001b[49m\u001b[38;5;241;43m*\u001b[39;49m\u001b[43margs\u001b[49m\u001b[43m,\u001b[49m\u001b[43m \u001b[49m\u001b[38;5;241;43m*\u001b[39;49m\u001b[38;5;241;43m*\u001b[39;49m\u001b[43mkwargs\u001b[49m\u001b[43m)\u001b[49m\n\u001b[0;32m    382\u001b[0m batch_val \u001b[38;5;241m=\u001b[39m \u001b[38;5;28mself\u001b[39m\u001b[38;5;241m.\u001b[39mcompute()\n\u001b[0;32m    384\u001b[0m \u001b[38;5;66;03m# reduce batch and global state\u001b[39;00m\n",
      "File \u001b[1;32mc:\\Users\\KDP-25\\anaconda3\\envs\\PYTORCH_38\\lib\\site-packages\\torchmetrics\\metric.py:483\u001b[0m, in \u001b[0;36mMetric._wrap_update.<locals>.wrapped_func\u001b[1;34m(*args, **kwargs)\u001b[0m\n\u001b[0;32m    481\u001b[0m \u001b[38;5;28;01mwith\u001b[39;00m torch\u001b[38;5;241m.\u001b[39mset_grad_enabled(\u001b[38;5;28mself\u001b[39m\u001b[38;5;241m.\u001b[39m_enable_grad):\n\u001b[0;32m    482\u001b[0m     \u001b[38;5;28;01mtry\u001b[39;00m:\n\u001b[1;32m--> 483\u001b[0m         \u001b[43mupdate\u001b[49m\u001b[43m(\u001b[49m\u001b[38;5;241;43m*\u001b[39;49m\u001b[43margs\u001b[49m\u001b[43m,\u001b[49m\u001b[43m \u001b[49m\u001b[38;5;241;43m*\u001b[39;49m\u001b[38;5;241;43m*\u001b[39;49m\u001b[43mkwargs\u001b[49m\u001b[43m)\u001b[49m\n\u001b[0;32m    484\u001b[0m     \u001b[38;5;28;01mexcept\u001b[39;00m \u001b[38;5;167;01mRuntimeError\u001b[39;00m \u001b[38;5;28;01mas\u001b[39;00m err:\n\u001b[0;32m    485\u001b[0m         \u001b[38;5;28;01mif\u001b[39;00m \u001b[38;5;124m\"\u001b[39m\u001b[38;5;124mExpected all tensors to be on\u001b[39m\u001b[38;5;124m\"\u001b[39m \u001b[38;5;129;01min\u001b[39;00m \u001b[38;5;28mstr\u001b[39m(err):\n",
      "File \u001b[1;32mc:\\Users\\KDP-25\\anaconda3\\envs\\PYTORCH_38\\lib\\site-packages\\torchmetrics\\classification\\confusion_matrix.py:283\u001b[0m, in \u001b[0;36mMulticlassConfusionMatrix.update\u001b[1;34m(self, preds, target)\u001b[0m\n\u001b[0;32m    281\u001b[0m \u001b[38;5;250m\u001b[39m\u001b[38;5;124;03m\"\"\"Update state with predictions and targets.\"\"\"\u001b[39;00m\n\u001b[0;32m    282\u001b[0m \u001b[38;5;28;01mif\u001b[39;00m \u001b[38;5;28mself\u001b[39m\u001b[38;5;241m.\u001b[39mvalidate_args:\n\u001b[1;32m--> 283\u001b[0m     \u001b[43m_multiclass_confusion_matrix_tensor_validation\u001b[49m\u001b[43m(\u001b[49m\u001b[43mpreds\u001b[49m\u001b[43m,\u001b[49m\u001b[43m \u001b[49m\u001b[43mtarget\u001b[49m\u001b[43m,\u001b[49m\u001b[43m \u001b[49m\u001b[38;5;28;43mself\u001b[39;49m\u001b[38;5;241;43m.\u001b[39;49m\u001b[43mnum_classes\u001b[49m\u001b[43m,\u001b[49m\u001b[43m \u001b[49m\u001b[38;5;28;43mself\u001b[39;49m\u001b[38;5;241;43m.\u001b[39;49m\u001b[43mignore_index\u001b[49m\u001b[43m)\u001b[49m\n\u001b[0;32m    284\u001b[0m preds, target \u001b[38;5;241m=\u001b[39m _multiclass_confusion_matrix_format(preds, target, \u001b[38;5;28mself\u001b[39m\u001b[38;5;241m.\u001b[39mignore_index)\n\u001b[0;32m    285\u001b[0m confmat \u001b[38;5;241m=\u001b[39m _multiclass_confusion_matrix_update(preds, target, \u001b[38;5;28mself\u001b[39m\u001b[38;5;241m.\u001b[39mnum_classes)\n",
      "File \u001b[1;32mc:\\Users\\KDP-25\\anaconda3\\envs\\PYTORCH_38\\lib\\site-packages\\torchmetrics\\functional\\classification\\confusion_matrix.py:263\u001b[0m, in \u001b[0;36m_multiclass_confusion_matrix_tensor_validation\u001b[1;34m(preds, target, num_classes, ignore_index)\u001b[0m\n\u001b[0;32m    251\u001b[0m \u001b[38;5;28;01mdef\u001b[39;00m \u001b[38;5;21m_multiclass_confusion_matrix_tensor_validation\u001b[39m(\n\u001b[0;32m    252\u001b[0m     preds: Tensor, target: Tensor, num_classes: \u001b[38;5;28mint\u001b[39m, ignore_index: Optional[\u001b[38;5;28mint\u001b[39m] \u001b[38;5;241m=\u001b[39m \u001b[38;5;28;01mNone\u001b[39;00m\n\u001b[0;32m    253\u001b[0m ) \u001b[38;5;241m-\u001b[39m\u001b[38;5;241m>\u001b[39m \u001b[38;5;28;01mNone\u001b[39;00m:\n\u001b[0;32m    254\u001b[0m \u001b[38;5;250m    \u001b[39m\u001b[38;5;124;03m\"\"\"Validate tensor input.\u001b[39;00m\n\u001b[0;32m    255\u001b[0m \n\u001b[0;32m    256\u001b[0m \u001b[38;5;124;03m    - if target has one more dimension than preds, then all dimensions except for preds.shape[1] should match\u001b[39;00m\n\u001b[1;32m   (...)\u001b[0m\n\u001b[0;32m    261\u001b[0m \n\u001b[0;32m    262\u001b[0m \u001b[38;5;124;03m    \"\"\"\u001b[39;00m\n\u001b[1;32m--> 263\u001b[0m     \u001b[38;5;28;01mif\u001b[39;00m \u001b[43mpreds\u001b[49m\u001b[38;5;241;43m.\u001b[39;49m\u001b[43mndim\u001b[49m \u001b[38;5;241m==\u001b[39m target\u001b[38;5;241m.\u001b[39mndim \u001b[38;5;241m+\u001b[39m \u001b[38;5;241m1\u001b[39m:\n\u001b[0;32m    264\u001b[0m         \u001b[38;5;28;01mif\u001b[39;00m \u001b[38;5;129;01mnot\u001b[39;00m preds\u001b[38;5;241m.\u001b[39mis_floating_point():\n\u001b[0;32m    265\u001b[0m             \u001b[38;5;28;01mraise\u001b[39;00m \u001b[38;5;167;01mValueError\u001b[39;00m(\u001b[38;5;124m\"\u001b[39m\u001b[38;5;124mIf `preds` have one dimension more than `target`, `preds` should be a float tensor.\u001b[39m\u001b[38;5;124m\"\u001b[39m)\n",
      "File \u001b[1;32mc:\\Users\\KDP-25\\anaconda3\\envs\\PYTORCH_38\\lib\\site-packages\\torch\\nn\\modules\\module.py:1729\u001b[0m, in \u001b[0;36mModule.__getattr__\u001b[1;34m(self, name)\u001b[0m\n\u001b[0;32m   1727\u001b[0m     \u001b[38;5;28;01mif\u001b[39;00m name \u001b[38;5;129;01min\u001b[39;00m modules:\n\u001b[0;32m   1728\u001b[0m         \u001b[38;5;28;01mreturn\u001b[39;00m modules[name]\n\u001b[1;32m-> 1729\u001b[0m \u001b[38;5;28;01mraise\u001b[39;00m \u001b[38;5;167;01mAttributeError\u001b[39;00m(\u001b[38;5;124mf\u001b[39m\u001b[38;5;124m\"\u001b[39m\u001b[38;5;124m'\u001b[39m\u001b[38;5;132;01m{\u001b[39;00m\u001b[38;5;28mtype\u001b[39m(\u001b[38;5;28mself\u001b[39m)\u001b[38;5;241m.\u001b[39m\u001b[38;5;18m__name__\u001b[39m\u001b[38;5;132;01m}\u001b[39;00m\u001b[38;5;124m'\u001b[39m\u001b[38;5;124m object has no attribute \u001b[39m\u001b[38;5;124m'\u001b[39m\u001b[38;5;132;01m{\u001b[39;00mname\u001b[38;5;132;01m}\u001b[39;00m\u001b[38;5;124m'\u001b[39m\u001b[38;5;124m\"\u001b[39m)\n",
      "\u001b[1;31mAttributeError\u001b[0m: 'MulticlassConfusionMatrix' object has no attribute 'ndim'"
     ]
    }
   ],
   "source": [
    "c=ConfusionMatrix(task='multiclass', num_classes=5)\n",
    "c(c, val_target)"
   ]
  },
  {
   "cell_type": "code",
   "execution_count": 195,
   "metadata": {},
   "outputs": [
    {
     "data": {
      "image/png": "[encoded data removed]",
      "text/plain": [
       "<Figure size 1500x600 with 2 Axes>"
      ]
     },
     "metadata": {},
     "output_type": "display_data"
    }
   ],
   "source": [
    "fig, (ax1, ax2)= plt.subplots(1,2, figsize=(15,6))\n",
    "ax1.plot(range(1,9+1), LOSS_HISTORY[0][:9], label='Train')\n",
    "ax1.plot(range(1,9+1), LOSS_HISTORY[1][:9], label='Val')\n",
    "ax1.set_title('Train & Val Loss')\n",
    "ax2.plot(range(1, 9+1), SCORE_HISTORY[0][:9], label='Train')\n",
    "ax2.plot(range(1, 9+1), SCORE_HISTORY[1][:9], label='Val')\n",
    "ax2.set_title('Train & Val Score')\n",
    "plt.legend()\n",
    "plt.show()"
   ]
  },
  {
   "cell_type": "code",
   "execution_count": 89,
   "metadata": {},
   "outputs": [],
   "source": [
    "## 저장경로\n",
    "SAVE_PATH= r'C:\\Users\\KDP-25\\Desktop\\KDT_06\\Pytorch\\project\\cgi-bin'\n",
    "\n",
    "# 저장 파일명\n",
    "SAVE_MODEL = SAVE_PATH+'\\health_wbs.pth'\n",
    "\n",
    "if os.path.exists(SAVE_MODEL):\n",
    "   Model= torch.load(SAVE_MODEL, weights_only=False)"
   ]
  },
  {
   "cell_type": "code",
   "execution_count": 91,
   "metadata": {},
   "outputs": [
    {
     "name": "stdout",
     "output_type": "stream",
     "text": [
      "None\n"
     ]
    }
   ],
   "source": [
    "sample=[30,190,50, 9, 0, 0, 50, 50, 5*1000, 10,10, 0,0,0,0,0,1,1,1,0,0,0,0,0,0]\n",
    "result=['Poor', 'Fair', 'Good', 'Very_good', 'Excellent']\n",
    "r=predicting(Model, sample, type='muticlass', result=result)\n",
    "print(r)"
   ]
  },
  {
   "cell_type": "code",
   "execution_count": 117,
   "metadata": {},
   "outputs": [
    {
     "name": "stdout",
     "output_type": "stream",
     "text": [
      "Poor: 0.3564\n"
     ]
    }
   ],
   "source": [
    "sample=[300,1900,5000, 900, 10, 10, 5000, 5000, 5*1000, 100,1000, 1,1123,112,1213,1,0,0,1,1,0,1,1,1,1]\n",
    "dataTS=torch.FloatTensor(sample).reshape(1,-1)\n",
    "pre_val=Model(dataTS)\n",
    "pre_val=F.softmax(pre_val, dim=1)\n",
    "a= pre_val.argmax().item()\n",
    "print(f'{result[0]}: {max(pre_val[0].detach()):.4f}')\n",
    "# return f'{result[0]}: {max(pre_val[0].detach()):.4f}'"
   ]
  },
  {
   "cell_type": "code",
   "execution_count": 88,
   "metadata": {},
   "outputs": [
    {
     "data": {
      "text/plain": [
       "Index(['age', 'weight', 'bmi', 'sleptime', 'children', 'smoker', 'acholPM',\n",
       "       'ave_drnk', 'exer_num', 'fruit', 'veg', 'emo_support', 'chronic',\n",
       "       'hacarth', 'addep', 'kidny', 'diabete', 'cancer', 'employ_A student',\n",
       "       'employ_Employed for wages', 'employ_Out of work for 1 year or more',\n",
       "       'employ_Out of work for less than 1 year', 'employ_Retired',\n",
       "       'employ_Self-employed', 'employ_Unable to work'],\n",
       "      dtype='object')"
      ]
     },
     "execution_count": 88,
     "metadata": {},
     "output_type": "execute_result"
    }
   ],
   "source": [
    "life_T.feature.columns"
   ]
  },
  {
   "cell_type": "code",
   "execution_count": 89,
   "metadata": {},
   "outputs": [
    {
     "data": {
      "text/plain": [
       "fruit\n",
       "1.0    291549\n",
       "0.0    199849\n",
       "Name: count, dtype: int64"
      ]
     },
     "execution_count": 89,
     "metadata": {},
     "output_type": "execute_result"
    }
   ],
   "source": [
    "life_T.feature['fruit'].value_counts()"
   ]
  },
  {
   "cell_type": "code",
   "execution_count": null,
   "metadata": {},
   "outputs": [],
   "source": []
  }
 ],
 "metadata": {
  "kernelspec": {
   "display_name": "car_cls",
   "language": "python",
   "name": "python3"
  },
  "language_info": {
   "codemirror_mode": {
    "name": "ipython",
    "version": 3
   },
   "file_extension": ".py",
   "mimetype": "text/x-python",
   "name": "python",
   "nbconvert_exporter": "python",
   "pygments_lexer": "ipython3",
   "version": "3.10.16"
  }
 },
 "nbformat": 4,
 "nbformat_minor": 2
}
